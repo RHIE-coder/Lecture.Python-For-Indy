{
 "cells": [
  {
   "cell_type": "markdown",
   "id": "2cc8b662-ea38-431e-b026-18ebaebe616f",
   "metadata": {
    "tags": []
   },
   "source": [
    "# 01. About Python"
   ]
  },
  {
   "cell_type": "markdown",
   "id": "1a447ce9-4586-477f-a7a0-8271b28fe92f",
   "metadata": {
    "tags": []
   },
   "source": [
    "## - History"
   ]
  },
  {
   "cell_type": "markdown",
   "id": "1010ac8c-5c7e-4ecf-8200-b4cc2291e9f9",
   "metadata": {},
   "source": [
    "파이썬 이라는 이름은 Monty Python's Flying Circus라는 BBC쇼에서 따온 것, 파충류와는 아무 관련이 없음\n",
    "\n",
    "1994년 귀도 반 로섬(Guido Van Rossum)에 의해 시작. 크리스마스 떄 취미로 만듬."
   ]
  },
  {
   "cell_type": "markdown",
   "id": "29c4f8ee-c7cb-4740-810c-edb789acee0e",
   "metadata": {},
   "source": [
    "## - Structure"
   ]
  },
  {
   "cell_type": "markdown",
   "id": "172830dc-0340-47c5-8bda-0c9ccb98ab53",
   "metadata": {},
   "source": [
    "인터프리터 언어"
   ]
  },
  {
   "cell_type": "markdown",
   "id": "707d33e4-eb94-4122-a795-f5153a2bc976",
   "metadata": {},
   "source": [
    "## - Before Python Programming, You Should Know:"
   ]
  },
  {
   "cell_type": "markdown",
   "id": "c59f298b-4583-4ecf-8d11-e673fd4c3c43",
   "metadata": {
    "tags": []
   },
   "source": [
    "### * 파이썬의 기본 인코딩은 UTF-8이다."
   ]
  },
  {
   "cell_type": "code",
   "execution_count": null,
   "id": "7cb3c3a0-2bd6-43c3-a427-987502a5f794",
   "metadata": {},
   "outputs": [],
   "source": [
    "# -*- coding: UTF-8 -*-"
   ]
  },
  {
   "cell_type": "markdown",
   "id": "7ace05e1-f3f0-48d2-9439-639b3f23a3a2",
   "metadata": {},
   "source": [
    "인코딩을 기본값 외의 것으로 선언시 : "
   ]
  },
  {
   "cell_type": "code",
   "execution_count": null,
   "id": "5f9aa691-2a52-46ce-82eb-38db8ed2b87e",
   "metadata": {},
   "outputs": [],
   "source": [
    "# -*- coding: cp1252 -*-"
   ]
  },
  {
   "cell_type": "markdown",
   "id": "a255a15e-b208-4459-8371-3d0417897cf0",
   "metadata": {},
   "source": [
    "### * 파이썬은 모두 객체다."
   ]
  },
  {
   "cell_type": "markdown",
   "id": "66b150cc-3e67-49d4-92c2-92af248507bd",
   "metadata": {},
   "source": [
    " - id() : 주소 값을 알 수 있다."
   ]
  },
  {
   "cell_type": "code",
   "execution_count": null,
   "id": "dcbab6ae-04cb-496c-9155-2a003fd0e2e2",
   "metadata": {},
   "outputs": [],
   "source": [
    "a = 10\n",
    "id(a) # 객체 고유의 값"
   ]
  },
  {
   "cell_type": "markdown",
   "id": "85fdfe23-d265-41c4-a98f-052c2fb43fbd",
   "metadata": {},
   "source": [
    " - dir() : 해당 객체가 어떤 변수와 메소드를 가지고 있는지 확인할 수 있다."
   ]
  },
  {
   "cell_type": "code",
   "execution_count": null,
   "id": "58ce9d45-665e-46bb-9007-5e7d9b6b3b22",
   "metadata": {},
   "outputs": [],
   "source": [
    "dir(int)"
   ]
  },
  {
   "cell_type": "markdown",
   "id": "90342eac-8cb4-49c1-8956-e104316a5b7a",
   "metadata": {
    "tags": []
   },
   "source": [
    "### * help() : 사용법"
   ]
  },
  {
   "cell_type": "code",
   "execution_count": null,
   "id": "051f4788-0bed-427d-8243-ff3e435952db",
   "metadata": {},
   "outputs": [],
   "source": [
    "help(dir)"
   ]
  },
  {
   "cell_type": "markdown",
   "id": "4a174643-51d8-4eb6-b602-5d7e0d9540d0",
   "metadata": {},
   "source": [
    "### * 코딩스타일"
   ]
  },
  {
   "cell_type": "markdown",
   "id": "2233d7ba-05a5-45ad-9452-7ca1f32a3960",
   "metadata": {},
   "source": [
    " - indent는 4space로하며 tab은 사용을 금한다\n",
    " - 한 줄에 79자를 넘기지 않는다\n",
    " - 독스트링을 사용하자\n",
    " - 연산자들 주변과 콤마 뒤에 스페이스를 넣고 괄호는 붙인다\n",
    " - 클래스는 UpperCamelCase, 함수와 메서드는 lowercase_with_underscores\n",
    " - UTF-8을 지키자"
   ]
  },
  {
   "cell_type": "markdown",
   "id": "768c90b6-eea0-40bc-b8e7-df289580deaa",
   "metadata": {},
   "source": [
    "### * 주석"
   ]
  },
  {
   "cell_type": "code",
   "execution_count": null,
   "id": "4d3aca7b-3397-49f6-856a-e232450c27df",
   "metadata": {},
   "outputs": [],
   "source": [
    "# This is comment"
   ]
  },
  {
   "cell_type": "markdown",
   "id": "c682c52e-2b94-4ca9-9686-90d5a449aff0",
   "metadata": {},
   "source": [
    "### * print() : 출력"
   ]
  },
  {
   "cell_type": "code",
   "execution_count": null,
   "id": "7b071586-765a-4f34-8394-c16f1bc39aff",
   "metadata": {},
   "outputs": [],
   "source": [
    "a = 123\n",
    "print(a)\n",
    "print(\"출력 함수\")\n",
    "print(1, 2, \"이렇게\", 3, 4, \"여러가지\", \"출력\", sep=\"# \")\n",
    "print(\"Hello \", \"World!\", end=\" | \")\n",
    "print(321)"
   ]
  },
  {
   "cell_type": "markdown",
   "id": "1e0f4a5a-7339-4554-a9d9-a0f71fc6e826",
   "metadata": {},
   "source": [
    "<br>\n",
    "<br>\n",
    "<br>\n",
    "<br>\n",
    "<br>\n",
    "<br>\n",
    "<hr>\n",
    "<br>\n",
    "<br>\n",
    "<br>\n",
    "<br>\n",
    "<br>\n",
    "<br>"
   ]
  },
  {
   "cell_type": "markdown",
   "id": "bc4e1f1a-026e-40cf-8424-9e21b939664f",
   "metadata": {
    "tags": []
   },
   "source": [
    "# 02. 변수와 자료형"
   ]
  },
  {
   "cell_type": "markdown",
   "id": "70d27fe5-a4f5-4833-adc1-ed5d5975aaa8",
   "metadata": {
    "tags": []
   },
   "source": [
    "## - 자료형\n",
    "\n",
    " - int\n",
    " - float\n",
    " - string\n",
    " - boolean\n",
    " - list\n",
    " - dict\n",
    " - tuple\n",
    " - None\n",
    " \n",
    "\n",
    "long형은 존재하지 않는다"
   ]
  },
  {
   "cell_type": "markdown",
   "id": "aceb5401-256d-410b-8297-75e85b3bd9c5",
   "metadata": {},
   "source": [
    "### * type() : 자료형을 확인한다"
   ]
  },
  {
   "cell_type": "code",
   "execution_count": null,
   "id": "f7848483-fefc-4db3-b8eb-91ad838dac79",
   "metadata": {},
   "outputs": [],
   "source": [
    "type(\"hello\")"
   ]
  },
  {
   "cell_type": "code",
   "execution_count": null,
   "id": "125bf011-4624-4bd1-8ef8-d765d4c729c7",
   "metadata": {},
   "outputs": [],
   "source": [
    "type(10)"
   ]
  },
  {
   "cell_type": "markdown",
   "id": "ed445193-fe3f-4bba-b111-1665e7f33788",
   "metadata": {},
   "source": [
    "## - 변수"
   ]
  },
  {
   "cell_type": "markdown",
   "id": "824fac87-1d00-4c70-ba00-eab7f7cb23c8",
   "metadata": {
    "tags": []
   },
   "source": [
    "### * 변수 할당"
   ]
  },
  {
   "cell_type": "code",
   "execution_count": null,
   "id": "5b718a4f-0d78-4aaf-8727-38856ed3d3dc",
   "metadata": {},
   "outputs": [],
   "source": [
    "a = 10\n",
    "print(a)"
   ]
  },
  {
   "cell_type": "code",
   "execution_count": null,
   "id": "acc9324e-b629-4724-94f2-88b7bee283bb",
   "metadata": {},
   "outputs": [],
   "source": [
    "a, b, c = 10, \"hello\" ,3.14\n",
    "print(a, type(a))\n",
    "print(b, type(b))\n",
    "print(c, type(c))"
   ]
  },
  {
   "cell_type": "markdown",
   "id": "eacf0812-d935-4681-bbff-d27a6c709deb",
   "metadata": {},
   "source": [
    "### * 캐스팅 ( 자료형 변환 )"
   ]
  },
  {
   "cell_type": "code",
   "execution_count": null,
   "id": "f016d530-b3fd-4d99-94bc-c14466963401",
   "metadata": {},
   "outputs": [],
   "source": [
    "a = input()\n",
    "print(type(a))\n",
    "a = int(a)\n",
    "print(type(a))"
   ]
  },
  {
   "cell_type": "markdown",
   "id": "8204c075-fb27-4c4d-9cab-2c92c1a80199",
   "metadata": {},
   "source": [
    "### * del ( 삭제 )"
   ]
  },
  {
   "cell_type": "code",
   "execution_count": null,
   "id": "6913cb19-2c47-431f-ac7d-5e4604284db8",
   "metadata": {},
   "outputs": [],
   "source": [
    "a = \"hello world\"\n",
    "print(a)\n",
    "del a\n",
    "print(a)"
   ]
  },
  {
   "cell_type": "markdown",
   "id": "70ca50e3-3b17-463a-90f4-b61ab44b04ea",
   "metadata": {},
   "source": [
    "나중에 자세히 배우겠지만 먼저 배열이 무엇인지 맛봅시다. 아래와 같은 코드를 짠다고 가정해보겠습니다.\n",
    "\n",
    "```python\n",
    "korea_region1 = \"서울\";\n",
    "korea_region2 = \"경기도\";\n",
    "korea_region3 = \"부산\";\n",
    "korea_region4 = \"대구\";\n",
    "korea_region5 = \"광주\";\n",
    "korea_region6 = \"대전\";\n",
    "```"
   ]
  },
  {
   "cell_type": "markdown",
   "id": "74e200ea-5d94-48e3-bf4b-8b538fdeef84",
   "metadata": {},
   "source": [
    "뭔가 비효율적이지 않나요? 같은 `korea_region`인 변수들입니다. 나중에 활용하기도 쉽지 않지요. 다음과 같이 이 모든 변수의 값들을 한 곳에 모으면 어떨까요? \n",
    "\n",
    "```python\n",
    "korea_region = [\"서울\", \"경기도\", \"부산\", \"대구\", \"광주\", \"대전\"];\n",
    "```"
   ]
  },
  {
   "cell_type": "markdown",
   "id": "b4fb9eab-cd78-46b5-bd1f-63321243ee6f",
   "metadata": {},
   "source": [
    "한결, 편하게 볼 수 있게 됬네요. 이젠 이것을 어떻게 써볼까요. \n",
    "\n",
    "바로 `index`를 활용하면 됩니다. *서울*, *경기도*, *부산*... 등 이 배열의 값들을 각각 배열의 요소(Element)라고 하고, `index`는 배열 요소의 각 위치를 나타냅니다."
   ]
  },
  {
   "cell_type": "markdown",
   "id": "e879bd2e-3d40-4752-a3f6-8bcdf9116b45",
   "metadata": {},
   "source": [
    "|*`배열 요소 위치`*|1번째 위치|2번째 위치|3번째 위치|4번째 위치|5번째 위치|6번째 위치|\n",
    "|:---:|:---:|:---:|:---:|:---:|:---:|:---:|\n",
    "|*`index`*|0|1|2|3|4|5|\n",
    "|*`배열 요소 값`*| \"서울\" | \"경기도\" | \"부산\" | \"대구\" | \"광주\" | \"대전\" |\n"
   ]
  },
  {
   "cell_type": "markdown",
   "id": "c6e2100b-9229-40f8-bc87-1f48400e4f62",
   "metadata": {},
   "source": [
    "```python\n",
    "print(korea_region[0]) //서울\n",
    "print(korea_region[1]) //경기도\n",
    "print(korea_region[2]) //부산\n",
    "print(korea_region[3]) //대구\n",
    "print(korea_region[4]) //광주\n",
    "print(korea_region[5]) //대전\n",
    "print(korea_region[6]) //None\n",
    "```"
   ]
  },
  {
   "cell_type": "markdown",
   "id": "87e03b2e-27e5-4b8c-9797-6c3a3c34fa6a",
   "metadata": {},
   "source": [
    "korea_region[6]의 결과를 살펴보니 list index out of range의 에러가 발생하네요. 이유를 알아보기 전에 우선 배열의 크기를 알아봅시다."
   ]
  },
  {
   "cell_type": "markdown",
   "id": "35eb2190-d678-4ef3-9509-963ee6acfc72",
   "metadata": {},
   "source": [
    "```python\n",
    "print(len(korea_region)) //6\n",
    "```"
   ]
  },
  {
   "cell_type": "markdown",
   "id": "bfeeacb8-9746-4e55-b50b-ace1772b10d5",
   "metadata": {},
   "source": [
    "이 `korea_region`의 배열의 크기는 6입니다.\n",
    "\n",
    "그런데 7번째 내용을 출력하라고 했습니다. 있지도 않은 값을 출력하라고 명령한 것과 다름이 없으므로 애초에 정의되어 있지 않아 에러가 ㅂ\n",
    "\n",
    "우리에게 익숙한 `1번째, 2번째, 3번째...` 와 달리 `index`는 0부터 시작합니다. 그래서 프로그래밍을 처음 접하시는 분들은 처음에 익숙하지 않아 힘들 수도 있습니다. 그래도 힘들지만 익숙해져봅시다. 자주 쓰시다 보면 생각보다 금방 익숙해집니다."
   ]
  },
  {
   "cell_type": "markdown",
   "id": "20854e5b-7211-4fec-8908-796250b46d9d",
   "metadata": {},
   "source": [
    "### * mutable and immutable\n",
    "\n",
    "데이터 타입에 따라 값이 변할 수 있는 mutable 방식과 값이 변할 수 없는 immutalbe 방식으로 나뉜다.\n",
    "\n",
    "다음 코드를 보면\n",
    "\n",
    "```python\n",
    "var = \"hello\"\n",
    "print(var) # output : \"hello\"\n",
    "var = \"hello world\"\n",
    "print(var) # output : \"hello world\"\n",
    "```\n",
    "\n",
    "출력해보면 var의 변수 값이 바뀐 것을 볼 수 있다.\n",
    "\n",
    "그런데 사실은 `\"hello\"`라는 값이 `\"hello world\"`라는 값으로 바뀐것이 아니라\n",
    "\n",
    "기존의 값(`\"hello\"`)은 메모리에 그대로 있고 `\"hello world\"`라는 값이 메모리에 새로 생겨나 그 값을 var이라는 변수가 가리킬 뿐이다.\n",
    "\n",
    "즉, `\"hello\"`라는 값은 여전히 메모리에 살아있고 var이 가리키지 않을 뿐이다.\n",
    "\n",
    "이후 가비지 컬랙터(Garbage Collector, GC)가 아무도 가리키지 않고 메모리에 홀로 덩그러니 남겨져 있는 이 `\"hello\"` 값을 없앤다."
   ]
  },
  {
   "cell_type": "markdown",
   "id": "833db2b1-c830-4f37-9a33-3f420c086f5a",
   "metadata": {},
   "source": [
    " - 예를 들어, 문자열과 정수는 immutable하다"
   ]
  },
  {
   "cell_type": "code",
   "execution_count": null,
   "id": "b636f378-678a-41fe-a95d-fafe2eefdd2a",
   "metadata": {},
   "outputs": [],
   "source": [
    "num = 10\n",
    "copy_num = num\n",
    "print(id(num), id(copy_num)) # 두 개의 정수 값의 주소값이 같다.\n",
    "copy_num = 20\n",
    "print(id(num), id(copy_num)) # 두 개의 정수 값의 주소값이 다르다."
   ]
  },
  {
   "cell_type": "code",
   "execution_count": null,
   "id": "10940b51-a2a0-4652-8c6d-011f6a35263d",
   "metadata": {},
   "outputs": [],
   "source": [
    "string = \"Hi\"\n",
    "copy_string = string\n",
    "print(id(string), id(copy_string)) # 두 개의 문자열 값의 주소값이 같다.\n",
    "copy_string = \"Hello\"\n",
    "print(id(string), id(copy_string)) # 두 개의 문자열 값의 주소값이 다르다."
   ]
  },
  {
   "cell_type": "markdown",
   "id": "13da9ccb-34d6-4e51-9d66-562e58ebfb14",
   "metadata": {},
   "source": [
    " - 예를 들어, 리스트는 mutable하다"
   ]
  },
  {
   "cell_type": "code",
   "execution_count": null,
   "id": "4df452c3-d20c-4d04-848d-7c76f41183b0",
   "metadata": {},
   "outputs": [],
   "source": [
    "objs = [1, 2, 3, \"This is List\"]\n",
    "copy_objs = objs\n",
    "objs[0] = 100 # 첫번째 값을 100으로 변경\n",
    "print(objs, copy_objs) # 두 개 변수의 리스트 값이 모두 바뀌었다.\n",
    "print(id(objs), id(copy_objs)) # 두 개의 주소값이 같다."
   ]
  },
  {
   "cell_type": "markdown",
   "id": "f6a30bc2-44c7-406a-b805-d14bc90f8f2c",
   "metadata": {},
   "source": [
    "<br>\n",
    "<br>\n",
    "<br>\n",
    "<br>\n",
    "<br>\n",
    "<br>\n",
    "<hr>\n",
    "<br>\n",
    "<br>\n",
    "<br>\n",
    "<br>\n",
    "<br>\n",
    "<br>"
   ]
  }
 ],
 "metadata": {
  "kernelspec": {
   "display_name": "Python 3 (ipykernel)",
   "language": "python",
   "name": "python3"
  },
  "language_info": {
   "codemirror_mode": {
    "name": "ipython",
    "version": 3
   },
   "file_extension": ".py",
   "mimetype": "text/x-python",
   "name": "python",
   "nbconvert_exporter": "python",
   "pygments_lexer": "ipython3",
   "version": "3.9.7"
  }
 },
 "nbformat": 4,
 "nbformat_minor": 5
}
