{
 "cells": [
  {
   "cell_type": "markdown",
   "id": "2cc8b662-ea38-431e-b026-18ebaebe616f",
   "metadata": {
    "tags": []
   },
   "source": [
    "# 01. About Python"
   ]
  },
  {
   "cell_type": "markdown",
   "id": "1a447ce9-4586-477f-a7a0-8271b28fe92f",
   "metadata": {
    "tags": []
   },
   "source": [
    "## - History"
   ]
  },
  {
   "cell_type": "markdown",
   "id": "1010ac8c-5c7e-4ecf-8200-b4cc2291e9f9",
   "metadata": {},
   "source": [
    "파이썬 이라는 이름은 Monty Python's Flying Circus라는 BBC쇼에서 따온 것, 파충류와는 아무 관련이 없음\n",
    "\n",
    "1994년 귀도 반 로섬(Guido Van Rossum)에 의해 시작. 크리스마스 떄 취미로 만듬."
   ]
  },
  {
   "cell_type": "markdown",
   "id": "29c4f8ee-c7cb-4740-810c-edb789acee0e",
   "metadata": {},
   "source": [
    "## - Structure"
   ]
  },
  {
   "cell_type": "markdown",
   "id": "172830dc-0340-47c5-8bda-0c9ccb98ab53",
   "metadata": {},
   "source": [
    "인터프리터 언어"
   ]
  },
  {
   "cell_type": "markdown",
   "id": "707d33e4-eb94-4122-a795-f5153a2bc976",
   "metadata": {},
   "source": [
    "## - Before Python Programming, You Should Know:"
   ]
  },
  {
   "cell_type": "markdown",
   "id": "c59f298b-4583-4ecf-8d11-e673fd4c3c43",
   "metadata": {
    "tags": []
   },
   "source": [
    "### * 파이썬의 기본 인코딩은 UTF-8이다."
   ]
  },
  {
   "cell_type": "code",
   "execution_count": null,
   "id": "7cb3c3a0-2bd6-43c3-a427-987502a5f794",
   "metadata": {},
   "outputs": [],
   "source": [
    "# -*- coding: UTF-8 -*-"
   ]
  },
  {
   "cell_type": "markdown",
   "id": "7ace05e1-f3f0-48d2-9439-639b3f23a3a2",
   "metadata": {},
   "source": [
    "인코딩을 기본값 외의 것으로 선언시 : "
   ]
  },
  {
   "cell_type": "code",
   "execution_count": null,
   "id": "5f9aa691-2a52-46ce-82eb-38db8ed2b87e",
   "metadata": {},
   "outputs": [],
   "source": [
    "# -*- coding: cp1252 -*-"
   ]
  },
  {
   "cell_type": "markdown",
   "id": "a255a15e-b208-4459-8371-3d0417897cf0",
   "metadata": {},
   "source": [
    "### * 파이썬은 모두 객체다."
   ]
  },
  {
   "cell_type": "markdown",
   "id": "66b150cc-3e67-49d4-92c2-92af248507bd",
   "metadata": {},
   "source": [
    " - id() : 주소 값을 알 수 있다."
   ]
  },
  {
   "cell_type": "code",
   "execution_count": null,
   "id": "dcbab6ae-04cb-496c-9155-2a003fd0e2e2",
   "metadata": {},
   "outputs": [],
   "source": [
    "a = 10\n",
    "id(a) # 객체 고유의 값"
   ]
  },
  {
   "cell_type": "markdown",
   "id": "85fdfe23-d265-41c4-a98f-052c2fb43fbd",
   "metadata": {},
   "source": [
    " - dir() : 해당 객체가 어떤 변수와 메소드를 가지고 있는지 확인할 수 있다."
   ]
  },
  {
   "cell_type": "code",
   "execution_count": null,
   "id": "58ce9d45-665e-46bb-9007-5e7d9b6b3b22",
   "metadata": {},
   "outputs": [],
   "source": [
    "dir(int)"
   ]
  },
  {
   "cell_type": "markdown",
   "id": "90342eac-8cb4-49c1-8956-e104316a5b7a",
   "metadata": {
    "tags": []
   },
   "source": [
    "### * help() : 사용법"
   ]
  },
  {
   "cell_type": "code",
   "execution_count": null,
   "id": "051f4788-0bed-427d-8243-ff3e435952db",
   "metadata": {},
   "outputs": [],
   "source": [
    "help(dir)"
   ]
  },
  {
   "cell_type": "markdown",
   "id": "4a174643-51d8-4eb6-b602-5d7e0d9540d0",
   "metadata": {},
   "source": [
    "### * 코딩스타일"
   ]
  },
  {
   "cell_type": "markdown",
   "id": "2233d7ba-05a5-45ad-9452-7ca1f32a3960",
   "metadata": {},
   "source": [
    " - indent는 4space로하며 tab은 사용을 금한다\n",
    " - 한 줄에 79자를 넘기지 않는다\n",
    " - 독스트링을 사용하자\n",
    " - 연산자들 주변과 콤마 뒤에 스페이스를 넣고 괄호는 붙인다\n",
    " - 클래스는 UpperCamelCase, 함수와 메서드는 lowercase_with_underscores\n",
    " - UTF-8을 지키자"
   ]
  },
  {
   "cell_type": "markdown",
   "id": "768c90b6-eea0-40bc-b8e7-df289580deaa",
   "metadata": {},
   "source": [
    "### * 주석"
   ]
  },
  {
   "cell_type": "code",
   "execution_count": null,
   "id": "4d3aca7b-3397-49f6-856a-e232450c27df",
   "metadata": {},
   "outputs": [],
   "source": [
    "# This is comment"
   ]
  },
  {
   "cell_type": "markdown",
   "id": "c682c52e-2b94-4ca9-9686-90d5a449aff0",
   "metadata": {},
   "source": [
    "### * print() : 출력"
   ]
  },
  {
   "cell_type": "code",
   "execution_count": null,
   "id": "7b071586-765a-4f34-8394-c16f1bc39aff",
   "metadata": {},
   "outputs": [],
   "source": [
    "a = 123\n",
    "print(a)\n",
    "print(\"출력 함수\")\n",
    "print(1, 2, \"이렇게\", 3, 4, \"여러가지\", \"출력\", sep=\"# \")\n",
    "print(\"Hello \", \"World!\", end=\" | \")\n",
    "print(321)"
   ]
  },
  {
   "cell_type": "markdown",
   "id": "1e0f4a5a-7339-4554-a9d9-a0f71fc6e826",
   "metadata": {},
   "source": [
    "<br>\n",
    "<br>\n",
    "<br>\n",
    "<br>\n",
    "<br>\n",
    "<br>\n",
    "<hr>\n",
    "<br>\n",
    "<br>\n",
    "<br>\n",
    "<br>\n",
    "<br>\n",
    "<br>"
   ]
  }
 ],
 "metadata": {
  "kernelspec": {
   "display_name": "Python 3 (ipykernel)",
   "language": "python",
   "name": "python3"
  },
  "language_info": {
   "codemirror_mode": {
    "name": "ipython",
    "version": 3
   },
   "file_extension": ".py",
   "mimetype": "text/x-python",
   "name": "python",
   "nbconvert_exporter": "python",
   "pygments_lexer": "ipython3",
   "version": "3.9.7"
  }
 },
 "nbformat": 4,
 "nbformat_minor": 5
}
