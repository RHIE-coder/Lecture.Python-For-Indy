{
 "cells": [
  {
   "cell_type": "markdown",
   "id": "2cc8b662-ea38-431e-b026-18ebaebe616f",
   "metadata": {
    "tags": []
   },
   "source": [
    "# 01. About Python"
   ]
  },
  {
   "cell_type": "markdown",
   "id": "1a447ce9-4586-477f-a7a0-8271b28fe92f",
   "metadata": {
    "tags": []
   },
   "source": [
    "## - History"
   ]
  },
  {
   "cell_type": "markdown",
   "id": "1010ac8c-5c7e-4ecf-8200-b4cc2291e9f9",
   "metadata": {},
   "source": [
    "파이썬 이라는 이름은 Monty Python's Flying Circus라는 BBC쇼에서 따온 것, 파충류와는 아무 관련이 없음\n",
    "\n",
    "1994년 귀도 반 로섬(Guido Van Rossum)에 의해 시작. 크리스마스 떄 취미로 만듬."
   ]
  },
  {
   "cell_type": "markdown",
   "id": "29c4f8ee-c7cb-4740-810c-edb789acee0e",
   "metadata": {},
   "source": [
    "## - Structure"
   ]
  },
  {
   "cell_type": "markdown",
   "id": "172830dc-0340-47c5-8bda-0c9ccb98ab53",
   "metadata": {},
   "source": [
    "인터프리터 언어"
   ]
  },
  {
   "cell_type": "markdown",
   "id": "707d33e4-eb94-4122-a795-f5153a2bc976",
   "metadata": {},
   "source": [
    "## - Before Python Programming, You Should Know:"
   ]
  },
  {
   "cell_type": "markdown",
   "id": "c59f298b-4583-4ecf-8d11-e673fd4c3c43",
   "metadata": {
    "tags": []
   },
   "source": [
    "### * 파이썬의 기본 인코딩은 UTF-8이다."
   ]
  },
  {
   "cell_type": "code",
   "execution_count": null,
   "id": "7cb3c3a0-2bd6-43c3-a427-987502a5f794",
   "metadata": {},
   "outputs": [],
   "source": [
    "# -*- coding: UTF-8 -*-"
   ]
  },
  {
   "cell_type": "markdown",
   "id": "7ace05e1-f3f0-48d2-9439-639b3f23a3a2",
   "metadata": {},
   "source": [
    "인코딩을 기본값 외의 것으로 선언시 : "
   ]
  },
  {
   "cell_type": "code",
   "execution_count": null,
   "id": "5f9aa691-2a52-46ce-82eb-38db8ed2b87e",
   "metadata": {},
   "outputs": [],
   "source": [
    "# -*- coding: cp1252 -*-"
   ]
  },
  {
   "cell_type": "markdown",
   "id": "a255a15e-b208-4459-8371-3d0417897cf0",
   "metadata": {},
   "source": [
    "### * 파이썬은 모두 객체다."
   ]
  },
  {
   "cell_type": "markdown",
   "id": "66b150cc-3e67-49d4-92c2-92af248507bd",
   "metadata": {},
   "source": [
    " - id() : 주소 값을 알 수 있다."
   ]
  },
  {
   "cell_type": "code",
   "execution_count": null,
   "id": "dcbab6ae-04cb-496c-9155-2a003fd0e2e2",
   "metadata": {},
   "outputs": [],
   "source": [
    "a = 10\n",
    "id(a) # 객체 고유의 값"
   ]
  },
  {
   "cell_type": "markdown",
   "id": "85fdfe23-d265-41c4-a98f-052c2fb43fbd",
   "metadata": {},
   "source": [
    " - dir() : 해당 객체가 어떤 변수와 메소드를 가지고 있는지 확인할 수 있다."
   ]
  },
  {
   "cell_type": "code",
   "execution_count": null,
   "id": "58ce9d45-665e-46bb-9007-5e7d9b6b3b22",
   "metadata": {},
   "outputs": [],
   "source": [
    "dir(int)"
   ]
  },
  {
   "cell_type": "markdown",
   "id": "90342eac-8cb4-49c1-8956-e104316a5b7a",
   "metadata": {
    "tags": []
   },
   "source": [
    "### * help() : 사용법"
   ]
  },
  {
   "cell_type": "code",
   "execution_count": null,
   "id": "051f4788-0bed-427d-8243-ff3e435952db",
   "metadata": {},
   "outputs": [],
   "source": [
    "help(dir)"
   ]
  },
  {
   "cell_type": "markdown",
   "id": "4a174643-51d8-4eb6-b602-5d7e0d9540d0",
   "metadata": {},
   "source": [
    "### * 코딩스타일"
   ]
  },
  {
   "cell_type": "markdown",
   "id": "2233d7ba-05a5-45ad-9452-7ca1f32a3960",
   "metadata": {},
   "source": [
    " - indent는 4space로하며 tab은 사용을 금한다\n",
    " - 한 줄에 79자를 넘기지 않는다\n",
    " - 독스트링을 사용하자\n",
    " - 연산자들 주변과 콤마 뒤에 스페이스를 넣고 괄호는 붙인다\n",
    " - 클래스는 UpperCamelCase, 함수와 메서드는 lowercase_with_underscores\n",
    " - UTF-8을 지키자"
   ]
  },
  {
   "cell_type": "markdown",
   "id": "768c90b6-eea0-40bc-b8e7-df289580deaa",
   "metadata": {},
   "source": [
    "### * 주석"
   ]
  },
  {
   "cell_type": "code",
   "execution_count": null,
   "id": "4d3aca7b-3397-49f6-856a-e232450c27df",
   "metadata": {},
   "outputs": [],
   "source": [
    "# This is comment"
   ]
  },
  {
   "cell_type": "markdown",
   "id": "c682c52e-2b94-4ca9-9686-90d5a449aff0",
   "metadata": {},
   "source": [
    "### * print() : 출력"
   ]
  },
  {
   "cell_type": "code",
   "execution_count": null,
   "id": "7b071586-765a-4f34-8394-c16f1bc39aff",
   "metadata": {},
   "outputs": [],
   "source": [
    "a = 123\n",
    "print(a)\n",
    "print(\"출력 함수\")\n",
    "print(1, 2, \"이렇게\", 3, 4, \"여러가지\", \"출력\", sep=\"# \")\n",
    "print(\"Hello \", \"World!\", end=\" | \")\n",
    "print(321)"
   ]
  },
  {
   "cell_type": "markdown",
   "id": "1e0f4a5a-7339-4554-a9d9-a0f71fc6e826",
   "metadata": {},
   "source": [
    "<br>\n",
    "<br>\n",
    "<br>\n",
    "<br>\n",
    "<br>\n",
    "<br>\n",
    "<hr>\n",
    "<br>\n",
    "<br>\n",
    "<br>\n",
    "<br>\n",
    "<br>\n",
    "<br>"
   ]
  },
  {
   "cell_type": "markdown",
   "id": "bc4e1f1a-026e-40cf-8424-9e21b939664f",
   "metadata": {
    "tags": []
   },
   "source": [
    "# 02. 변수와 자료형"
   ]
  },
  {
   "cell_type": "markdown",
   "id": "70d27fe5-a4f5-4833-adc1-ed5d5975aaa8",
   "metadata": {
    "tags": []
   },
   "source": [
    "## - 자료형\n",
    "\n",
    " - int\n",
    " - float\n",
    " - string\n",
    " - boolean\n",
    " - list\n",
    " - dict\n",
    " - tuple\n",
    " - None"
   ]
  },
  {
   "cell_type": "code",
   "execution_count": 12,
   "id": "f7ed66d7-d7ec-48c9-b773-b783e1dc4a90",
   "metadata": {},
   "outputs": [],
   "source": [
    "a = 20"
   ]
  },
  {
   "cell_type": "code",
   "execution_count": 13,
   "id": "07dc0e20-cab5-46cc-bfff-f290f6499794",
   "metadata": {},
   "outputs": [
    {
     "name": "stdout",
     "output_type": "stream",
     "text": [
      "20\n"
     ]
    }
   ],
   "source": [
    "print(a)"
   ]
  },
  {
   "cell_type": "code",
   "execution_count": 14,
   "id": "28df7347-aaf3-4a0e-997d-7e3fc4f5678f",
   "metadata": {},
   "outputs": [
    {
     "name": "stdout",
     "output_type": "stream",
     "text": [
      "<class 'int'>\n"
     ]
    }
   ],
   "source": [
    "print(type(a))"
   ]
  },
  {
   "cell_type": "code",
   "execution_count": 15,
   "id": "b3e02c7a-f15e-4191-9a9f-2f54e5624400",
   "metadata": {},
   "outputs": [],
   "source": [
    "a = \"strin\""
   ]
  },
  {
   "cell_type": "code",
   "execution_count": 16,
   "id": "6dfc1400-7aba-4dea-ad0f-ea485f4af0ce",
   "metadata": {},
   "outputs": [
    {
     "name": "stdout",
     "output_type": "stream",
     "text": [
      "strin\n"
     ]
    }
   ],
   "source": [
    "print(a)"
   ]
  },
  {
   "cell_type": "code",
   "execution_count": 17,
   "id": "4006bc7b-03b3-4e75-bcee-e71ba0d57ee4",
   "metadata": {},
   "outputs": [
    {
     "name": "stdout",
     "output_type": "stream",
     "text": [
      "<class 'str'>\n"
     ]
    }
   ],
   "source": [
    "print(type(a))"
   ]
  },
  {
   "cell_type": "markdown",
   "id": "aceb5401-256d-410b-8297-75e85b3bd9c5",
   "metadata": {},
   "source": [
    "### * type() : 자료형을 확인한다"
   ]
  },
  {
   "cell_type": "code",
   "execution_count": 18,
   "id": "f7848483-fefc-4db3-b8eb-91ad838dac79",
   "metadata": {},
   "outputs": [
    {
     "data": {
      "text/plain": [
       "str"
      ]
     },
     "execution_count": 18,
     "metadata": {},
     "output_type": "execute_result"
    }
   ],
   "source": [
    "type(\"hello\")"
   ]
  },
  {
   "cell_type": "code",
   "execution_count": 19,
   "id": "125bf011-4624-4bd1-8ef8-d765d4c729c7",
   "metadata": {},
   "outputs": [
    {
     "data": {
      "text/plain": [
       "int"
      ]
     },
     "execution_count": 19,
     "metadata": {},
     "output_type": "execute_result"
    }
   ],
   "source": [
    "type(10)"
   ]
  },
  {
   "cell_type": "markdown",
   "id": "ed445193-fe3f-4bba-b111-1665e7f33788",
   "metadata": {},
   "source": [
    "## - 변수"
   ]
  },
  {
   "cell_type": "markdown",
   "id": "824fac87-1d00-4c70-ba00-eab7f7cb23c8",
   "metadata": {
    "tags": []
   },
   "source": [
    "### * 변수 할당"
   ]
  },
  {
   "cell_type": "code",
   "execution_count": 20,
   "id": "5b718a4f-0d78-4aaf-8727-38856ed3d3dc",
   "metadata": {},
   "outputs": [
    {
     "name": "stdout",
     "output_type": "stream",
     "text": [
      "10\n"
     ]
    }
   ],
   "source": [
    "a = 10\n",
    "print(a)"
   ]
  },
  {
   "cell_type": "code",
   "execution_count": 21,
   "id": "acc9324e-b629-4724-94f2-88b7bee283bb",
   "metadata": {},
   "outputs": [
    {
     "name": "stdout",
     "output_type": "stream",
     "text": [
      "10 <class 'int'>\n",
      "hello <class 'str'>\n",
      "3.14 <class 'float'>\n"
     ]
    }
   ],
   "source": [
    "a, b, c = 10, \"hello\" ,3.14\n",
    "print(a, type(a))\n",
    "print(b, type(b))\n",
    "print(c, type(c))"
   ]
  },
  {
   "cell_type": "markdown",
   "id": "eacf0812-d935-4681-bbff-d27a6c709deb",
   "metadata": {},
   "source": [
    "### * 캐스팅 ( 자료형 변환 )"
   ]
  },
  {
   "cell_type": "code",
   "execution_count": 25,
   "id": "f016d530-b3fd-4d99-94bc-c14466963401",
   "metadata": {},
   "outputs": [
    {
     "data": {
      "text/plain": [
       "str"
      ]
     },
     "execution_count": 25,
     "metadata": {},
     "output_type": "execute_result"
    }
   ],
   "source": [
    "a = 10\n",
    "type(str(a))"
   ]
  },
  {
   "cell_type": "markdown",
   "id": "8204c075-fb27-4c4d-9cab-2c92c1a80199",
   "metadata": {},
   "source": [
    "### * del ( 삭제 )"
   ]
  },
  {
   "cell_type": "code",
   "execution_count": 26,
   "id": "0c45ee6c-fb6a-4ec9-be47-02477def0875",
   "metadata": {},
   "outputs": [
    {
     "name": "stdout",
     "output_type": "stream",
     "text": [
      "hello world\n"
     ]
    }
   ],
   "source": [
    "a = \"hello world\"\n",
    "print(a)"
   ]
  },
  {
   "cell_type": "code",
   "execution_count": 27,
   "id": "9e77ce06-615e-4533-968c-bef13b33e407",
   "metadata": {},
   "outputs": [
    {
     "ename": "NameError",
     "evalue": "name 'a' is not defined",
     "output_type": "error",
     "traceback": [
      "\u001b[1;31m---------------------------------------------------------------------------\u001b[0m",
      "\u001b[1;31mNameError\u001b[0m                                 Traceback (most recent call last)",
      "\u001b[1;32m~\\AppData\\Local\\Temp/ipykernel_5836/1497285116.py\u001b[0m in \u001b[0;36m<module>\u001b[1;34m\u001b[0m\n\u001b[0;32m      1\u001b[0m \u001b[1;32mdel\u001b[0m \u001b[0ma\u001b[0m\u001b[1;33m\u001b[0m\u001b[1;33m\u001b[0m\u001b[0m\n\u001b[1;32m----> 2\u001b[1;33m \u001b[0mprint\u001b[0m\u001b[1;33m(\u001b[0m\u001b[0ma\u001b[0m\u001b[1;33m)\u001b[0m\u001b[1;33m\u001b[0m\u001b[1;33m\u001b[0m\u001b[0m\n\u001b[0m",
      "\u001b[1;31mNameError\u001b[0m: name 'a' is not defined"
     ]
    }
   ],
   "source": [
    "del a\n",
    "print(a)"
   ]
  },
  {
   "cell_type": "markdown",
   "id": "70ca50e3-3b17-463a-90f4-b61ab44b04ea",
   "metadata": {},
   "source": [
    "나중에 자세히 배우겠지만 먼저 배열이 무엇인지 맛봅시다. 아래와 같은 코드를 짠다고 가정해보겠습니다.\n",
    "\n",
    "```python\n",
    "korea_region1 = \"서울\";\n",
    "korea_region2 = \"경기도\";\n",
    "korea_region3 = \"부산\";\n",
    "korea_region4 = \"대구\";\n",
    "korea_region5 = \"광주\";\n",
    "korea_region6 = \"대전\";\n",
    "```"
   ]
  },
  {
   "cell_type": "code",
   "execution_count": 28,
   "id": "afb69c5f-ea03-4933-b383-d60df93b8995",
   "metadata": {},
   "outputs": [],
   "source": [
    "korea_region1 = \"서울\";\n",
    "korea_region2 = \"경기도\";\n",
    "korea_region3 = \"부산\";\n",
    "korea_region4 = \"대구\";\n",
    "korea_region5 = \"광주\";\n",
    "korea_region6 = \"대전\";"
   ]
  },
  {
   "cell_type": "markdown",
   "id": "74e200ea-5d94-48e3-bf4b-8b538fdeef84",
   "metadata": {},
   "source": [
    "뭔가 비효율적이지 않나요? 같은 `korea_region`인 변수들입니다. 나중에 활용하기도 쉽지 않지요. 다음과 같이 이 모든 변수의 값들을 한 곳에 모으면 어떨까요? \n",
    "\n",
    "```python\n",
    "korea_region = [\"서울\", \"경기도\", \"부산\", \"대구\", \"광주\", \"대전\"];\n",
    "```"
   ]
  },
  {
   "cell_type": "code",
   "execution_count": 29,
   "id": "15578620-7f95-454f-8182-ed01c3c66c1b",
   "metadata": {},
   "outputs": [],
   "source": [
    "korea_region = [\"서울\", \"경기도\", \"부산\", \"대구\", \"광주\", \"대전\"];"
   ]
  },
  {
   "cell_type": "markdown",
   "id": "b4fb9eab-cd78-46b5-bd1f-63321243ee6f",
   "metadata": {},
   "source": [
    "한결, 편하게 볼 수 있게 됬네요. 이젠 이것을 어떻게 써볼까요. \n",
    "\n",
    "바로 `index`를 활용하면 됩니다. *서울*, *경기도*, *부산*... 등 이 배열의 값들을 각각 배열의 요소(Element)라고 하고, `index`는 배열 요소의 각 위치를 나타냅니다."
   ]
  },
  {
   "cell_type": "markdown",
   "id": "e879bd2e-3d40-4752-a3f6-8bcdf9116b45",
   "metadata": {},
   "source": [
    "|*`배열 요소 위치`*|1번째 위치|2번째 위치|3번째 위치|4번째 위치|5번째 위치|6번째 위치|\n",
    "|:---:|:---:|:---:|:---:|:---:|:---:|:---:|\n",
    "|*`index`*|0|1|2|3|4|5|\n",
    "|*`배열 요소 값`*| \"서울\" | \"경기도\" | \"부산\" | \"대구\" | \"광주\" | \"대전\" |\n"
   ]
  },
  {
   "cell_type": "markdown",
   "id": "c6e2100b-9229-40f8-bc87-1f48400e4f62",
   "metadata": {},
   "source": [
    "```python\n",
    "print(korea_region[0]) //서울\n",
    "print(korea_region[1]) //경기도\n",
    "print(korea_region[2]) //부산\n",
    "print(korea_region[3]) //대구\n",
    "print(korea_region[4]) //광주\n",
    "print(korea_region[5]) //대전\n",
    "print(korea_region[6]) //None\n",
    "```"
   ]
  },
  {
   "cell_type": "code",
   "execution_count": 31,
   "id": "d663e908-2012-4103-8266-e680d456212c",
   "metadata": {},
   "outputs": [
    {
     "name": "stdout",
     "output_type": "stream",
     "text": [
      "서울\n",
      "경기도\n",
      "부산\n",
      "대구\n",
      "광주\n",
      "대전\n"
     ]
    },
    {
     "ename": "IndexError",
     "evalue": "list index out of range",
     "output_type": "error",
     "traceback": [
      "\u001b[1;31m---------------------------------------------------------------------------\u001b[0m",
      "\u001b[1;31mIndexError\u001b[0m                                Traceback (most recent call last)",
      "\u001b[1;32m~\\AppData\\Local\\Temp/ipykernel_5836/3461606923.py\u001b[0m in \u001b[0;36m<module>\u001b[1;34m\u001b[0m\n\u001b[0;32m      5\u001b[0m \u001b[0mprint\u001b[0m\u001b[1;33m(\u001b[0m\u001b[0mkorea_region\u001b[0m\u001b[1;33m[\u001b[0m\u001b[1;36m4\u001b[0m\u001b[1;33m]\u001b[0m\u001b[1;33m)\u001b[0m \u001b[1;31m#광주\u001b[0m\u001b[1;33m\u001b[0m\u001b[1;33m\u001b[0m\u001b[0m\n\u001b[0;32m      6\u001b[0m \u001b[0mprint\u001b[0m\u001b[1;33m(\u001b[0m\u001b[0mkorea_region\u001b[0m\u001b[1;33m[\u001b[0m\u001b[1;36m5\u001b[0m\u001b[1;33m]\u001b[0m\u001b[1;33m)\u001b[0m\u001b[1;33m\u001b[0m\u001b[1;33m\u001b[0m\u001b[0m\n\u001b[1;32m----> 7\u001b[1;33m \u001b[0mprint\u001b[0m\u001b[1;33m(\u001b[0m\u001b[0mkorea_region\u001b[0m\u001b[1;33m[\u001b[0m\u001b[1;36m6\u001b[0m\u001b[1;33m]\u001b[0m\u001b[1;33m)\u001b[0m\u001b[1;33m\u001b[0m\u001b[1;33m\u001b[0m\u001b[0m\n\u001b[0m",
      "\u001b[1;31mIndexError\u001b[0m: list index out of range"
     ]
    }
   ],
   "source": [
    "print(korea_region[0]) #서울\n",
    "print(korea_region[1]) #경기도\n",
    "print(korea_region[2]) #부산\n",
    "print(korea_region[3]) #구\n",
    "print(korea_region[4]) #광주\n",
    "print(korea_region[5])\n",
    "print(korea_region[6]) "
   ]
  },
  {
   "cell_type": "markdown",
   "id": "87e03b2e-27e5-4b8c-9797-6c3a3c34fa6a",
   "metadata": {},
   "source": [
    "korea_region[6]의 결과를 살펴보니 list index out of range의 에러가 발생하네요. 이유를 알아보기 전에 우선 배열의 크기를 알아봅시다."
   ]
  },
  {
   "cell_type": "code",
   "execution_count": 32,
   "id": "d7ab0c2d-761e-4732-8c59-116d5a55fd0b",
   "metadata": {},
   "outputs": [
    {
     "name": "stdout",
     "output_type": "stream",
     "text": [
      "6\n"
     ]
    }
   ],
   "source": [
    "print(len(korea_region))"
   ]
  },
  {
   "cell_type": "markdown",
   "id": "35eb2190-d678-4ef3-9509-963ee6acfc72",
   "metadata": {},
   "source": [
    "```python\n",
    "print(len(korea_region)) //6\n",
    "```"
   ]
  },
  {
   "cell_type": "markdown",
   "id": "bfeeacb8-9746-4e55-b50b-ace1772b10d5",
   "metadata": {},
   "source": [
    "이 `korea_region`의 배열의 크기는 6입니다.\n",
    "\n",
    "그런데 7번째 내용을 출력하라고 했습니다. 있지도 않은 값을 출력하라고 명령한 것과 다름이 없으므로 애초에 정의되어 있지 않아 에러가 ㅂ\n",
    "\n",
    "우리에게 익숙한 `1번째, 2번째, 3번째...` 와 달리 `index`는 0부터 시작합니다. 그래서 프로그래밍을 처음 접하시는 분들은 처음에 익숙하지 않아 힘들 수도 있습니다. 그래도 힘들지만 익숙해져봅시다. 자주 쓰시다 보면 생각보다 금방 익숙해집니다."
   ]
  },
  {
   "cell_type": "markdown",
   "id": "20854e5b-7211-4fec-8908-796250b46d9d",
   "metadata": {
    "tags": []
   },
   "source": [
    "### * mutable and immutable\n",
    "\n",
    "데이터 타입에 따라 값이 변할 수 있는 mutable 방식과 값이 변할 수 없는 immutalbe 방식으로 나뉜다.\n",
    "\n",
    "다음 코드를 보면\n",
    "\n",
    "```python\n",
    "var = \"hello\"\n",
    "print(var) # output : \"hello\"\n",
    "var = \"hello world\"\n",
    "print(var) # output : \"hello world\"\n",
    "```\n",
    "\n",
    "출력해보면 var의 변수 값이 바뀐 것을 볼 수 있다.\n",
    "\n",
    "그런데 사실은 `\"hello\"`라는 값이 `\"hello world\"`라는 값으로 바뀐것이 아니라\n",
    "\n",
    "기존의 값(`\"hello\"`)은 메모리에 그대로 있고 `\"hello world\"`라는 값이 메모리에 새로 생겨나 그 값을 var이라는 변수가 가리킬 뿐이다.\n",
    "\n",
    "즉, `\"hello\"`라는 값은 여전히 메모리에 살아있고 var이 가리키지 않을 뿐이다.\n",
    "\n",
    "이후 가비지 컬랙터(Garbage Collector, GC)가 아무도 가리키지 않고 메모리에 홀로 덩그러니 남겨져 있는 이 `\"hello\"` 값을 없앤다."
   ]
  },
  {
   "cell_type": "code",
   "execution_count": 34,
   "id": "bb053d25-11f7-4e02-8b95-aa5ff5aaa931",
   "metadata": {},
   "outputs": [
    {
     "name": "stdout",
     "output_type": "stream",
     "text": [
      "hello\n",
      "1741641696432\n",
      "hello world\n",
      "1741646739888\n"
     ]
    }
   ],
   "source": [
    "vari = \"hello\"\n",
    "print(vari)\n",
    "print(id(vari))\n",
    "vari = \"hello world\"\n",
    "print(vari)\n",
    "print(id(vari))"
   ]
  },
  {
   "cell_type": "markdown",
   "id": "833db2b1-c830-4f37-9a33-3f420c086f5a",
   "metadata": {},
   "source": [
    " - 예를 들어, 문자열과 정수는 immutable하다"
   ]
  },
  {
   "cell_type": "code",
   "execution_count": null,
   "id": "b636f378-678a-41fe-a95d-fafe2eefdd2a",
   "metadata": {},
   "outputs": [],
   "source": [
    "num = 10\n",
    "copy_num = num\n",
    "print(id(num), id(copy_num)) # 두 개의 정수 값의 주소값이 같다.\n",
    "copy_num = 20\n",
    "print(id(num), id(copy_num)) # 두 개의 정수 값의 주소값이 다르다."
   ]
  },
  {
   "cell_type": "code",
   "execution_count": null,
   "id": "10940b51-a2a0-4652-8c6d-011f6a35263d",
   "metadata": {},
   "outputs": [],
   "source": [
    "string = \"Hi\"\n",
    "copy_string = string\n",
    "print(id(string), id(copy_string)) # 두 개의 문자열 값의 주소값이 같다.\n",
    "copy_string = \"Hello\"\n",
    "print(id(string), id(copy_string)) # 두 개의 문자열 값의 주소값이 다르다."
   ]
  },
  {
   "cell_type": "markdown",
   "id": "13da9ccb-34d6-4e51-9d66-562e58ebfb14",
   "metadata": {},
   "source": [
    " - 예를 들어, 리스트는 mutable하다"
   ]
  },
  {
   "cell_type": "code",
   "execution_count": 44,
   "id": "4ce23b6a-95af-4243-989f-8787ace9c07e",
   "metadata": {},
   "outputs": [],
   "source": [
    "objs = [1, 2, 3, \"This is List\"]"
   ]
  },
  {
   "cell_type": "code",
   "execution_count": 45,
   "id": "66038631-09d1-44fb-82da-b42cbbec16cc",
   "metadata": {},
   "outputs": [],
   "source": [
    "copy_objs = objs"
   ]
  },
  {
   "cell_type": "code",
   "execution_count": 39,
   "id": "caf001d2-a55e-462b-b833-606d92732f75",
   "metadata": {},
   "outputs": [
    {
     "name": "stdout",
     "output_type": "stream",
     "text": [
      "1741646307008\n",
      "1741646307008\n"
     ]
    }
   ],
   "source": [
    "print(id(copy_objs))\n",
    "print(id(objs))"
   ]
  },
  {
   "cell_type": "code",
   "execution_count": 46,
   "id": "c07e4606-4f46-4690-9c4d-f91a3d790c25",
   "metadata": {},
   "outputs": [],
   "source": [
    "copy_objs[0] = 100 # 첫번째 값을 100으로 변경"
   ]
  },
  {
   "cell_type": "code",
   "execution_count": 47,
   "id": "c4d6e929-b14f-463a-9d0c-03f2b89df357",
   "metadata": {},
   "outputs": [
    {
     "name": "stdout",
     "output_type": "stream",
     "text": [
      "[100, 2, 3, 'This is List'] [100, 2, 3, 'This is List']\n",
      "1741646020992 1741646020992\n"
     ]
    }
   ],
   "source": [
    "print(objs, copy_objs) # 두 개 변수의 리스트 값이 모두 바뀌었다.\n",
    "print(id(objs), id(copy_objs)) # 두 개의 주소값이 같다."
   ]
  },
  {
   "cell_type": "code",
   "execution_count": 43,
   "id": "9f6964b1-7240-4205-9ce9-56d5fb64c0bf",
   "metadata": {},
   "outputs": [
    {
     "name": "stdout",
     "output_type": "stream",
     "text": [
      "hello\n",
      "hello world\n"
     ]
    }
   ],
   "source": [
    "a = \"hello world\"\n",
    "b = a\n",
    "a = \"hello\"\n",
    "print(a)\n",
    "print(b)"
   ]
  },
  {
   "cell_type": "markdown",
   "id": "f6a30bc2-44c7-406a-b805-d14bc90f8f2c",
   "metadata": {
    "tags": []
   },
   "source": [
    "<br>\n",
    "<br>\n",
    "<br>\n",
    "<br>\n",
    "<br>\n",
    "<br>\n",
    "<hr>\n",
    "<br>\n",
    "<br>\n",
    "<br>\n",
    "<br>\n",
    "<br>\n",
    "<br>"
   ]
  },
  {
   "cell_type": "markdown",
   "id": "109c504c-c4f3-4bf6-b70c-1f08e7fc7690",
   "metadata": {
    "tags": []
   },
   "source": [
    "# 03. 연산자"
   ]
  },
  {
   "cell_type": "markdown",
   "id": "7a602de3-da91-41aa-9ffc-86e2adfbcf77",
   "metadata": {},
   "source": [
    "## - 산술연산 `+`, `-`, `*`, `**`, `/`, `//`, `%`"
   ]
  },
  {
   "cell_type": "markdown",
   "id": "b0527e4e-816e-4c44-a91b-8dc55c1023fc",
   "metadata": {},
   "source": [
    " - 더하기"
   ]
  },
  {
   "cell_type": "code",
   "execution_count": 48,
   "id": "095a2101-416c-4773-9604-7bd30a9c29b2",
   "metadata": {},
   "outputs": [
    {
     "data": {
      "text/plain": [
       "8"
      ]
     },
     "execution_count": 48,
     "metadata": {},
     "output_type": "execute_result"
    }
   ],
   "source": [
    "3 + 5"
   ]
  },
  {
   "cell_type": "markdown",
   "id": "b5e97442-d8f7-475c-b3c4-850a7ae043f5",
   "metadata": {},
   "source": [
    " - 빼기"
   ]
  },
  {
   "cell_type": "code",
   "execution_count": 49,
   "id": "1bd50d55-c53c-4659-93a1-e25aabca81f3",
   "metadata": {},
   "outputs": [
    {
     "data": {
      "text/plain": [
       "7"
      ]
     },
     "execution_count": 49,
     "metadata": {},
     "output_type": "execute_result"
    }
   ],
   "source": [
    "10 - 3"
   ]
  },
  {
   "cell_type": "markdown",
   "id": "f5398716-644f-4030-8672-6e012bde73f8",
   "metadata": {},
   "source": [
    " - 곱하기"
   ]
  },
  {
   "cell_type": "code",
   "execution_count": 50,
   "id": "cc53cbdc-8d1a-4340-8421-2dc32a02ff65",
   "metadata": {},
   "outputs": [
    {
     "data": {
      "text/plain": [
       "80"
      ]
     },
     "execution_count": 50,
     "metadata": {},
     "output_type": "execute_result"
    }
   ],
   "source": [
    "40 * 2"
   ]
  },
  {
   "cell_type": "markdown",
   "id": "386502e1-2590-4b9b-a60a-1266bd430dcc",
   "metadata": {},
   "source": [
    " - n제곱"
   ]
  },
  {
   "cell_type": "code",
   "execution_count": 51,
   "id": "98c5de47-713b-4792-82bf-3214c1c7faab",
   "metadata": {},
   "outputs": [
    {
     "data": {
      "text/plain": [
       "8"
      ]
     },
     "execution_count": 51,
     "metadata": {},
     "output_type": "execute_result"
    }
   ],
   "source": [
    "2 ** 3"
   ]
  },
  {
   "cell_type": "markdown",
   "id": "7c0f6712-7f75-4db4-a669-6d6cf8b2df3b",
   "metadata": {},
   "source": [
    " - 나누기(소수의 몫)"
   ]
  },
  {
   "cell_type": "code",
   "execution_count": 52,
   "id": "439647b6-0d72-448e-8c26-bc35ba5cd7f3",
   "metadata": {},
   "outputs": [
    {
     "data": {
      "text/plain": [
       "3.3333333333333335"
      ]
     },
     "execution_count": 52,
     "metadata": {},
     "output_type": "execute_result"
    }
   ],
   "source": [
    "10 / 3"
   ]
  },
  {
   "cell_type": "markdown",
   "id": "ca73f4e0-eac5-4ccc-a79c-965462a9afe0",
   "metadata": {},
   "source": [
    " - 나누기(정수의 몫)"
   ]
  },
  {
   "cell_type": "code",
   "execution_count": 53,
   "id": "f9491896-37dd-455a-90e5-b5d678520e7f",
   "metadata": {},
   "outputs": [
    {
     "data": {
      "text/plain": [
       "3"
      ]
     },
     "execution_count": 53,
     "metadata": {},
     "output_type": "execute_result"
    }
   ],
   "source": [
    "10 // 3"
   ]
  },
  {
   "cell_type": "markdown",
   "id": "ae3c3584-bf86-4751-a9ac-b3b196879305",
   "metadata": {},
   "source": [
    " - 나누기(나머지)"
   ]
  },
  {
   "cell_type": "code",
   "execution_count": 55,
   "id": "22e5c772-8100-43ee-b79b-2626b49d2740",
   "metadata": {},
   "outputs": [
    {
     "data": {
      "text/plain": [
       "1"
      ]
     },
     "execution_count": 55,
     "metadata": {},
     "output_type": "execute_result"
    }
   ],
   "source": [
    "10 % 3"
   ]
  },
  {
   "cell_type": "markdown",
   "id": "97af0118-1a89-497b-8876-1609a08dfe86",
   "metadata": {
    "tags": []
   },
   "source": [
    "## - 할당연산 `+=`, `-=`, `*=`, `**=`, `/=`, `//=`, `%=`"
   ]
  },
  {
   "cell_type": "markdown",
   "id": "f9b24341-64b5-408a-aa95-eaf37a8e1193",
   "metadata": {},
   "source": [
    " - 더하기"
   ]
  },
  {
   "cell_type": "code",
   "execution_count": 2,
   "id": "8acd58d2-6d4c-4e02-9317-f5f0182a6a6f",
   "metadata": {
    "tags": []
   },
   "outputs": [
    {
     "name": "stdout",
     "output_type": "stream",
     "text": [
      "30\n",
      "50\n"
     ]
    }
   ],
   "source": [
    "num = 10\n",
    "num = num + 20\n",
    "print(num)\n",
    "num += 20\n",
    "print(num)"
   ]
  },
  {
   "cell_type": "markdown",
   "id": "21d7808d-ae7c-4134-8cc4-1bd8cec3f608",
   "metadata": {},
   "source": [
    " - 빼기"
   ]
  },
  {
   "cell_type": "code",
   "execution_count": 3,
   "id": "8e5b4329-0790-42ae-82c4-1804ddeef9c3",
   "metadata": {},
   "outputs": [
    {
     "name": "stdout",
     "output_type": "stream",
     "text": [
      "10\n"
     ]
    }
   ],
   "source": [
    "num = 20\n",
    "num -= 10\n",
    "print(num)"
   ]
  },
  {
   "cell_type": "markdown",
   "id": "d63e74a6-5e96-4b23-8632-0473654480bc",
   "metadata": {},
   "source": [
    " - 곱하기"
   ]
  },
  {
   "cell_type": "code",
   "execution_count": 4,
   "id": "6c7c7a29-34c6-4b5e-8b13-0dcc2bbb2a86",
   "metadata": {},
   "outputs": [
    {
     "name": "stdout",
     "output_type": "stream",
     "text": [
      "100\n"
     ]
    }
   ],
   "source": [
    "num = 10\n",
    "num *= 10\n",
    "print(num)"
   ]
  },
  {
   "cell_type": "markdown",
   "id": "16393546-dc74-40a6-97e2-ba775df76da7",
   "metadata": {},
   "source": [
    " - n제곱"
   ]
  },
  {
   "cell_type": "code",
   "execution_count": 5,
   "id": "bc9fae32-38fa-4823-852e-fbe95f09fbe6",
   "metadata": {},
   "outputs": [
    {
     "name": "stdout",
     "output_type": "stream",
     "text": [
      "1000\n"
     ]
    }
   ],
   "source": [
    "num = 10\n",
    "num **= 3\n",
    "print(num)"
   ]
  },
  {
   "cell_type": "markdown",
   "id": "3412c77d-da64-49d9-9da8-69c1deb6d2db",
   "metadata": {},
   "source": [
    " - 나누기(소수의 몫)"
   ]
  },
  {
   "cell_type": "code",
   "execution_count": 6,
   "id": "29eb365a-b28a-43b7-9923-87d6c08c0a65",
   "metadata": {},
   "outputs": [
    {
     "name": "stdout",
     "output_type": "stream",
     "text": [
      "3.3333333333333335\n"
     ]
    }
   ],
   "source": [
    "num = 10\n",
    "num /= 3\n",
    "print(num)"
   ]
  },
  {
   "cell_type": "markdown",
   "id": "76ed5aaa-31a2-4212-91f8-0a9f41e4c6d3",
   "metadata": {},
   "source": [
    " - 나누기(정수의 몫)"
   ]
  },
  {
   "cell_type": "code",
   "execution_count": 7,
   "id": "6f910f7d-46fa-475d-8fdc-d91035c4115e",
   "metadata": {},
   "outputs": [
    {
     "name": "stdout",
     "output_type": "stream",
     "text": [
      "3\n"
     ]
    }
   ],
   "source": [
    "num = 10\n",
    "num //= 3\n",
    "print(num)"
   ]
  },
  {
   "cell_type": "markdown",
   "id": "0258ad11-c8ec-4d6f-98b8-c335eca9eea1",
   "metadata": {},
   "source": [
    " - 나누기(나머지)"
   ]
  },
  {
   "cell_type": "code",
   "execution_count": 8,
   "id": "e1a5bc30-3c82-4910-bd4d-f4dc70b35547",
   "metadata": {},
   "outputs": [
    {
     "name": "stdout",
     "output_type": "stream",
     "text": [
      "1\n"
     ]
    }
   ],
   "source": [
    "num = 10\n",
    "num %= 3\n",
    "print(num)"
   ]
  },
  {
   "cell_type": "markdown",
   "id": "0654e67a-7c2b-452d-917c-e380e33d9039",
   "metadata": {},
   "source": [
    "파이썬에는 증감연산 `++`, `--` 이 없다"
   ]
  },
  {
   "cell_type": "markdown",
   "id": "c9f62c8e-4330-49b6-ba0d-ad0daa100265",
   "metadata": {},
   "source": [
    "## - 비교연산 `<=`, `>=`, `<`, `>`, `==`, `!=`"
   ]
  },
  {
   "cell_type": "markdown",
   "id": "0ca6ad75-3446-488b-8394-03ef256ff881",
   "metadata": {},
   "source": [
    "왼쪽 기준으로 비교하면 된다.\n",
    " - `==` : 같다\n",
    " - `!=` : 같지 않다"
   ]
  },
  {
   "cell_type": "code",
   "execution_count": 9,
   "id": "91a73f25-ce19-401b-a688-8e0f4217b5be",
   "metadata": {},
   "outputs": [
    {
     "data": {
      "text/plain": [
       "True"
      ]
     },
     "execution_count": 9,
     "metadata": {},
     "output_type": "execute_result"
    }
   ],
   "source": [
    "5 <= 5"
   ]
  },
  {
   "cell_type": "code",
   "execution_count": 10,
   "id": "ca78a633-9293-478e-bfa1-ce87fde4479e",
   "metadata": {},
   "outputs": [
    {
     "data": {
      "text/plain": [
       "False"
      ]
     },
     "execution_count": 10,
     "metadata": {},
     "output_type": "execute_result"
    }
   ],
   "source": [
    "5 < 5"
   ]
  },
  {
   "cell_type": "code",
   "execution_count": 11,
   "id": "bfe327ca-e20b-4cb7-94d7-38eca5094a40",
   "metadata": {},
   "outputs": [
    {
     "data": {
      "text/plain": [
       "True"
      ]
     },
     "execution_count": 11,
     "metadata": {},
     "output_type": "execute_result"
    }
   ],
   "source": [
    "4 > 2"
   ]
  },
  {
   "cell_type": "code",
   "execution_count": 12,
   "id": "dc852b61-4418-476c-911d-f060285fce13",
   "metadata": {},
   "outputs": [
    {
     "data": {
      "text/plain": [
       "True"
      ]
     },
     "execution_count": 12,
     "metadata": {},
     "output_type": "execute_result"
    }
   ],
   "source": [
    "3 >= 0"
   ]
  },
  {
   "cell_type": "code",
   "execution_count": 13,
   "id": "8b80829c-9a79-4218-b717-5fe0fbbe2dcc",
   "metadata": {},
   "outputs": [
    {
     "data": {
      "text/plain": [
       "True"
      ]
     },
     "execution_count": 13,
     "metadata": {},
     "output_type": "execute_result"
    }
   ],
   "source": [
    "10 == 10"
   ]
  },
  {
   "cell_type": "code",
   "execution_count": 14,
   "id": "799f88cf-dabc-437e-9d34-5d5351116229",
   "metadata": {},
   "outputs": [
    {
     "data": {
      "text/plain": [
       "False"
      ]
     },
     "execution_count": 14,
     "metadata": {},
     "output_type": "execute_result"
    }
   ],
   "source": [
    "1 != 1"
   ]
  },
  {
   "cell_type": "markdown",
   "id": "3d2888c3-0342-4dc6-ae64-0c62c980267e",
   "metadata": {},
   "source": [
    "## - 식별(Identity)연산 `is`, `is not`\n",
    "\n",
    "값을 비교하는 것이 아니라 메모리 주소값을 비교\n",
    "\n",
    "파이썬은 정수 -5~256까지 이미 객체를 만들어 보관(메모리 주소가 일정함)\n",
    "\n",
    "string도 짧은 문자열은 같은 주소에 할당되나, 긴 문자열은 다른 주소에 할당됨"
   ]
  },
  {
   "cell_type": "code",
   "execution_count": null,
   "id": "701ede95-6333-4414-9341-2a223c0f1a10",
   "metadata": {},
   "outputs": [],
   "source": [
    "# == 와 is의 차이\n",
    "x = 100\n",
    "y = 100\n",
    "print(x == y)\n",
    "print(x is y)\n",
    "print(id(x)) #주소값 확인 id()\n",
    "print(id(y))"
   ]
  },
  {
   "cell_type": "code",
   "execution_count": null,
   "id": "c3e4dcb5-1659-4446-866d-cc69ae874e8e",
   "metadata": {},
   "outputs": [],
   "source": [
    "x = 257\n",
    "y = 257\n",
    "print(x == y)\n",
    "print(x is y)\n",
    "print(id(x))\n",
    "print(id(y))"
   ]
  },
  {
   "cell_type": "markdown",
   "id": "45ca748e-c337-469a-9ebd-3c170222c00e",
   "metadata": {},
   "source": [
    "## - 논리 연산 `and`, `or`, `not`"
   ]
  },
  {
   "cell_type": "code",
   "execution_count": 15,
   "id": "4eae42c3-7206-40c6-86c1-5cede7696b66",
   "metadata": {},
   "outputs": [
    {
     "name": "stdout",
     "output_type": "stream",
     "text": [
      "True\n",
      "False\n",
      "False\n",
      "False\n"
     ]
    }
   ],
   "source": [
    "print(True and True)\n",
    "print(True and False)\n",
    "print(False and True)\n",
    "print(False and False)"
   ]
  },
  {
   "cell_type": "code",
   "execution_count": 16,
   "id": "41c2876a-8121-493e-b28c-0f3b03bcc1e4",
   "metadata": {},
   "outputs": [
    {
     "name": "stdout",
     "output_type": "stream",
     "text": [
      "True\n",
      "True\n",
      "True\n",
      "False\n"
     ]
    }
   ],
   "source": [
    "print(True or True)\n",
    "print(True or False)\n",
    "print(False or True)\n",
    "print(False or False)"
   ]
  },
  {
   "cell_type": "code",
   "execution_count": 17,
   "id": "ffd4ed34-02da-4a2d-8d46-0a83e8dbcb3c",
   "metadata": {},
   "outputs": [
    {
     "data": {
      "text/plain": [
       "False"
      ]
     },
     "execution_count": 17,
     "metadata": {},
     "output_type": "execute_result"
    }
   ],
   "source": [
    "not True"
   ]
  },
  {
   "cell_type": "markdown",
   "id": "7b67dc27-32b1-4b10-9d9e-1f5ec20827a7",
   "metadata": {},
   "source": [
    "<br>\n",
    "<br>\n",
    "<br>\n",
    "<br>\n",
    "<br>\n",
    "<br>\n",
    "<hr>\n",
    "<br>\n",
    "<br>\n",
    "<br>\n",
    "<br>\n",
    "<br>\n",
    "<br>"
   ]
  },
  {
   "cell_type": "markdown",
   "id": "3d17f91d-a1b5-44ca-942d-fde0ccc480c5",
   "metadata": {},
   "source": [
    "# 04. 조건문"
   ]
  },
  {
   "cell_type": "markdown",
   "id": "f663587d-3a79-4a0f-8cc9-005e39deb100",
   "metadata": {},
   "source": [
    "## - if ~ else"
   ]
  },
  {
   "cell_type": "markdown",
   "id": "57d8b006-7ddc-4772-911c-2c829ebb3757",
   "metadata": {},
   "source": [
    "if문이 true면 if문 아래의 수행문(코드)이 실행되고 false면 else문 아래의 수행문이 실행된다"
   ]
  },
  {
   "cell_type": "code",
   "execution_count": 18,
   "id": "24886d3e-ae34-4c01-bdf1-b00e7a2c885d",
   "metadata": {},
   "outputs": [
    {
     "name": "stdout",
     "output_type": "stream",
     "text": [
      "짝수\n"
     ]
    }
   ],
   "source": [
    "num =10\n",
    "if num % 2 == 0:\n",
    "    print(\"짝수\")\n",
    "else:\n",
    "    print(\"홀수\")"
   ]
  },
  {
   "cell_type": "markdown",
   "id": "8c4a3258-9830-463f-8ab2-64f0f9b9b6e2",
   "metadata": {},
   "source": [
    "if문을 여러 개를 사용할 수 있는데, 이전 if문의 결과가 참이든 거짓이든 간에 상관 없이 true면 무조건 실행이된다.\n",
    "\n",
    "만일 모든 조건문( if )이 false라면 else문이 실행된다."
   ]
  },
  {
   "cell_type": "code",
   "execution_count": 19,
   "id": "f2915518-9e19-4813-a845-f4ffb118c578",
   "metadata": {},
   "outputs": [
    {
     "name": "stdout",
     "output_type": "stream",
     "text": [
      "우\n",
      "미\n",
      "양\n"
     ]
    }
   ],
   "source": [
    "score = 87\n",
    "if score > 90:\n",
    "    print(\"수\")\n",
    "if score > 80:\n",
    "    print(\"우\")\n",
    "if score > 70:\n",
    "    print(\"미\")\n",
    "if score > 60:\n",
    "    print(\"양\")\n",
    "else:\n",
    "    print(\"가\")"
   ]
  },
  {
   "cell_type": "markdown",
   "id": "c6451411-f0f7-41ca-b70b-574040b94a49",
   "metadata": {},
   "source": [
    "and 연산을 통해 나타내려고 해도 아래 if문 중에 하나라도 false가 나오면 else문이 실행되기 때문에 원하는 결과를 얻을 수 없다."
   ]
  },
  {
   "cell_type": "code",
   "execution_count": null,
   "id": "eea46be2-a8ea-48f5-95f0-3eb169327a7a",
   "metadata": {},
   "outputs": [],
   "source": [
    "score = int(input(\"Input the score : \"))\n",
    "if score > 90:\n",
    "    print(\"수\")\n",
    "if score > 80 and score <= 90:\n",
    "    print(\"우\")\n",
    "if score > 70 and score <= 80:\n",
    "    print(\"미\")\n",
    "if score > 60 and score <= 70:\n",
    "    print(\"양\")\n",
    "else:\n",
    "    print(\"가\")"
   ]
  },
  {
   "cell_type": "markdown",
   "id": "f4bb5b17-f94e-45f7-843c-4c5d1171c9b8",
   "metadata": {},
   "source": [
    "## -elif"
   ]
  },
  {
   "cell_type": "markdown",
   "id": "752c3549-a0a2-4f8c-bb1c-9513e16edd09",
   "metadata": {},
   "source": [
    "위와 같은 문제를 방지하기 위해 이전의 조건문이 false가 나올 때만 조건을 확인하는 elif문을 사용하면 된다.\n",
    "\n",
    "만일 이전 조건문( if 혹은 elif )이 true면 실행하지 않고 쭉 넘어가게 된다.\n",
    "\n",
    "만일 모든 조건문( if, elif )이 false라면 else문이 실행된다."
   ]
  },
  {
   "cell_type": "code",
   "execution_count": 21,
   "id": "234e37dc-9f1f-4f3d-80c7-a388b37a16f1",
   "metadata": {},
   "outputs": [
    {
     "name": "stdout",
     "output_type": "stream",
     "text": [
      "미\n"
     ]
    }
   ],
   "source": [
    "score = 77\n",
    "if score > 90:\n",
    "    print(\"수\")\n",
    "elif score > 80:\n",
    "    print(\"우\")\n",
    "elif score > 70:\n",
    "    print(\"미\")\n",
    "elif score > 60:\n",
    "    print(\"양\")\n",
    "else:\n",
    "    print(\"가\")"
   ]
  },
  {
   "cell_type": "markdown",
   "id": "86459ab7-2bab-46ca-bde2-86a219e7ff9d",
   "metadata": {},
   "source": [
    "<br>\n",
    "<br>\n",
    "<br>\n",
    "<br>\n",
    "<br>\n",
    "<br>\n",
    "<hr>\n",
    "<br>\n",
    "<br>\n",
    "<br>\n",
    "<br>\n",
    "<br>\n",
    "<br>"
   ]
  },
  {
   "cell_type": "markdown",
   "id": "488624fc-650f-444d-ba5e-7dfbf8501d10",
   "metadata": {},
   "source": [
    "# 05. 반복문"
   ]
  },
  {
   "cell_type": "markdown",
   "id": "48f31295-df70-4c0f-bb76-84d1ca4ff452",
   "metadata": {},
   "source": [
    "다음 a, b, c, d, e 학생들의 점수에 따라서 성적을 매기려고 하는 코드를 실행해보자"
   ]
  },
  {
   "cell_type": "code",
   "execution_count": 23,
   "id": "66c2c10b-008d-4e65-82f7-b15d531f9485",
   "metadata": {},
   "outputs": [],
   "source": [
    "a_student_score1 = 87\n",
    "b_student_score1 = 66\n",
    "c_student_score1 = 94\n",
    "d_student_score1 = 56\n",
    "e_student_score1 = 88"
   ]
  },
  {
   "cell_type": "code",
   "execution_count": 24,
   "id": "924af582-5e69-4dae-bdf3-7608279a89a9",
   "metadata": {},
   "outputs": [
    {
     "name": "stdout",
     "output_type": "stream",
     "text": [
      "우\n",
      "양\n",
      "수\n",
      "가\n",
      "우\n"
     ]
    }
   ],
   "source": [
    "score = a_student_score1\n",
    "\n",
    "if score > 90:\n",
    "    print(\"수\")\n",
    "elif score > 80:\n",
    "    print(\"우\")\n",
    "elif score > 70:\n",
    "    print(\"미\")\n",
    "elif score > 60:\n",
    "    print(\"양\")\n",
    "else:\n",
    "    print(\"가\")\n",
    "#-----------------------------------------#\n",
    "score = b_student_score1\n",
    "\n",
    "if score > 90:\n",
    "    print(\"수\")\n",
    "elif score > 80:\n",
    "    print(\"우\")\n",
    "elif score > 70:\n",
    "    print(\"미\")\n",
    "elif score > 60:\n",
    "    print(\"양\")\n",
    "else:\n",
    "    print(\"가\")\n",
    "#-----------------------------------------#\n",
    "score = c_student_score1\n",
    "\n",
    "if score > 90:\n",
    "    print(\"수\")\n",
    "elif score > 80:\n",
    "    print(\"우\")\n",
    "elif score > 70:\n",
    "    print(\"미\")\n",
    "elif score > 60:\n",
    "    print(\"양\")\n",
    "else:\n",
    "    print(\"가\")\n",
    "#-----------------------------------------#\n",
    "score = d_student_score1\n",
    "\n",
    "if score > 90:\n",
    "    print(\"수\")\n",
    "elif score > 80:\n",
    "    print(\"우\")\n",
    "elif score > 70:\n",
    "    print(\"미\")\n",
    "elif score > 60:\n",
    "    print(\"양\")\n",
    "else:\n",
    "    print(\"가\")\n",
    "#-----------------------------------------#\n",
    "score = e_student_score1\n",
    "\n",
    "if score > 90:\n",
    "    print(\"수\")\n",
    "elif score > 80:\n",
    "    print(\"우\")\n",
    "elif score > 70:\n",
    "    print(\"미\")\n",
    "elif score > 60:\n",
    "    print(\"양\")\n",
    "else:\n",
    "    print(\"가\")"
   ]
  },
  {
   "cell_type": "markdown",
   "id": "9b0c1be0-1f93-4130-b507-dd6e6856fe94",
   "metadata": {},
   "source": [
    "좀 더 간단하게 하기 위해 변수 하나하나 할당하는 방식이 아닌 값들을 한번에 담는 파이썬의 자료구조 리스트(list)를 사용하여 표현해보자."
   ]
  },
  {
   "cell_type": "code",
   "execution_count": 25,
   "id": "c2093ea8-f41f-4d36-ab7f-ee242c3ab8c8",
   "metadata": {},
   "outputs": [
    {
     "name": "stdout",
     "output_type": "stream",
     "text": [
      "우\n",
      "양\n",
      "수\n",
      "가\n",
      "우\n"
     ]
    }
   ],
   "source": [
    "scores = [87, 66, 94, 56, 88] # 리스트(List)\n",
    "#-----------------------------------------#\n",
    "score = scores[0]\n",
    "\n",
    "if score > 90:\n",
    "    print(\"수\")\n",
    "elif score > 80:\n",
    "    print(\"우\")\n",
    "elif score > 70:\n",
    "    print(\"미\")\n",
    "elif score > 60:\n",
    "    print(\"양\")\n",
    "else:\n",
    "    print(\"가\")\n",
    "#-----------------------------------------#\n",
    "score = scores[1]\n",
    "\n",
    "if score > 90:\n",
    "    print(\"수\")\n",
    "elif score > 80:\n",
    "    print(\"우\")\n",
    "elif score > 70:\n",
    "    print(\"미\")\n",
    "elif score > 60:\n",
    "    print(\"양\")\n",
    "else:\n",
    "    print(\"가\")\n",
    "#-----------------------------------------#\n",
    "score = scores[2]\n",
    "\n",
    "if score > 90:\n",
    "    print(\"수\")\n",
    "elif score > 80:\n",
    "    print(\"우\")\n",
    "elif score > 70:\n",
    "    print(\"미\")\n",
    "elif score > 60:\n",
    "    print(\"양\")\n",
    "else:\n",
    "    print(\"가\")\n",
    "#-----------------------------------------#\n",
    "score = scores[3]\n",
    "\n",
    "if score > 90:\n",
    "    print(\"수\")\n",
    "elif score > 80:\n",
    "    print(\"우\")\n",
    "elif score > 70:\n",
    "    print(\"미\")\n",
    "elif score > 60:\n",
    "    print(\"양\")\n",
    "else:\n",
    "    print(\"가\")\n",
    "#-----------------------------------------#\n",
    "score = scores[4]\n",
    "\n",
    "if score > 90:\n",
    "    print(\"수\")\n",
    "elif score > 80:\n",
    "    print(\"우\")\n",
    "elif score > 70:\n",
    "    print(\"미\")\n",
    "elif score > 60:\n",
    "    print(\"양\")\n",
    "else:\n",
    "    print(\"가\")"
   ]
  },
  {
   "cell_type": "markdown",
   "id": "d9948d87-6a4e-4db7-911d-1a1fae399e21",
   "metadata": {},
   "source": [
    "## - for"
   ]
  },
  {
   "cell_type": "markdown",
   "id": "e3ef89ff-5a12-42d5-9132-742c44f3ccf9",
   "metadata": {},
   "source": [
    "다음 코드가 계속 반복되고 있는 것을 볼 수 있다.\n",
    "\n",
    "```python\n",
    "if score > 90:\n",
    "    print(\"수\")\n",
    "elif score > 80:\n",
    "    print(\"우\")\n",
    "elif score > 70:\n",
    "    print(\"미\")\n",
    "elif score > 60:\n",
    "    print(\"양\")\n",
    "else:\n",
    "    print(\"가\")\n",
    "```\n",
    "\n",
    "똑같은 작업을 n번 할 때마다 똑같은 코드를 n번 작성하는 것은 비효율적이다.\n",
    "\n",
    "그래서 for문이 등장한다"
   ]
  },
  {
   "cell_type": "code",
   "execution_count": 26,
   "id": "a76c1460-b293-4cc2-a9d1-6d6a2b270ac8",
   "metadata": {},
   "outputs": [
    {
     "name": "stdout",
     "output_type": "stream",
     "text": [
      "우\n",
      "양\n",
      "수\n",
      "가\n",
      "우\n"
     ]
    }
   ],
   "source": [
    "scores = [87, 66, 94, 56, 88] # 리스트(List)\n",
    "\n",
    "for score in scores:\n",
    "    if score > 90:\n",
    "        print(\"수\")\n",
    "    elif score > 80:\n",
    "        print(\"우\")\n",
    "    elif score > 70:\n",
    "        print(\"미\")\n",
    "    elif score > 60:\n",
    "        print(\"양\")\n",
    "    else:\n",
    "        print(\"가\")"
   ]
  },
  {
   "cell_type": "markdown",
   "id": "4efbd97c-5ebd-402a-936a-b10f968c9328",
   "metadata": {},
   "source": [
    "훨씬 보기 좋고 깔끔하다.\n",
    "\n",
    "`in` 연산자 뒤에 있는 scores의 값 요소들을 순서대로 가져와 처리하는 코드가 완성되었다.\n",
    "\n",
    "꼭 존재하고 있는 변수 뿐아니라 임의의 요소들을 그때 그때 지정하여 반복문을 돌릴 수도 있다."
   ]
  },
  {
   "cell_type": "code",
   "execution_count": 27,
   "id": "e99a619f-5e75-4b98-ae1d-66d57c72ecc0",
   "metadata": {},
   "outputs": [
    {
     "name": "stdout",
     "output_type": "stream",
     "text": [
      "1 2 3 4 5 "
     ]
    }
   ],
   "source": [
    "for i in 1, 2, 3, 4, 5:\n",
    "    print(i, end=\" \");"
   ]
  },
  {
   "cell_type": "markdown",
   "id": "a187d110-7429-473e-aedb-6bd375adbab8",
   "metadata": {},
   "source": [
    "### * range()"
   ]
  },
  {
   "cell_type": "markdown",
   "id": "09b5ebaf-3655-4a24-a5c0-91b1ff20a00c",
   "metadata": {},
   "source": [
    "이 함수를 사용하면 반복의 횟수 혹은 규칙적으로 증감하는 숫자를 토대로 하여 좀더 편리한 반복문을 짤 수 있다.\n",
    "\n",
    "마지막 숫자는 포함하지 않는다.\n",
    "\n",
    " - EX) `range(10)` : 0부터 9까지\n",
    " - EX) `range(1, 10)` : 1부터 9까지\n",
    " - EX) `range(1, 10, 2)` : 1부터 9까지 2씩 증가"
   ]
  },
  {
   "cell_type": "code",
   "execution_count": 28,
   "id": "4ec084c7-864f-43f8-91b7-2df3b402c88b",
   "metadata": {},
   "outputs": [
    {
     "name": "stdout",
     "output_type": "stream",
     "text": [
      "0 1 2 3 4 5 6 7 8 9 "
     ]
    }
   ],
   "source": [
    "for i in range(10):\n",
    "    print(i, end=\" \")"
   ]
  },
  {
   "cell_type": "code",
   "execution_count": 29,
   "id": "02de035f-75ed-49d8-9784-884f826b7ff8",
   "metadata": {},
   "outputs": [
    {
     "name": "stdout",
     "output_type": "stream",
     "text": [
      "1 2 3 4 5 6 7 8 9 "
     ]
    }
   ],
   "source": [
    "for i in range(1, 10):\n",
    "    print(i, end=\" \")"
   ]
  },
  {
   "cell_type": "code",
   "execution_count": 30,
   "id": "7b667314-cffc-435e-b445-e236d59ae2c0",
   "metadata": {},
   "outputs": [
    {
     "name": "stdout",
     "output_type": "stream",
     "text": [
      "1 3 5 7 9 "
     ]
    }
   ],
   "source": [
    "for i in range(1, 10, 2):\n",
    "    print(i, end=\" \")"
   ]
  },
  {
   "cell_type": "markdown",
   "id": "38fc7bd2-ff4c-426a-8937-92b8a57dc0ad",
   "metadata": {},
   "source": [
    "## - while"
   ]
  },
  {
   "cell_type": "markdown",
   "id": "087f0324-06b5-4266-b37c-e17504b34d83",
   "metadata": {},
   "source": [
    "for문 뿐만 아니라 while문을 통해서도 반복문을 실행할 수 있다.\n",
    "\n",
    "for문과의 차이가 있다면 while문 뒤에는 조건문만 온다는 점이다."
   ]
  },
  {
   "cell_type": "code",
   "execution_count": 31,
   "id": "7f1717fd-4559-408b-87a7-05be77f55b04",
   "metadata": {},
   "outputs": [
    {
     "name": "stdout",
     "output_type": "stream",
     "text": [
      "0 1 2 3 4 5 6 7 8 9 "
     ]
    }
   ],
   "source": [
    "i = 0\n",
    "\n",
    "while i < 10:\n",
    "    print(i, end=\" \")\n",
    "    i += 1"
   ]
  },
  {
   "cell_type": "markdown",
   "id": "764a7c94-7227-4387-a46c-e8be70501d8d",
   "metadata": {},
   "source": [
    "## - continue & break"
   ]
  },
  {
   "cell_type": "markdown",
   "id": "e54567e8-2e50-4ef2-bbda-6fa60e3e7bc2",
   "metadata": {},
   "source": [
    "continue와 break의 공통점은 만일 프로그램이 이 키워드를 만나면 해당 영역(for문 실행 영역 혹은 while문 실행 영역)의 해당 반복 실행을 멈춘다는 점이다.\n",
    "\n",
    "차이점은 \n",
    " - continue는 다시 반복 실행을 위한 조건을 확인하여 다시 반복할건지 안할 건지 판단하지만\n",
    " - break는 그 자리에서 해당 반복문 실행을 종료시키고 다음 실행 명령으로 넘어가는 것이다."
   ]
  },
  {
   "cell_type": "code",
   "execution_count": 32,
   "id": "acc5adf3-818f-4b7a-bc5a-02fcaee96db5",
   "metadata": {},
   "outputs": [
    {
     "name": "stdout",
     "output_type": "stream",
     "text": [
      "0 2 4 6 8 "
     ]
    }
   ],
   "source": [
    "for i in range(10):\n",
    "    if i % 2 != 0:\n",
    "        continue\n",
    "    print(i, end = \" \")"
   ]
  },
  {
   "cell_type": "markdown",
   "id": "170b88e3-9f6b-4b85-804c-1c7d49250c39",
   "metadata": {},
   "source": [
    "i가 짝수라면 해당 반복은 더는 보지 않고 다음 반복으로 넘어간다"
   ]
  },
  {
   "cell_type": "code",
   "execution_count": 33,
   "id": "312197c0-f094-4b3f-b052-2b37772d860f",
   "metadata": {},
   "outputs": [
    {
     "name": "stdout",
     "output_type": "stream",
     "text": [
      "1 2 3 4 5 6 7 "
     ]
    }
   ],
   "source": [
    "i = 0\n",
    "\n",
    "while i < 10:\n",
    "    if i == 7:\n",
    "        break\n",
    "    i += 1\n",
    "    print(i, end = \" \")"
   ]
  },
  {
   "cell_type": "markdown",
   "id": "1663d7df-5446-4703-bf18-53b3b6b3c2c3",
   "metadata": {},
   "source": [
    "i가 7이라면 while문을 종료한다"
   ]
  },
  {
   "cell_type": "markdown",
   "id": "6a15b35a-eab7-4342-bef7-8236b3ec28a6",
   "metadata": {},
   "source": [
    "## - pass문"
   ]
  },
  {
   "cell_type": "markdown",
   "id": "76c01b15-8160-43ef-916a-0744371b312d",
   "metadata": {},
   "source": [
    "아직 어떻게 코드를 짤 것인지 정하지 않았지만 에러 발생없이 남겨두고 싶다면 pass문을 사용하면 된다."
   ]
  },
  {
   "cell_type": "code",
   "execution_count": 35,
   "id": "75106384-b6ab-4aab-9edf-16f579df8629",
   "metadata": {},
   "outputs": [],
   "source": [
    "for i in range(100):\n",
    "    pass"
   ]
  },
  {
   "cell_type": "markdown",
   "id": "531df8c7-f624-4b3e-af03-c0be5cf570ef",
   "metadata": {},
   "source": [
    "<br>\n",
    "<br>\n",
    "<br>\n",
    "<br>\n",
    "<br>\n",
    "<br>\n",
    "<hr>\n",
    "<br>\n",
    "<br>\n",
    "<br>\n",
    "<br>\n",
    "<br>\n",
    "<br>"
   ]
  },
  {
   "cell_type": "markdown",
   "id": "aa9460cd-dab9-494a-a725-0711bd5f526a",
   "metadata": {},
   "source": [
    "# 06. 함수기초"
   ]
  },
  {
   "cell_type": "markdown",
   "id": "7a05f2f4-c6a6-434e-8d2f-815d28cc5fbb",
   "metadata": {},
   "source": [
    "## - 함수 선언과 호출"
   ]
  },
  {
   "cell_type": "markdown",
   "id": "036bb4e8-d469-457e-ac17-60424e81337a",
   "metadata": {},
   "source": [
    "함수의 선언과 호출법은 아래와 같다"
   ]
  },
  {
   "cell_type": "code",
   "execution_count": 39,
   "id": "161e5c94-acd2-43c6-bb3f-4a8b9948143d",
   "metadata": {},
   "outputs": [],
   "source": [
    "def abc(num):\n",
    "    print(num+10)"
   ]
  },
  {
   "cell_type": "code",
   "execution_count": 40,
   "id": "752a8f39-6d1c-4a2f-8658-47d843132118",
   "metadata": {},
   "outputs": [
    {
     "name": "stdout",
     "output_type": "stream",
     "text": [
      "20\n",
      "None\n"
     ]
    }
   ],
   "source": [
    "result = abc(10)\n",
    "print(result)"
   ]
  },
  {
   "cell_type": "code",
   "execution_count": 41,
   "id": "c875cb31-fcd9-4578-9312-b72ccb18e973",
   "metadata": {},
   "outputs": [],
   "source": [
    "def my_add_func(num1, num2): # num1과 num2는 파라미터(Parameter) 혹은 매개변수라고 한다\r\n",
    "    print(\"더하기 완료!\")\r\n",
    "    return num1 + num2"
   ]
  },
  {
   "cell_type": "code",
   "execution_count": 44,
   "id": "45eec7ac-cf78-4f5e-9734-a422829edd50",
   "metadata": {},
   "outputs": [
    {
     "name": "stdout",
     "output_type": "stream",
     "text": [
      "<function my_add_func at 0x00000248584FB9D0>\n",
      "더하기 완료!\n",
      "30\n"
     ]
    }
   ],
   "source": [
    "func = my_add_func\r\n",
    "print(func) # 함수를 변수로 받을 수도 있다.\r\n",
    "result = func(10, 20)\r\n",
    "print(result)"
   ]
  },
  {
   "cell_type": "code",
   "execution_count": 46,
   "id": "365f581d-1116-4e46-add6-2e4c55fcdee9",
   "metadata": {
    "tags": []
   },
   "outputs": [],
   "source": [
    "def doSomething(func, num):\n",
    "    print(func(num))"
   ]
  },
  {
   "cell_type": "code",
   "execution_count": 48,
   "id": "ccb8d826-5f08-4df0-9dbe-b47d66f0a8ca",
   "metadata": {},
   "outputs": [
    {
     "name": "stdout",
     "output_type": "stream",
     "text": [
      "9\n"
     ]
    }
   ],
   "source": [
    "def minus(num):\n",
    "    return num - 1\n",
    "\n",
    "doSomething(minus, 10)"
   ]
  },
  {
   "cell_type": "code",
   "execution_count": 51,
   "id": "7fd7b72c-6d9d-4711-ab25-1cc2d2d654e2",
   "metadata": {},
   "outputs": [],
   "source": [
    "def multiply(a, b):\n",
    "    print(a * b)"
   ]
  },
  {
   "cell_type": "code",
   "execution_count": 52,
   "id": "ae9fb83d-4439-4d2d-8e7a-30ea98ad62c0",
   "metadata": {},
   "outputs": [
    {
     "name": "stdout",
     "output_type": "stream",
     "text": [
      "200\n"
     ]
    }
   ],
   "source": [
    "a = 10\n",
    "b = 20\n",
    "multiply(a, b)"
   ]
  },
  {
   "cell_type": "markdown",
   "id": "b4882db9-e7cf-4e7f-930f-f1e4c97f47c5",
   "metadata": {
    "tags": []
   },
   "source": [
    "## - Documentation"
   ]
  },
  {
   "cell_type": "markdown",
   "id": "756914fb-47ff-4608-b7e9-f135f99bd047",
   "metadata": {},
   "source": [
    "협업을 할 때 모두를 위해 함수에 대한 설명서를 적어두는 것이 좋을 것이다. \n",
    "\n",
    "설사 자신 작성한 함수더라도 긴 시간이 지나면 자신도 어떤 함수였는지 잊어버리게 될 것이다."
   ]
  },
  {
   "cell_type": "code",
   "execution_count": 80,
   "id": "7cfd88c7-3ad2-479e-8659-9c2ff50132db",
   "metadata": {},
   "outputs": [],
   "source": [
    "def my_function():\n",
    "    \"\"\"\\\n",
    "    이 my_function 함수는 어떻게 Documentation을 하는지\n",
    "    알리기 위해서 사용되어졌습니다.\n",
    "    \n",
    "    오예~\n",
    "    \"\"\"\n",
    "    pass"
   ]
  },
  {
   "cell_type": "code",
   "execution_count": 81,
   "id": "a4d77bdc-c8cb-4b01-9159-34c44e03252c",
   "metadata": {},
   "outputs": [
    {
     "name": "stdout",
     "output_type": "stream",
     "text": [
      "    이 my_function 함수는 어떻게 Documentation을 하는지\n",
      "    알리기 위해서 사용되어졌습니다.\n",
      "    \n",
      "    오예~\n",
      "    \n"
     ]
    }
   ],
   "source": [
    "print(my_function.__doc__)"
   ]
  },
  {
   "cell_type": "markdown",
   "id": "dff14552-76f6-4fa0-aea4-050c5867bf8e",
   "metadata": {},
   "source": [
    "`\"\"\"\\`에 `\\`를 추가한 이유는 개행을 막기 위해서이다. 만일 `\\`가 없게 되면 개행이 된 상태로 출력될 것이다."
   ]
  },
  {
   "cell_type": "code",
   "execution_count": 82,
   "id": "ed8f01dd-c241-4d53-9d45-370c1f153e7d",
   "metadata": {},
   "outputs": [
    {
     "name": "stdout",
     "output_type": "stream",
     "text": [
      "\n",
      "    이 my_function 함수는 어떻게 Documentation을 하는지\n",
      "    알리기 위해서 사용되어졌습니다.\n",
      "    \n",
      "    오예~\n",
      "    \n"
     ]
    }
   ],
   "source": [
    "def my_function():\n",
    "    \"\"\"\n",
    "    이 my_function 함수는 어떻게 Documentation을 하는지\n",
    "    알리기 위해서 사용되어졌습니다.\n",
    "    \n",
    "    오예~\n",
    "    \"\"\"\n",
    "    pass\n",
    "\n",
    "print(my_function.__doc__)"
   ]
  },
  {
   "cell_type": "markdown",
   "id": "6e18deb8-c33d-45de-9207-541f9608cb0f",
   "metadata": {},
   "source": [
    "## - Annotation\n",
    " - 어노테이션은 메타데이터 정보\n",
    " - `__annotation__`에 dict로 저장됨\n",
    " - 매개변수 뒤 `:`으로 정의됨\n",
    " - Java와 달리 Python에서의 어노테이션은 사용자에게 인자값의 형태와 반환값을 알려주는 것"
   ]
  },
  {
   "cell_type": "markdown",
   "id": "79d9c4ab-09dc-47c6-9cde-a024d7fdc04c",
   "metadata": {},
   "source": [
    "파이썬의 변수는 할당 값에 따라 자료형이 바뀌게 된다.\n",
    "\n",
    "즉, 함수의 매개변수에 문자열이 들어올 수도, 리스트가 들어올 수도, 정수가 들어올 수도 있다는 말이다.\n",
    "\n",
    "비록 어노테이션이 특정 자료형 사용을 강제하지 않지만 함수를 사용하는 개발자에게 좋은 힌트가 될 것이다.\n",
    "\n",
    "개인적으로 협업시 함수를 만들 때 `Documentation`과 `Annotation`을 습관적으로 작성하는 것이 좋다고 생각한다."
   ]
  },
  {
   "cell_type": "code",
   "execution_count": 37,
   "id": "c21ffc04-a13d-4884-9851-8dd764f9e66d",
   "metadata": {},
   "outputs": [
    {
     "data": {
      "text/plain": [
       "{'score': int}"
      ]
     },
     "execution_count": 37,
     "metadata": {},
     "output_type": "execute_result"
    }
   ],
   "source": [
    "score: int = 91\n",
    "__annotations__"
   ]
  },
  {
   "cell_type": "code",
   "execution_count": 84,
   "id": "ec7e4885-b65b-47c6-92da-8cd4eb8e33bb",
   "metadata": {},
   "outputs": [
    {
     "name": "stdout",
     "output_type": "stream",
     "text": [
      "11\n"
     ]
    }
   ],
   "source": [
    "def abc(ddd : int) -> int:\n",
    "    \"\"\"\n",
    "    이 abc함수는 ddd라는 파라미터에 정수값이 들어가고\n",
    "    여기에 1이 더해진 값이 반환된다.\n",
    "    \"\"\"\n",
    "    return ddd + 1\n",
    "\n",
    "print(abc(10))"
   ]
  },
  {
   "cell_type": "markdown",
   "id": "cac1fe61-e7a1-47fc-aed6-fcc54449c20a",
   "metadata": {},
   "source": [
    "<br>\n",
    "<br>\n",
    "<br>\n",
    "<br>\n",
    "<br>\n",
    "<br>\n",
    "<hr>\n",
    "<br>\n",
    "<br>\n",
    "<br>\n",
    "<br>\n",
    "<br>\n",
    "<br>"
   ]
  },
  {
   "cell_type": "markdown",
   "id": "d7f066cb-ad59-4e5d-9ff6-3cf9e263363e",
   "metadata": {},
   "source": [
    "# 07. 자료구조( List, Tuple, Set, Dictionary )"
   ]
  },
  {
   "cell_type": "markdown",
   "id": "39ad22d6-117f-497a-beb6-fb6b0d613006",
   "metadata": {
    "tags": []
   },
   "source": [
    "## - List"
   ]
  },
  {
   "cell_type": "markdown",
   "id": "1d0fa958-5127-4b11-bc52-c3d655145c7e",
   "metadata": {},
   "source": [
    "아래와 같은 자료구조를 리스트라고 한다. 여러 값들을 하나의 변수로 묶을 때 편리하다"
   ]
  },
  {
   "cell_type": "code",
   "execution_count": 53,
   "id": "04b28ceb-edb3-4b01-8033-477fe6e150e9",
   "metadata": {
    "tags": []
   },
   "outputs": [],
   "source": [
    "myList = [1, 2, 3, 4, 5, 6, 7]"
   ]
  },
  {
   "cell_type": "markdown",
   "id": "3a69a545-c90e-4b8e-9f17-dbe027267798",
   "metadata": {},
   "source": [
    "만일 3이라는 값을 가져오고 싶을 때는 myList의 3번째 값을 가져오라고 명령하면 된다.\n",
    "\n",
    "컴퓨터는 0부터 시작하고 각 요소를 앞에서부터 순서 매긴다(0, 1 , 2, 3, ...).\n",
    "\n",
    "이 번호를 인덱스(index)라고 한다.\n",
    "\n",
    "myList의 3번째 값을 가져오고 싶다면 index 2의 값을 가져오라고 하면 된다."
   ]
  },
  {
   "cell_type": "code",
   "execution_count": 54,
   "id": "1608cc07-e156-4f2b-8e2b-43d5eb27a3bf",
   "metadata": {},
   "outputs": [
    {
     "data": {
      "text/plain": [
       "3"
      ]
     },
     "execution_count": 54,
     "metadata": {},
     "output_type": "execute_result"
    }
   ],
   "source": [
    "myList[2]"
   ]
  },
  {
   "cell_type": "markdown",
   "id": "b311c5c1-1f7e-444e-b1b0-0c2400ad2199",
   "metadata": {},
   "source": [
    " - len()"
   ]
  },
  {
   "cell_type": "markdown",
   "id": "787372e7-81c2-4fcf-ac65-2313b344f957",
   "metadata": {},
   "source": [
    "요소의 갯수를 파악할 수 있다(길이를 파악할 수 있다)."
   ]
  },
  {
   "cell_type": "code",
   "execution_count": 55,
   "id": "25c2c082-d123-48bb-a9d8-13b501df4bbe",
   "metadata": {},
   "outputs": [
    {
     "data": {
      "text/plain": [
       "7"
      ]
     },
     "execution_count": 55,
     "metadata": {},
     "output_type": "execute_result"
    }
   ],
   "source": [
    "len(myList)"
   ]
  },
  {
   "cell_type": "markdown",
   "id": "c1c6fa25-45b1-4eaa-88ab-7a988b7e97cd",
   "metadata": {
    "tags": []
   },
   "source": [
    "### * 슬라이싱(slicing or slice)"
   ]
  },
  {
   "cell_type": "markdown",
   "id": "40760757-1afe-4f63-bae2-e2a68c2f42a3",
   "metadata": {},
   "source": [
    "`:`을 통해 슬라이싱하여 특정 범위의 리스트 값들을 얻을 수 있다. (맨 끝 숫자는 포함되지 않는다)"
   ]
  },
  {
   "cell_type": "code",
   "execution_count": 56,
   "id": "e9267d4c-e890-4ca7-b515-4351a09aa1b4",
   "metadata": {},
   "outputs": [
    {
     "data": {
      "text/plain": [
       "[1, 2, 3]"
      ]
     },
     "execution_count": 56,
     "metadata": {},
     "output_type": "execute_result"
    }
   ],
   "source": [
    "myList[:3]"
   ]
  },
  {
   "cell_type": "code",
   "execution_count": 57,
   "id": "68d4af28-9a6a-415c-9735-6cbb62fa1284",
   "metadata": {},
   "outputs": [
    {
     "data": {
      "text/plain": [
       "[2, 3]"
      ]
     },
     "execution_count": 57,
     "metadata": {},
     "output_type": "execute_result"
    }
   ],
   "source": [
    "myList[1:3]"
   ]
  },
  {
   "cell_type": "code",
   "execution_count": 58,
   "id": "2f70e8b2-9f86-4028-bc5a-359bcaee5814",
   "metadata": {},
   "outputs": [
    {
     "data": {
      "text/plain": [
       "[6, 7]"
      ]
     },
     "execution_count": 58,
     "metadata": {},
     "output_type": "execute_result"
    }
   ],
   "source": [
    "myList[5:]"
   ]
  },
  {
   "cell_type": "code",
   "execution_count": 59,
   "id": "323be199-84fd-4acd-b47d-e1e309c7922c",
   "metadata": {},
   "outputs": [
    {
     "data": {
      "text/plain": [
       "[1, 2, 3, 4, 5, 6, 7]"
      ]
     },
     "execution_count": 59,
     "metadata": {},
     "output_type": "execute_result"
    }
   ],
   "source": [
    "myList[:] # 전체를 가져온다"
   ]
  },
  {
   "cell_type": "markdown",
   "id": "c1051b4a-f4ec-4a5c-bece-b33bb7c059cd",
   "metadata": {},
   "source": [
    "## - Tuple"
   ]
  },
  {
   "cell_type": "markdown",
   "id": "8139a50d-9a23-4976-8fad-4b95f3b4d6f2",
   "metadata": {},
   "source": [
    "List 자료구조와 비슷하지만 다른점이라면 List는 mutable하고 Tuple은 immutable하다.\n",
    "\n",
    "즉, 튜플은 리스트처럼 요소를 변경, 삭제 및 추가를 하지 못한다."
   ]
  },
  {
   "cell_type": "markdown",
   "id": "5ddcf0fa-e5dc-4698-a05d-74424187aadf",
   "metadata": {},
   "source": [
    "아래와 같이 선언하게 되면 튜플이 만들어진다."
   ]
  },
  {
   "cell_type": "code",
   "execution_count": 60,
   "id": "8ff202a4-b576-4983-9444-0442c5d20c3b",
   "metadata": {},
   "outputs": [
    {
     "data": {
      "text/plain": [
       "(1234, 'hello', 3.14)"
      ]
     },
     "execution_count": 60,
     "metadata": {},
     "output_type": "execute_result"
    }
   ],
   "source": [
    "t = 1234, \"hello\", 3.14\n",
    "t"
   ]
  },
  {
   "cell_type": "code",
   "execution_count": 63,
   "id": "d2770963-9025-45b1-81f3-cbbed5c614d8",
   "metadata": {},
   "outputs": [
    {
     "name": "stdout",
     "output_type": "stream",
     "text": [
      "1 2 3\n"
     ]
    }
   ],
   "source": [
    "a = (1, 2, 3)\n",
    "x= a[0]\n",
    "y = a[1]\n",
    "z = a[2]\n",
    "print(x, y, z)"
   ]
  },
  {
   "cell_type": "markdown",
   "id": "d5f4fcfd-f9f1-41f4-9c15-57730ec0e21d",
   "metadata": {},
   "source": [
    "아래와 같이 디스트럭팅(destructing) 방식으로 할당할 수 있다."
   ]
  },
  {
   "cell_type": "code",
   "execution_count": 64,
   "id": "bb2e5420-c1ec-4291-b451-2b0fedf0f55d",
   "metadata": {},
   "outputs": [],
   "source": [
    "x, y, z = (1, 2, 3)"
   ]
  },
  {
   "cell_type": "code",
   "execution_count": 65,
   "id": "7c92094a-5c50-4d2d-95aa-195cacb7f024",
   "metadata": {},
   "outputs": [
    {
     "name": "stdout",
     "output_type": "stream",
     "text": [
      "1\n",
      "2\n",
      "3\n"
     ]
    }
   ],
   "source": [
    "print(x)\n",
    "print(y)\n",
    "print(z)"
   ]
  },
  {
   "cell_type": "markdown",
   "id": "1b0cfe0d-acc2-4b37-8133-b412a32be227",
   "metadata": {},
   "source": [
    "## - Dictionary"
   ]
  },
  {
   "cell_type": "markdown",
   "id": "f3685e11-fee4-4507-aac9-49ef61601f87",
   "metadata": {},
   "source": [
    "Dictionary 자료구조는 key-value쌍의 데이터들이 모인 것이다."
   ]
  },
  {
   "cell_type": "code",
   "execution_count": 70,
   "id": "c929bf1f-8d90-4172-8ffe-66ae3d33308a",
   "metadata": {},
   "outputs": [],
   "source": [
    "tel = {'jack' : 4098, 'sape' : 4139}"
   ]
  },
  {
   "cell_type": "code",
   "execution_count": 71,
   "id": "53908152-1bdb-471e-af8b-287412d1f6ce",
   "metadata": {},
   "outputs": [
    {
     "data": {
      "text/plain": [
       "4098"
      ]
     },
     "execution_count": 71,
     "metadata": {},
     "output_type": "execute_result"
    }
   ],
   "source": [
    "tel['jack'] # value를 얻어올 때 해당 value의 key를 이용한다"
   ]
  },
  {
   "cell_type": "code",
   "execution_count": 72,
   "id": "107d113a-d243-4521-915b-de83af8d7339",
   "metadata": {},
   "outputs": [],
   "source": [
    "del tel['sape'] # 삭제"
   ]
  },
  {
   "cell_type": "code",
   "execution_count": 73,
   "id": "0075b50e-76e7-4e70-baf4-2a723709f42d",
   "metadata": {},
   "outputs": [],
   "source": [
    "tel['irv'] = 4127 # 추가 ( 만일 이미 있는 key라면 value변경 )"
   ]
  },
  {
   "cell_type": "code",
   "execution_count": 74,
   "id": "0e6b07fe-9f80-4f27-ab7f-5b5de88530a9",
   "metadata": {},
   "outputs": [
    {
     "data": {
      "text/plain": [
       "{'jack': 4098, 'irv': 4127}"
      ]
     },
     "execution_count": 74,
     "metadata": {},
     "output_type": "execute_result"
    }
   ],
   "source": [
    "tel"
   ]
  },
  {
   "cell_type": "code",
   "execution_count": 75,
   "id": "8898f724-4430-41ea-a474-d2600a23dc25",
   "metadata": {},
   "outputs": [
    {
     "data": {
      "text/plain": [
       "['jack', 'irv']"
      ]
     },
     "execution_count": 75,
     "metadata": {},
     "output_type": "execute_result"
    }
   ],
   "source": [
    "list(tel) # 리스트화 시키면 key값들만 열거된다."
   ]
  },
  {
   "cell_type": "code",
   "execution_count": 77,
   "id": "88354468-400c-4456-8ded-501dd2eaef60",
   "metadata": {},
   "outputs": [
    {
     "data": {
      "text/plain": [
       "{'a': 10, 'b': 20}"
      ]
     },
     "execution_count": 77,
     "metadata": {},
     "output_type": "execute_result"
    }
   ],
   "source": [
    "dict(a= 10, b=20)"
   ]
  },
  {
   "cell_type": "code",
   "execution_count": 78,
   "id": "94cc101d-4acf-4c25-9ace-7edd058e0281",
   "metadata": {},
   "outputs": [
    {
     "data": {
      "text/plain": [
       "{'sape': 4139, 'guido': 4127, 'jack': 4098}"
      ]
     },
     "execution_count": 78,
     "metadata": {},
     "output_type": "execute_result"
    }
   ],
   "source": [
    "dict(sape=4139, guido=4127, jack=4098) # dict()를 이용한 Dictionary 자료구조 생성"
   ]
  },
  {
   "cell_type": "code",
   "execution_count": 79,
   "id": "e4d18634-69b5-4072-9c1b-0decf96d8f03",
   "metadata": {},
   "outputs": [
    {
     "data": {
      "text/plain": [
       "{'a': 10, 'b': 'hello', 'c': 100, 'd': 'world'}"
      ]
     },
     "execution_count": 79,
     "metadata": {},
     "output_type": "execute_result"
    }
   ],
   "source": [
    "# Dictionary 구조 합치기\n",
    "d1 = dict(a=10, b=\"hello\")\n",
    "d2 = dict(c=3.14)\n",
    "d3 = dict(c=100, d=\"world\")\n",
    "\n",
    "d1 | d2 | d3"
   ]
  },
  {
   "cell_type": "markdown",
   "id": "0d910893-6d6d-4fca-a86e-38fd3fd9a723",
   "metadata": {
    "tags": []
   },
   "source": [
    "## - Documentation"
   ]
  },
  {
   "cell_type": "markdown",
   "id": "68831d2f-592c-4454-8885-d9e313e4bc8c",
   "metadata": {},
   "source": [
    "협업을 할 때 모두를 위해 함수에 대한 설명서를 적어두는 것이 좋을 것이다. \n",
    "\n",
    "설사 자신 작성한 함수더라도 긴 시간이 지나면 자신도 어떤 함수였는지 잊어버리게 될 것이다."
   ]
  },
  {
   "cell_type": "code",
   "execution_count": null,
   "id": "90b327ec-06ce-4977-b57f-d8436b5eee52",
   "metadata": {},
   "outputs": [],
   "source": [
    "def my_function():\n",
    "    \"\"\"\\\n",
    "    이 my_function 함수는 어떻게 Documentation을 하는지\n",
    "    알리기 위해서 사용되어졌습니다.\n",
    "    \n",
    "    오예~\n",
    "    \"\"\"\n",
    "    pass\n",
    "\n",
    "print(my_function.__doc__)"
   ]
  },
  {
   "cell_type": "markdown",
   "id": "21bc5ad9-bf6c-4787-96b5-452afe0bfd75",
   "metadata": {},
   "source": [
    "`\"\"\"\\`에 `\\`를 추가한 이유는 개행을 막기 위해서이다. 만일 `\\`가 없게 되면 개행이 된 상태로 출력될 것이다."
   ]
  },
  {
   "cell_type": "code",
   "execution_count": null,
   "id": "e195024a-10aa-4fab-b5f6-e8812669ee67",
   "metadata": {},
   "outputs": [],
   "source": [
    "def my_function():\n",
    "    \"\"\"\n",
    "    이 my_function 함수는 어떻게 Documentation을 하는지\n",
    "    알리기 위해서 사용되어졌습니다.\n",
    "    \n",
    "    오예~\n",
    "    \"\"\"\n",
    "    pass\n",
    "\n",
    "print(my_function.__doc__)"
   ]
  },
  {
   "cell_type": "markdown",
   "id": "68b393e9-d124-467b-abeb-365dae15147a",
   "metadata": {},
   "source": [
    "## - Annotation\n",
    " - 어노테이션은 메타데이터 정보\n",
    " - `__annotation__`에 dict로 저장됨\n",
    " - 매개변수 뒤 `:`으로 정의됨\n",
    " - Java와 달리 Python에서의 어노테이션은 사용자에게 인자값의 형태와 반환값을 알려주는 것"
   ]
  },
  {
   "cell_type": "markdown",
   "id": "c2427b72-beb0-4fe8-ac07-27b541c30b9e",
   "metadata": {},
   "source": [
    "파이썬의 변수는 할당 값에 따라 자료형이 바뀌게 된다.\n",
    "\n",
    "즉, 함수의 매개변수에 문자열이 들어올 수도, 리스트가 들어올 수도, 정수가 들어올 수도 있다는 말이다.\n",
    "\n",
    "비록 어노테이션이 특정 자료형 사용을 강제하지 않지만 함수를 사용하는 개발자에게 좋은 힌트가 될 것이다.\n",
    "\n",
    "개인적으로 협업시 함수를 만들 때 `Documentation`과 `Annotation`을 습관적으로 작성하는 것이 좋다고 생각한다."
   ]
  },
  {
   "cell_type": "code",
   "execution_count": null,
   "id": "c81959cb-32a8-4f98-af14-f864078c1190",
   "metadata": {},
   "outputs": [],
   "source": [
    "score: int = 91\n",
    "__annotations__"
   ]
  },
  {
   "cell_type": "code",
   "execution_count": null,
   "id": "13fc3707-b76b-46c7-b191-756c66e92b27",
   "metadata": {},
   "outputs": [],
   "source": [
    "def f(ham: str, eggs: str = 'eggs') -> int: # 이 함수는 ham과 eggs 매개변수에는 문자열이 들어오고 정수가 반환됩니다.\n",
    "    print(\"Annotations:\", f.__annotations__)\n",
    "    print(\"Arguments:\", ham, eggs)\n",
    "    return 0\n",
    "f('spam')"
   ]
  },
  {
   "cell_type": "markdown",
   "id": "60ffdc6f-2468-4644-a3d7-a6bf9088d669",
   "metadata": {},
   "source": [
    "<br>\n",
    "<br>\n",
    "<br>\n",
    "<br>\n",
    "<br>\n",
    "<br>\n",
    "<hr>\n",
    "<br>\n",
    "<br>\n",
    "<br>\n",
    "<br>\n",
    "<br>\n",
    "<br>"
   ]
  },
  {
   "cell_type": "markdown",
   "id": "0d16ca19-7b72-4402-b699-0ca59898a1f6",
   "metadata": {
    "tags": []
   },
   "source": [
    "# 09. 문자열 다루기"
   ]
  },
  {
   "cell_type": "markdown",
   "id": "7950fe33-ccb9-4866-92b6-5ed9e67dede2",
   "metadata": {
    "tags": []
   },
   "source": [
    "## - Escape and Raw"
   ]
  },
  {
   "cell_type": "markdown",
   "id": "7462c5eb-c9ef-4800-b978-a6daef187d91",
   "metadata": {},
   "source": [
    "파이썬에서 문자열을 표현할 때 `\" ... \"` 혹은 `' ... '`을 사용한다.\n",
    "\n",
    "그래서 문법적으로 쓰이는 쌍따옴표(`\"`)나 홑따옴표(`'`)를 문자열로써 포함시키고 싶을 수 있다.\n",
    "\n",
    "Escape는 `\\`로 표현하고 프로그래밍 문법적 요소로 쓰이는 문자를 문자열로서 사용할 수 있게 해준다.\n",
    "\n",
    "raw는 `r`이란 단어를 맨 앞에 붙여줌으로써 문자열 안에 적힌 그대로 사용할 수 있게 도와준다"
   ]
  },
  {
   "cell_type": "code",
   "execution_count": null,
   "id": "2d9840a4-e270-4c05-8dcf-299909d97219",
   "metadata": {},
   "outputs": [],
   "source": [
    "print(\"I'am \\\"Iron Man\\\"\") #Escape"
   ]
  },
  {
   "cell_type": "code",
   "execution_count": null,
   "id": "1f9d455d-99de-4eee-ac70-9ef0402d59e4",
   "metadata": {},
   "outputs": [],
   "source": [
    "print(r'c:\\Program Files\\Python39') #Raw"
   ]
  },
  {
   "cell_type": "markdown",
   "id": "3e7d42f6-5f68-4c52-a4a8-2a71ce369b36",
   "metadata": {
    "tags": []
   },
   "source": [
    "## - 문자 합체와 반복"
   ]
  },
  {
   "cell_type": "code",
   "execution_count": null,
   "id": "dbb9de22-4930-46e2-8d3a-9f30fa421707",
   "metadata": {},
   "outputs": [],
   "source": [
    "'Py'\"thon\" #이런식으로 문자열을 합칠 수 있다."
   ]
  },
  {
   "cell_type": "code",
   "execution_count": null,
   "id": "cd4d4c9a-0dbc-4afe-868d-7fa81128fb5f",
   "metadata": {},
   "outputs": [],
   "source": [
    "'문''자열''합치기'"
   ]
  },
  {
   "cell_type": "code",
   "execution_count": null,
   "id": "d2a3b486-7c7c-49db-a924-cfed185f70e5",
   "metadata": {},
   "outputs": [],
   "source": [
    "\"파이썬\"\"은\"\"문자열을\"\"다루기\"\"좋다\""
   ]
  },
  {
   "cell_type": "code",
   "execution_count": null,
   "id": "9e412a7a-f16a-475a-b4fb-d2d8e5d0ce01",
   "metadata": {},
   "outputs": [],
   "source": [
    "#  - 두 개 이상의 문자열 리터럴 (즉, 따옴표로 둘러싸인 것들) 가 연속해서 나타나면 자동으로 이어 붙여집니다.\n",
    "text = ('Put several strings within parentheses '\n",
    "        'to have them joined together.')\n",
    "text"
   ]
  },
  {
   "cell_type": "markdown",
   "id": "c4f9bf54-c216-4080-950d-eac943c2bba8",
   "metadata": {},
   "source": [
    "이것은 오직 두 개의 리터럴에만 적용될 뿐 변수나 표현식에는 해당하지 않습니다: prefix 'thon' -- Error\n",
    "변수들끼리 혹은 변수와 문자열를 이어붙이려면 `+` 를 사용해야 합니다: prefix + 'thon'"
   ]
  },
  {
   "cell_type": "code",
   "execution_count": null,
   "id": "ee450a1a-ac27-4e96-a228-b1c16ebf4367",
   "metadata": {},
   "outputs": [],
   "source": [
    "prefix = \"py\"\n",
    "prefix\"thon\""
   ]
  },
  {
   "cell_type": "code",
   "execution_count": null,
   "id": "082c39aa-30d4-4753-9bd7-9d6bda2eea1f",
   "metadata": {},
   "outputs": [],
   "source": [
    "prefix = \"py\"\n",
    "prefix + \"thon\""
   ]
  },
  {
   "cell_type": "markdown",
   "id": "da9bee3e-d611-44da-9120-0b2f6fb6ac5e",
   "metadata": {},
   "source": [
    "`*`를 통해 n번 반복할 수도 있다"
   ]
  },
  {
   "cell_type": "code",
   "execution_count": null,
   "id": "2926276f-55f5-4816-893b-d20602971f08",
   "metadata": {},
   "outputs": [],
   "source": [
    "3 * 'Hi ' + 'Welcome'"
   ]
  },
  {
   "cell_type": "markdown",
   "id": "d890038d-0081-47ed-956c-76303c7a2239",
   "metadata": {},
   "source": [
    "## - 문자열 확인"
   ]
  },
  {
   "cell_type": "markdown",
   "id": "56e56b5a-2874-42a8-9bb9-a6c59727d318",
   "metadata": {},
   "source": [
    "### * len()"
   ]
  },
  {
   "cell_type": "code",
   "execution_count": null,
   "id": "f6aae3a7-444e-4874-991e-8fb31a415c6e",
   "metadata": {},
   "outputs": [],
   "source": [
    "s = 'supercalifragilisticexpialidocious' \n",
    "len(s) # 문자열의 길이를 돌려줌"
   ]
  },
  {
   "cell_type": "markdown",
   "id": "9997b79b-abf1-45a7-b1f2-efd5197c301a",
   "metadata": {},
   "source": [
    "### * in"
   ]
  },
  {
   "cell_type": "code",
   "execution_count": null,
   "id": "fdfeb986-569f-4837-aeec-8bd4b9446f4a",
   "metadata": {},
   "outputs": [],
   "source": [
    "'Py' in 'Python' # include"
   ]
  },
  {
   "cell_type": "markdown",
   "id": "c7348e26-d694-4584-87d5-31e9826c3292",
   "metadata": {},
   "source": [
    "## - 문자열 Literal 확장"
   ]
  },
  {
   "cell_type": "markdown",
   "id": "f440e9f3-bd13-4cde-b9c2-b57c21a018b9",
   "metadata": {},
   "source": [
    "### * `''' '''` || `\"\"\" \"\"\"`"
   ]
  },
  {
   "cell_type": "code",
   "execution_count": null,
   "id": "bd9175be-63d3-4639-aecb-dba0f14d9ba4",
   "metadata": {},
   "outputs": [],
   "source": [
    "print('''\n",
    "Usage: python\n",
    "    --version\n",
    "''') "
   ]
  },
  {
   "cell_type": "code",
   "execution_count": null,
   "id": "b2ffdce3-0db7-4a6a-a355-4d25ad6d3445",
   "metadata": {},
   "outputs": [],
   "source": [
    "# 개행 없애기\n",
    "print(\"\"\"\\\n",
    "Usage: python\n",
    "    --version\n",
    "\"\"\") "
   ]
  },
  {
   "cell_type": "markdown",
   "id": "bd1c2a05-bf08-467e-afdd-b56c68390388",
   "metadata": {},
   "source": [
    "### * 인덱스"
   ]
  },
  {
   "cell_type": "code",
   "execution_count": null,
   "id": "b40cafb4-4a2c-44ba-9451-e1e3630f8068",
   "metadata": {},
   "outputs": [],
   "source": [
    "# 문자 인덱스\n",
    "word = 'Python'\n",
    "print(word[0])\n",
    "print(word[-1]) # 0과 -0은 같음. 맨 끝 숫자는 -1"
   ]
  },
  {
   "cell_type": "code",
   "execution_count": null,
   "id": "ed795ad3-ab6d-411f-9f09-7322638692d8",
   "metadata": {},
   "outputs": [],
   "source": [
    "print(word[:2] + word[2:])\n",
    "print(word[:2] )"
   ]
  },
  {
   "cell_type": "code",
   "execution_count": null,
   "id": "bff15fa9-0e1e-467f-9fc4-70907b2df0c2",
   "metadata": {},
   "outputs": [],
   "source": [
    "word[100] # 문자 인덱스를 넘을 시 에러"
   ]
  },
  {
   "cell_type": "code",
   "execution_count": null,
   "id": "b6343833-9b5b-4f91-b337-33b6aee62823",
   "metadata": {},
   "outputs": [],
   "source": [
    "# 하지만, 범위를 벗어나는 슬라이스 인덱스는 슬라이싱할 때 부드럽게 처리됨\n",
    "word[4:42]"
   ]
  },
  {
   "cell_type": "markdown",
   "id": "a3e26e46-6d06-4903-a0d7-7aabefae7d1c",
   "metadata": {},
   "source": [
    "### * 문자열은 immutable하다"
   ]
  },
  {
   "cell_type": "markdown",
   "id": "d5a7622e-ae1a-4456-a187-16f01163ef2d",
   "metadata": {},
   "source": [
    "파이썬 문자열은 변경할 수 없다 — 불변(immutable) 이라고 합니다. 그래서 문자열의 인덱스로 참조한 위치에 대입하려고 하면 에러를 일으킵니다:"
   ]
  },
  {
   "cell_type": "code",
   "execution_count": null,
   "id": "f5b05c22-3d53-4932-b2b6-fc4ed7c6a6a9",
   "metadata": {},
   "outputs": [],
   "source": [
    "word[0] = 'J'"
   ]
  },
  {
   "cell_type": "markdown",
   "id": "f55b927d-2a0e-4d89-81ed-0a4a0e0b5e3a",
   "metadata": {},
   "source": [
    "다른 문자열이 필요하면, 새로 만들어야 합니다:"
   ]
  },
  {
   "cell_type": "code",
   "execution_count": null,
   "id": "aa26455e-e403-4729-964a-ebfd67c84e5a",
   "metadata": {},
   "outputs": [],
   "source": [
    "'J' + word[1:]"
   ]
  },
  {
   "cell_type": "markdown",
   "id": "b4666328-50b7-45b4-b74e-614be83212da",
   "metadata": {},
   "source": [
    "<br>\n",
    "<br>\n",
    "<br>\n",
    "<br>\n",
    "<br>\n",
    "<br>\n",
    "<hr>\n",
    "<br>\n",
    "<br>\n",
    "<br>\n",
    "<br>\n",
    "<br>\n",
    "<br>"
   ]
  },
  {
   "cell_type": "markdown",
   "id": "057cefd9-2bcf-4b17-9d67-a83c16c762c3",
   "metadata": {
    "tags": []
   },
   "source": [
    "# 06. 모듈과 패키지"
   ]
  },
  {
   "cell_type": "markdown",
   "id": "3394a310-203d-4972-9929-3fdfead41558",
   "metadata": {},
   "source": [
    "## - 모듈"
   ]
  },
  {
   "cell_type": "markdown",
   "id": "414dfb90-2649-4b70-b64e-c1165c6a7774",
   "metadata": {},
   "source": [
    "먼저 현재 위치에서 `fibo.py`라는 파일을 추가하고 다음 코드를 추가해보자"
   ]
  },
  {
   "cell_type": "markdown",
   "id": "0a1afb3f-08e1-4d70-94b5-7195e45cfc98",
   "metadata": {},
   "source": [
    "```python\n",
    "def fib(n):    # write Fibonacci series up to n\n",
    "    a, b = 0, 1\n",
    "    while a < n:\n",
    "        print(a, end=' ')\n",
    "        a, b = b, a+b\n",
    "    print()\n",
    "\n",
    "def fib2(n):   # return Fibonacci series up to n\n",
    "    result = []\n",
    "    a, b = 0, 1\n",
    "    while a < n:\n",
    "        result.append(a)\n",
    "        a, b = b, a+b\n",
    "    return result\n",
    "```"
   ]
  },
  {
   "cell_type": "markdown",
   "id": "6a92c45b-b490-4b09-8bec-dcb8c0253d07",
   "metadata": {},
   "source": [
    "아래와 같이 우리가 만든 모듈을 가져와 테스트해보자"
   ]
  },
  {
   "cell_type": "code",
   "execution_count": null,
   "id": "e5590086-008d-4fc0-ae72-22f2a20a684d",
   "metadata": {},
   "outputs": [],
   "source": [
    "import fibo\n",
    "\n",
    "fibo.fib(1000)"
   ]
  },
  {
   "cell_type": "code",
   "execution_count": null,
   "id": "67929493-fd14-46ac-9361-08517c3a0543",
   "metadata": {},
   "outputs": [],
   "source": [
    "fibo.fib2(100)"
   ]
  },
  {
   "cell_type": "code",
   "execution_count": null,
   "id": "2fee2f7a-defb-4939-880c-22891bda66ef",
   "metadata": {},
   "outputs": [],
   "source": [
    "fib = fibo.fib\n",
    "fib(500)"
   ]
  },
  {
   "cell_type": "markdown",
   "id": "aaefd6e1-969a-4f1e-bd0e-707a76442f43",
   "metadata": {},
   "source": [
    "사용할 때마다 모듈 이름을 함께 적어 우리에게 필요한 함수를 호출하는게 불편하다.\n",
    "\n",
    "`from 모듈명 import 가져올 함수 및 클래스`와 같이 사용하면 간편하게 사용할 수 있다."
   ]
  },
  {
   "cell_type": "code",
   "execution_count": null,
   "id": "16b67806-764a-4975-adf7-ba2b00b23a49",
   "metadata": {},
   "outputs": [],
   "source": [
    "from fibo import fib, fib2\n",
    "fib(500)"
   ]
  },
  {
   "cell_type": "markdown",
   "id": "f5c7e82e-2306-4eb2-85af-dbbe51e3a83b",
   "metadata": {},
   "source": [
    "와일드 카드(*)를 사용하면 모듈안에 있는 모든 함수 및 클래스들을 가져온다."
   ]
  },
  {
   "cell_type": "code",
   "execution_count": null,
   "id": "b552a66a-c916-41cf-a18c-b3d60d875640",
   "metadata": {},
   "outputs": [],
   "source": [
    "from fibo import *\n",
    "fib(500)"
   ]
  },
  {
   "cell_type": "markdown",
   "id": "1ac98e94-c6cf-4a32-8972-74886053ff7e",
   "metadata": {},
   "source": [
    "`as`를 사용하면 원래 정의되어 있는 이름이 아닌 우리가 원하는 이름으로 사용할 수 있다."
   ]
  },
  {
   "cell_type": "code",
   "execution_count": null,
   "id": "81af403a-c172-42fc-9335-02259557f2b1",
   "metadata": {},
   "outputs": [],
   "source": [
    "import fibo as fb\n",
    "fb.fib(500)"
   ]
  },
  {
   "cell_type": "code",
   "execution_count": null,
   "id": "70b0e87b-56e7-4f4c-9532-5eda025e33ed",
   "metadata": {},
   "outputs": [],
   "source": [
    "fb.__name__"
   ]
  },
  {
   "cell_type": "code",
   "execution_count": null,
   "id": "2811776b-97a6-48a6-8b58-25ec3c56668f",
   "metadata": {},
   "outputs": [],
   "source": [
    "from fibo import fib as fibonacci\n",
    "fibonacci(400)"
   ]
  },
  {
   "cell_type": "markdown",
   "id": "e44840a4-6a39-4dc0-887e-8e60a8ef953c",
   "metadata": {},
   "source": [
    "파이썬은 어떻게 import를 할까? 예를 들어, spam 이라는 이름의 모듈이 임포트될 때, 인터프리터는 먼저 그 이름의 내장 모듈을 찾는다(`built-in`). 발견되지 않으면, 변수 `sys.path` 로 주어지는 디렉터리들에서 spam.py 라는 이름의 파일을 찾는다. `sys.path`는 이 위치들로 초기화된다.\n",
    "\n",
    " - 입력 스크립트를 포함하는 디렉터리 (또는 파일이 지정되지 않았을 때는 현재 디렉터리).\n",
    " - PYTHONPATH (디렉터리 이름들의 목록, 셸 변수 PATH 와 같은 문법).\n",
    " - 설치 의존적인 기본값\n",
    "\n",
    "정리하자면 파이썬은 가장먼저 `sys.modules`을 확인한다. 여기엔 이미 import된 것들이 모여있다.\n",
    "\n",
    "`sys.modules` 덕분에 파이썬은 또 다시 모듈을 찾지 않아도 된다.\n",
    "\n",
    "그 다음으로 `sys.path`를 확인한다.\n",
    "\n",
    "이 모든 과정을 거쳐도 못찾게 되면 에러를 리턴한다.\n",
    "\n",
    "아래 코드를 실행하면 우리가 import한 `fibo`가 있음을 볼 수 있다.\n",
    "\n",
    "`sys` 모듈은 파이썬에서 제공하는 내장 모듈이며 시스템 관련 모듈이다."
   ]
  },
  {
   "cell_type": "markdown",
   "id": "cfa96423-b96e-4783-b6a3-88f0e847a736",
   "metadata": {},
   "source": [
    " - `sys.modules`"
   ]
  },
  {
   "cell_type": "code",
   "execution_count": null,
   "id": "4dfe7059-ef00-40c3-95d9-0839eede6247",
   "metadata": {},
   "outputs": [],
   "source": [
    "import sys\n",
    "sys.modules"
   ]
  },
  {
   "cell_type": "markdown",
   "id": "2ecfdbff-4fbb-48ec-9d9e-3e598e083e08",
   "metadata": {},
   "source": [
    " - `sys.path`"
   ]
  },
  {
   "cell_type": "code",
   "execution_count": null,
   "id": "eb54d6a2-eee7-4257-a1af-f3bb60bc135d",
   "metadata": {},
   "outputs": [],
   "source": [
    "import sys\n",
    "sys.path"
   ]
  },
  {
   "cell_type": "code",
   "execution_count": null,
   "id": "bc93cbc7-5ac6-4c90-b57d-d5f651b3de52",
   "metadata": {},
   "outputs": [],
   "source": [
    "import fibo\n",
    "dir(fibo) #인자가 없으면, dir() 는 현재 정의한 이름들을 나열한다."
   ]
  },
  {
   "cell_type": "markdown",
   "id": "65beb2fa-0767-42e7-848e-987ea1cdfaf9",
   "metadata": {},
   "source": [
    "`dir()` 함수는 내장 함수와 변수들의 이름을 나열하지 않는다. 내장 함수의 목록을 알고 싶다면 표준 모듈 builtins에 정의되어있으니 이 부분을 확인하면 된다."
   ]
  },
  {
   "cell_type": "code",
   "execution_count": null,
   "id": "6f444c24-e2b4-44eb-a9aa-f1929ff58537",
   "metadata": {},
   "outputs": [],
   "source": [
    "import builtins\n",
    "dir(builtins)"
   ]
  },
  {
   "cell_type": "markdown",
   "id": "bb42cd7e-d172-4264-87f1-a27b9fa4d853",
   "metadata": {},
   "source": [
    "## - 패키지"
   ]
  },
  {
   "cell_type": "markdown",
   "id": "ac0c7ce2-212d-4166-aac8-0f53a4dc70f3",
   "metadata": {},
   "source": [
    "먼저 현재 디렉토리 위치에서 다음과 같은 구조로 디렉토리 및 파이썬 파일들을 구성해보자.\n",
    "\n",
    "```\n",
    "[mypac]\n",
    "  - __init__.py\n",
    "  - [util_before_all]\n",
    "     - __init__.py\n",
    "     - calc.py\n",
    "     - mydeco.py\n",
    "     - stream.py\n",
    "     - tip-canSetAll.py\n",
    "     - tip-initMakeDirToPac\n",
    "```"
   ]
  },
  {
   "cell_type": "markdown",
   "id": "a873220e-6cd2-4191-8609-390984b6e1f1",
   "metadata": {},
   "source": [
    "`__init__.py`는 해당 디렉토리가 패키지 구성 중 하나임을 알려준다. 만일 본 파일이 없다면 패키지로 인식되지 않는다.\n",
    "\n",
    "물론 파이썬 3.3 버전부터는 본 파일이 없어도 패키지로 인식하지만(`PEP 420`) 본 파일을 생성하는 것이 안전하다."
   ]
  },
  {
   "cell_type": "markdown",
   "id": "acde6d51-6ac2-43ca-9a25-5a391ab3375e",
   "metadata": {},
   "source": [
    "이제 아래와 같이 각 파이썬 코드에 코드를 채워보자"
   ]
  },
  {
   "cell_type": "markdown",
   "id": "afc194e2-a371-463b-934d-3d5870f80ea8",
   "metadata": {},
   "source": [
    "- calc.py\n",
    " \n",
    "```python\n",
    "from functools import reduce\n",
    "```\n",
    "```python\n",
    "def add(*nums):\n",
    "    return sum(nums)\n",
    "    \n",
    "def mul(*nums):\n",
    "    reduce(lambda x, y: x * y, nums)\n",
    "    \n",
    "def fib(n):\n",
    "    result = []\n",
    "    a, b = 0, 1\n",
    "    while a < n:\n",
    "        result.append(a)\n",
    "        a, b = b, a+b\n",
    "    return result\n",
    "```"
   ]
  },
  {
   "cell_type": "markdown",
   "id": "22349d68-62b8-4032-8d95-e1d08b24b999",
   "metadata": {},
   "source": [
    "- mydeco.py\n",
    "\n",
    "```python\n",
    "class Deco:\n",
    "    def __init__(self, func):\n",
    "        self.func = func\n",
    "        print(\"DECO!!!\")\n",
    "        \n",
    "    def __call__(self, a, b):\n",
    "        print(f'매개변수 정보 {a}, {b}')\n",
    "        return self.func(a,b)\n",
    "\n",
    "class Paradeco:\n",
    "    def __init__(self, nums):\n",
    "        self.nums = nums\n",
    "        \n",
    "    def __call__(self, func):\n",
    "        def wrapper(*, do):\n",
    "            doWhat = None\n",
    "            param = dict(do = do)\n",
    "            if do == \"add\":\n",
    "                doWhat = lambda x : sum(x)\n",
    "            elif do == \"max\":\n",
    "                doWhat = lambda x : max(x)\n",
    "            func(**param)\n",
    "            return doWhat(self.nums) if doWhat != None else \"Invalid\"\n",
    "        return wrapper\n",
    "```"
   ]
  },
  {
   "cell_type": "markdown",
   "id": "f9877373-7c5b-4dd4-9023-6bf9831c8d94",
   "metadata": {},
   "source": [
    " - stream.py\n",
    "\n",
    "```python\n",
    "from functools import reduce\n",
    "from collections import deque\n",
    "\n",
    "class HigherOrder:\n",
    "    def __init__(self, *args):\n",
    "        self.args = args\n",
    "        self.isVerboseMode = False\n",
    "\n",
    "    def verbose(self, isVerboseMode):\n",
    "        self.isVerboseMode = isVerboseMode\n",
    "    \n",
    "    def changeValues(self, *args):\n",
    "        self.args = args\n",
    "\n",
    "    def functionsChain(self, *, mapping = None, filtering = None, reducing = None):\n",
    "        self.isVerboseMode if print(\"Parsing Target : \", self.args) else None\n",
    "        queue = deque([mapping, filtering, reducing])\n",
    "        self.isVerboseMode if print(\"Parsing Steps : \", queue) else None\n",
    "        source = list(self.args)\n",
    "        x = queue.popleft()\n",
    "        self.isVerboseMode if print(\"Mapping Steps : \", x) else None\n",
    "        if x != None:\n",
    "            source = list(map(x,source))\n",
    "            self.isVerboseMode if print(\"Mapping After: \", source) else None\n",
    "        x = queue.popleft()\n",
    "        self.isVerboseMode if print(\"Filtering Steps : \", x) else None\n",
    "        if x != None:\n",
    "            source = filter(x, source)\n",
    "            self.isVerboseMode if print(\"Filtering After: \", source) else None\n",
    "        x = queue.popleft()         \n",
    "        self.isVerboseMode if print(\"Reducing Steps : \", x) else None\n",
    "        if x != None:\n",
    "            source = reduce(x, source)\n",
    "            self.isVerboseMode if print(\"Reducing After: \", source) else None\n",
    "                \n",
    "        self.isVerboseMode if print(\"Result : \", source) else None\n",
    "        \n",
    "        return source\n",
    "```"
   ]
  },
  {
   "cell_type": "markdown",
   "id": "d9692215-eb37-4a1b-ad2b-9f297fb3139e",
   "metadata": {},
   "source": [
    " - tip-canSetAll.py\n",
    " \n",
    "```python\n",
    "print(\"tip-canSetAll : __init__.py에 __all__이라는 변수 설정을 통해 와일드카드를 사용하여 import할 경우 어떤 모듈만 import한 건지 정할 수 있습니다~^^\")\n",
    "```\n",
    " \n",
    " - tip-initMakeDirToPac.py\n",
    "\n",
    "```python\n",
    "print(\"tip-initMakeDirToPac : __init__.py는 디렉토리를 패키지로 만들어줍니다~^^\")\n",
    "```"
   ]
  },
  {
   "cell_type": "markdown",
   "id": "9734dbd9-6c14-4e9c-9c3f-6da00b8c742e",
   "metadata": {},
   "source": [
    "`from package import item` 를 사용할 때, item은 패키지의 서브 모듈 (또는 서브 패키지)일 수도 있고 함수, 클래스, 변수 등 패키지에 정의된 다른 이름들일 수도 있음에 유의하세요. import 문은 먼저 item이 패키지에 정의되어 있는지 검사하고, 그렇지 않으면 모듈이라고 가정하고 로드를 시도합니다. 찾지 못한다면, ImportError 예외를 일으킵니다.\n",
    "\n",
    "이에 반하여, `import item.subitem.subsubitem` 와 같은 문법을 사용할 때, 마지막 것을 제외한 각 항목은 반드시 패키지여야 합니다; 마지막 항목은 모듈이나 패키지가 될 수 있지만, 앞의 항목에서 정의된 클래스, 함수, 변수 등이 될 수는 없습니다."
   ]
  },
  {
   "cell_type": "code",
   "execution_count": null,
   "id": "92e4a0e7-45ec-4719-ac19-41277cca7087",
   "metadata": {
    "tags": []
   },
   "outputs": [],
   "source": [
    "import mypac.util_before_all.calc"
   ]
  },
  {
   "cell_type": "markdown",
   "id": "384cfe63-400c-43ec-bc38-821b90d021e7",
   "metadata": {},
   "source": [
    "잘 가져와졌는지 확인한다."
   ]
  },
  {
   "cell_type": "code",
   "execution_count": null,
   "id": "09c4e603-ec43-4c23-bb67-a787ef9852ef",
   "metadata": {},
   "outputs": [],
   "source": [
    "dir(mypac.util_before_all.calc)"
   ]
  },
  {
   "cell_type": "code",
   "execution_count": null,
   "id": "60a299d7-057b-44e0-a3fc-2e2b89dda5f1",
   "metadata": {},
   "outputs": [],
   "source": [
    "mypac.util_before_all.calc.add(100, 200)"
   ]
  },
  {
   "cell_type": "markdown",
   "id": "95731f5b-d08f-4854-88bf-240171b61b15",
   "metadata": {},
   "source": [
    "그러나 다음과 같이 패키지 이름없이 모듈만 가져오면 에러가 걸린다."
   ]
  },
  {
   "cell_type": "code",
   "execution_count": null,
   "id": "43d4f083-84b7-4fd1-9839-a953c9402119",
   "metadata": {},
   "outputs": [],
   "source": [
    "calc.add(100, 200)"
   ]
  },
  {
   "cell_type": "markdown",
   "id": "bd4cbc65-a964-4d9c-acd3-0539b15b7399",
   "metadata": {},
   "source": [
    "그래서 와일드 카드를 사용하여 util_before_all 패키지 안에 들어있는 모듈들을 전부다 가져올려고 한다."
   ]
  },
  {
   "cell_type": "code",
   "execution_count": null,
   "id": "0d1627f9-b077-42b5-a070-862ccd25918e",
   "metadata": {},
   "outputs": [],
   "source": [
    "del mypac.util_before_all.calc # 원래 가져왔던 모듈 메모리에서 삭제"
   ]
  },
  {
   "cell_type": "code",
   "execution_count": null,
   "id": "ba55a8ae-5ee4-47d9-b8db-5eedac20b2d5",
   "metadata": {},
   "outputs": [],
   "source": [
    "from mypac.util_before_all import *"
   ]
  },
  {
   "cell_type": "code",
   "execution_count": null,
   "id": "ce4d5385-323b-4dac-b0ee-44e721149e1b",
   "metadata": {},
   "outputs": [],
   "source": [
    "calc.add(100,200)"
   ]
  },
  {
   "cell_type": "code",
   "execution_count": null,
   "id": "6b4cb919-3c44-4d8a-b00c-488980105a9e",
   "metadata": {},
   "outputs": [],
   "source": [
    "@mypac.util_before_all.mydeco\n",
    "def add(a, b):\n",
    "    return a + b\n",
    "\n",
    "print(\"======\")\n",
    "add(10, 20)"
   ]
  },
  {
   "cell_type": "code",
   "execution_count": null,
   "id": "b81df0d3-5ae3-4086-9d16-0fe1bdfaf405",
   "metadata": {},
   "outputs": [],
   "source": [
    "print('calc' in dir())\n",
    "print('mydeco' in dir())\n",
    "print('stream' in dir())\n",
    "print('tip-canSetAll' in dir())\n",
    "print('tip-initMakeDirToPac' in dir())"
   ]
  },
  {
   "cell_type": "markdown",
   "id": "3c73b98b-1f34-4db3-a899-983e7a43af1e",
   "metadata": {},
   "source": [
    "위와 같이 와일드카드를 통해 모든 모듈을 가져오려면 `__init__.py`에 모듈 공개를 설정해줘야 한다."
   ]
  },
  {
   "cell_type": "markdown",
   "id": "d91f4e6f-3fa6-4cc5-be30-af648314bce5",
   "metadata": {},
   "source": [
    "현재 디렉토리 위치에서 이전에 만들었던 util_before_all 디렉토리를 복사해 util이라는 이름으로 붙여넣자\n",
    "\n",
    "```\n",
    "[mypac]\n",
    "  - __init__.py\n",
    "  - [util]\n",
    "     - __init__.py\n",
    "     - calc.py\n",
    "     - mydeco.py\n",
    "     - stream.py\n",
    "     - tip-canSetAll.py\n",
    "     - tip-initMakeDirToPac\n",
    "  - [util_before_all]\n",
    "     - __init__.py\n",
    "     - calc.py\n",
    "     - mydeco.py\n",
    "     - stream.py\n",
    "     - tip-canSetAll.py\n",
    "     - tip-initMakeDirToPac\n",
    "```"
   ]
  },
  {
   "cell_type": "markdown",
   "id": "18cbec09-de1d-4e29-984d-7a24ef19c791",
   "metadata": {},
   "source": [
    "이제 util에 들어가 `__init__.py`안에 다음과 같이 적어주자"
   ]
  },
  {
   "cell_type": "markdown",
   "id": "92ba499b-1d57-4db9-b20f-e3cfc9e185ff",
   "metadata": {},
   "source": [
    "```python\n",
    "__all__ = [\"calc\",\"mydeco\",\"stream\"]\n",
    "```"
   ]
  },
  {
   "cell_type": "markdown",
   "id": "19d8a43b-ad44-486b-9348-4fbfc5cd0556",
   "metadata": {},
   "source": [
    "이제 모듈들을 가져와보자"
   ]
  },
  {
   "cell_type": "code",
   "execution_count": null,
   "id": "4b16f16f-c034-4d9e-91fe-3055506c81d1",
   "metadata": {},
   "outputs": [],
   "source": [
    "from mypac.util import *"
   ]
  },
  {
   "cell_type": "code",
   "execution_count": null,
   "id": "60ac6ea0-c9ae-457e-b1bf-bc455417e52c",
   "metadata": {},
   "outputs": [],
   "source": [
    "print('calc' in dir())\n",
    "print('mydeco' in dir())\n",
    "print('stream' in dir())\n",
    "print('tip-canSetAll' in dir())\n",
    "print('tip-initMakeDirToPac' in dir())"
   ]
  },
  {
   "cell_type": "code",
   "execution_count": null,
   "id": "e9517388-d43a-47bc-829e-a593b940db6a",
   "metadata": {},
   "outputs": [],
   "source": [
    "dir(mypac.util)"
   ]
  },
  {
   "cell_type": "code",
   "execution_count": null,
   "id": "29c2edb2-6302-47ea-9b99-3b1eedfeeb8e",
   "metadata": {},
   "outputs": [],
   "source": [
    "calc.add(100,200,300)"
   ]
  },
  {
   "cell_type": "code",
   "execution_count": null,
   "id": "bf118f05-3583-4018-9509-7afb17710680",
   "metadata": {},
   "outputs": [],
   "source": [
    "@mydeco.Deco\n",
    "def add(a, b):\n",
    "    return a + b\n",
    "\n",
    "print(\"======\")\n",
    "add(10, 20)"
   ]
  },
  {
   "cell_type": "code",
   "execution_count": null,
   "id": "332f3da2-3d7f-4e3e-bc50-11c6f5b7536e",
   "metadata": {
    "tags": []
   },
   "outputs": [],
   "source": [
    "mystream = stream.HigherOrder(1, 2, 3, 4, 5, 6, 7, 8, 9, 10)\n",
    "mystream.verbose(True)\n",
    "mystream.functionsChain(\n",
    "    mapping = lambda x : x * 10,\n",
    "   filtering = lambda x : x % 2 == 0,\n",
    "   reducing = lambda x, y : x + y\n",
    ")"
   ]
  },
  {
   "cell_type": "markdown",
   "id": "a803d905-e346-4a4a-8e8e-aeb88f130dae",
   "metadata": {},
   "source": [
    "모두 성공적으로 가져와졌고 사용되어졌다."
   ]
  },
  {
   "cell_type": "markdown",
   "id": "4817fe17-2785-40c1-8098-2089eef25a4e",
   "metadata": {},
   "source": [
    "## - 스크립트 실행"
   ]
  },
  {
   "cell_type": "markdown",
   "id": "1999943a-0f95-4744-95c3-0847ee6d8dae",
   "metadata": {},
   "source": [
    "터미널을 통해 파이썬 프로그램을 실행하려면 아래와 같이 실행한다.\n",
    "\n",
    "```python\n",
    "python fibo.py <arguments>\n",
    "```\n",
    "\n",
    " - example\n",
    " \n",
    "```python\n",
    "$> python fibo.py 50\n",
    "0 1 1 2 3 5 8 13 21 34\n",
    "```\n",
    "\n",
    "이 때의 모듈의 코드들은 import할 때처럼 실행되고, 내장 변수인 `__name__` 은 `__main__`으로 설정된다."
   ]
  },
  {
   "cell_type": "markdown",
   "id": "bb0f8bd3-1f0a-4f36-8c49-41a138aa2970",
   "metadata": {},
   "source": [
    "그래서 파이썬을 스크립트 실행 파일로써 사용하고자 한다면 다음 코드를 추가하면 된다.\n",
    "\n",
    "```python\n",
    "if __name__ == \"__main__\":\n",
    "    import sys\n",
    "    fib(int(sys.argv[1]))\n",
    "```\n",
    "\n",
    "기존에 만들었던 fibo.py에 다음과 같이 추가하고 터미널을 통해 테스트해보자"
   ]
  },
  {
   "cell_type": "markdown",
   "id": "5740857c-1bf7-4ef5-b4ae-b455256f209d",
   "metadata": {},
   "source": [
    " - `fibo.py`\n",
    " \n",
    "```python\n",
    "def fib(n):    # write Fibonacci series up to n\n",
    "    a, b = 0, 1\n",
    "    while a < n:\n",
    "        print(a, end=' ')\n",
    "        a, b = b, a+b\n",
    "    print()\n",
    "    \n",
    "    \n",
    "```\n",
    "```python\n",
    "def fib2(n):   # return Fibonacci series up to n\n",
    "    result = []\n",
    "    a, b = 0, 1\n",
    "    while a < n:\n",
    "        result.append(a)\n",
    "        a, b = b, a+b\n",
    "    return result\n",
    "\n",
    "\n",
    "```\n",
    "```python\n",
    "if __name__ == \"__main__\":\n",
    "    import sys\n",
    "    fib(int(sys.argv[1]))\n",
    "```"
   ]
  },
  {
   "cell_type": "markdown",
   "id": "668b8c3f-07b9-4484-9f96-0205e418f4ec",
   "metadata": {},
   "source": [
    "<br>\n",
    "<br>\n",
    "<br>\n",
    "<br>\n",
    "<br>\n",
    "<br>\n",
    "<hr>\n",
    "<br>\n",
    "<br>\n",
    "<br>\n",
    "<br>\n",
    "<br>\n",
    "<br>"
   ]
  },
  {
   "cell_type": "markdown",
   "id": "1fa33572-0eec-4750-bb02-f19f7d8036d6",
   "metadata": {
    "tags": []
   },
   "source": [
    "# 09. 비동기"
   ]
  },
  {
   "cell_type": "markdown",
   "id": "2db1ae6e-9fe5-4e4b-a7e2-241e1afbdf14",
   "metadata": {},
   "source": [
    "내용이 방대해 네트워크, 스트림, 쓰레드 등은 다루지 않고 필요한 내용만 다루었다. \n",
    "\n",
    "본 장에서는 고수준 API와 저수준 API 모두 소개했지만 현재 당장은 고수준 API만 알아도 무방할 듯하다."
   ]
  },
  {
   "cell_type": "markdown",
   "id": "c1f07139-a18a-44ae-8696-65c55fe30a52",
   "metadata": {},
   "source": [
    "<br><br><br>"
   ]
  },
  {
   "cell_type": "markdown",
   "id": "cb231208-9484-4fc6-b815-1a47481912a6",
   "metadata": {},
   "source": [
    "## - asyncio\r\n",
    "\r\n",
    "`async/await` 구문을 사용하여 동시성 코드를 작성하는 라이브러리\r\n",
    "\r\n",
    "`고수준 API`와 `저수준 API`를 지원한다.\r\n",
    "\r\n",
    " -  [고수준 API Reference](https://docs.python.org/ko/3/library/asyncio-api-index.html)\r\n",
    "\r\n",
    " -  [저수준 API Reference](https://docs.python.org/ko/3/library/asyncio-llapi-index.html)"
   ]
  },
  {
   "cell_type": "markdown",
   "id": "a3963402-2400-472d-853b-075a7a0839d4",
   "metadata": {},
   "source": [
    "```python\n",
    "import asyncio\n",
    "```"
   ]
  },
  {
   "cell_type": "markdown",
   "id": "aa979a2b-0e15-4092-84ea-388de101f447",
   "metadata": {},
   "source": [
    "<br><br><br>"
   ]
  },
  {
   "cell_type": "markdown",
   "id": "d754e905-fd73-4006-9c80-8d3ad532f0a8",
   "metadata": {},
   "source": [
    "## - 고수준 API"
   ]
  },
  {
   "cell_type": "markdown",
   "id": "162a54c6-394a-4464-ba2b-99ff744d261f",
   "metadata": {},
   "source": [
    "### * async/await 개요\n",
    "\n",
    "코루틴을 선언할 때는 함수(def) 옆 키워드로 `async`를 붙이면 된다. 그리고 `await`는 `async`로 정의된 함수 안에서만 사용이 가능하며 `await`는 코루틴을 실행하고 끝날 때까지 기다린다."
   ]
  },
  {
   "cell_type": "markdown",
   "id": "5b002e64-cd3c-4691-b535-60f67755fbc6",
   "metadata": {},
   "source": [
    "### * 코루틴 함수 and 코루틴 객체\n",
    "\n",
    "`코루틴 함수`는 `async def`로 선언된 함수를 이야기하고 `코루틴 객체`는 코루틴 함수를 호출하여 반환된 코루틴을 이야기한다."
   ]
  },
  {
   "cell_type": "markdown",
   "id": "7c967b89-d749-4b47-aef2-648c0fdbd1ee",
   "metadata": {},
   "source": [
    "### * awaitable 객체\n",
    "\n",
    "`await` 표현식을 통해 사용할 수 있으면 어웨이터블 객체라고 말한다.\n",
    "\n",
    " - 코루틴(Coroutine)\n",
    " - 태스크(Task)\n",
    " - 퓨처(Futrue)"
   ]
  },
  {
   "cell_type": "markdown",
   "id": "07bdb745-f521-4468-a590-f27402c0da42",
   "metadata": {},
   "source": [
    "### * asyncio.run(coro, *, debug=False)\n",
    "\n",
    "동기 코드에서 비동기 코드로 진입하는 부분이다. 선언된 코루틴을 `coro` 위치에 인수로서 대입하면 된다.\n",
    "\n",
    "내부적으로 이벤트 루프(even_loop)를 만들고 코루틴(coroutine)을 실행한 다음 이벤트 루프를 닫는다(close)."
   ]
  },
  {
   "cell_type": "markdown",
   "id": "ed8b8689-2d8a-4889-a788-597db50c4375",
   "metadata": {},
   "source": [
    "### * asyncio.sleep(delay, result=None, *, loop=None)\n",
    "\n",
    "delay 동안 Blocking한다. 즉, 잠깐 멈춘다.\n",
    "\n",
    "result가 있으면 완료시 호출자에게 반환한다.\n",
    "\n",
    "<hr>"
   ]
  },
  {
   "cell_type": "markdown",
   "id": "33478547-3555-4020-a1ed-e868bb41e72c",
   "metadata": {},
   "source": [
    "```python\n",
    "import asyncio\n",
    "\n",
    "async def main():\n",
    "    print('hello')\n",
    "    await asyncio.sleep(1)\n",
    "    print('world')\n",
    "\n",
    "asyncio.run(main());\n",
    "```\n",
    "\n",
    " - 결과\n",
    " \n",
    "```\n",
    "hello\n",
    "world\n",
    "```"
   ]
  },
  {
   "cell_type": "markdown",
   "id": "b0919aa0-7793-478e-a014-eed3e94fab8a",
   "metadata": {},
   "source": [
    "<hr>\n",
    "\n",
    "또 다른 코드를 실행해보자.\n",
    "\n",
    "<hr>"
   ]
  },
  {
   "cell_type": "markdown",
   "id": "3551b1e6-394a-43b4-886f-dc66d479d5c0",
   "metadata": {},
   "source": [
    "```python\n",
    "import asyncio\n",
    "import time\n",
    "\n",
    "async def say_after(delay, what):\n",
    "    await asyncio.sleep(delay)\n",
    "    print(what)\n",
    "\n",
    "async def main():\n",
    "    \n",
    "    # the '%X' means Locale’s appropriate time representation.\n",
    "    print(f\"started at {time.strftime('%X')}\") \n",
    "\n",
    "    await say_after(3, 'hello')\n",
    "    await say_after(4, 'world')\n",
    "\n",
    "    print(f\"finished at {time.strftime('%X')}\")\n",
    "\n",
    "asyncio.run(main())\n",
    "```\n",
    "\n",
    " - 결과\n",
    " \n",
    "```\n",
    "started at 00:56:52\n",
    "hello\n",
    "world\n",
    "finished at 00:56:59\n",
    "```"
   ]
  },
  {
   "cell_type": "markdown",
   "id": "019df190-ecef-4068-98bd-48ea5c0a2f66",
   "metadata": {},
   "source": [
    "<hr>\n",
    "\n",
    "위 코드가 모두 마치기까지 약 7초가 걸렸다. 이유는 먼저 `say_after(3, 'hello')` 코루틴을 실행하고 약 3초간 기다렸다가 마무리된 후 `say_after(4, 'world')` 코루틴에서 4초간 기다렸기 때문이다.\n",
    "\n",
    "`time.strftime()` 함수에 대해 궁금하다면 공식 문서를 참고하자. [click](https://docs.python.org/3.8/library/time.html#time.strftime)\n",
    "\n",
    "때문에 각 코루틴의 결과값에 서로 의존적이지 않다면 각각의 코루틴이 모두 따로 동시에 실행되도록 하는 솔루션이 필요하다."
   ]
  },
  {
   "cell_type": "markdown",
   "id": "70fa3070-7fd7-4d37-8c70-08f4d2d2dc7c",
   "metadata": {},
   "source": [
    "### * asyncio.create_task(coro, *, name=None)\n",
    "\n",
    "흐름을 분기하는 코드이며, 새로운 micro-thread 생성한다.\n",
    "\n",
    "전달 받은 코루틴을 Task로 감싸고 실행을 예약한다.\n",
    "\n",
    "그리고 그러한 Task 객체를 반환한다.\n",
    "\n",
    "name이 None이 아니면 내부적으로 `Task.set_name()`을 사용해 Task 이름을 설정한다.\n",
    "\n",
    "\n",
    "\n",
    "<hr>"
   ]
  },
  {
   "cell_type": "markdown",
   "id": "10979ddf-d23b-463c-bdf5-f84041e30652",
   "metadata": {},
   "source": [
    "```python\n",
    "import asyncio\n",
    "import time\n",
    "\n",
    "async def say_after(delay, what):\n",
    "    await asyncio.sleep(delay)\n",
    "    print(what)\n",
    "\n",
    "async def main():\n",
    "    coro1 =  say_after(3, 'hello')\n",
    "    coro2 =  say_after(4, 'world')\n",
    "\n",
    "    task1 = asyncio.create_task(coro1)\n",
    "    task2 = asyncio.create_task(coro2)\n",
    "\n",
    "    print(f\"started at {time.strftime('%X')}\")\n",
    "\n",
    "    await task1\n",
    "    await task2\n",
    "\n",
    "    print(f\"finished at {time.strftime('%X')}\")\n",
    "\n",
    "asyncio.run(main())\n",
    "```\n",
    "\n",
    " - 결과\n",
    " \n",
    "```\n",
    "started at 01:09:12\n",
    "hello\n",
    "world\n",
    "finished at 01:09:16\n",
    "```"
   ]
  },
  {
   "cell_type": "markdown",
   "id": "60f94610-d107-41d3-bad1-210e35319fba",
   "metadata": {},
   "source": [
    "<hr>\n",
    "\n",
    "위에 결과를 보면 알 수 있듯이 각 코루틴이 Task 객체로 감싸져서 나왔고 코루틴을 실행했던 것처럼 `await` 키워드를 통해 비동기적인 실행을 하였다. 그러나 각 코루틴이 끝날 때까지 기다렸다가 다음 코루틴 작업으로 넘어가는 것이 아니라 동시에 실행한 것을 볼 수 있다."
   ]
  },
  {
   "cell_type": "markdown",
   "id": "c504eb47-33b1-42bd-91ec-1daed20cae05",
   "metadata": {},
   "source": [
    "또다른 예제를 살펴보자.\n",
    "\n",
    "<hr>"
   ]
  },
  {
   "cell_type": "markdown",
   "id": "be7336fb-8bed-4bad-8653-a6e84cd187f2",
   "metadata": {},
   "source": [
    "```python\n",
    "import asyncio\n",
    "\n",
    "async def saying(interval, what, how_many):\n",
    "    while how_many > 0:\n",
    "        await asyncio.sleep(interval)\n",
    "        print(what)\n",
    "        how_many -= 1\n",
    "\n",
    "async def main():\n",
    "    coro1 =  saying(1, 'hello', 5)\n",
    "    coro2 =  saying(2, 'world', 3)\n",
    "\n",
    "    await coro1\n",
    "    await coro2\n",
    "\n",
    "asyncio.run(main())\n",
    "```\n",
    "\n",
    " - 결과\n",
    " \n",
    "```\n",
    "hello\n",
    "hello\n",
    "hello\n",
    "hello\n",
    "hello\n",
    "world\n",
    "world\n",
    "world\n",
    "```"
   ]
  },
  {
   "cell_type": "markdown",
   "id": "54b83d6b-2b6f-416e-abdc-1649528d4a36",
   "metadata": {},
   "source": [
    "<hr>\n",
    "\n",
    "본 예제도 마찬가지로 코루틴 프로그래밍을 통해 비동기적인 프로그램 실행을 노렸지만 결과적으로는 마치 동기적으로 실행되어버린 케이스다.\n",
    "\n",
    "물론 `create_task()` 함수를 통해 코루틴을 Task 객체로 감싸서 동시에 처리할 수 있다.\n",
    "\n",
    "<hr>"
   ]
  },
  {
   "cell_type": "markdown",
   "id": "c2b17697-7da8-434b-8492-2c9e2b99dd3e",
   "metadata": {},
   "source": [
    "```python\n",
    "import asyncio\n",
    "\n",
    "async def saying(interval, what, how_many):\n",
    "    while how_many > 0:\n",
    "        await asyncio.sleep(interval)\n",
    "        print(what)\n",
    "        how_many -= 1\n",
    "\n",
    "async def main():\n",
    "    coro1 =  saying(1, 'hello', 5)\n",
    "    coro2 =  saying(2, 'world', 3)\n",
    "    coro3 =  saying(3, 'python', 2)\n",
    "\n",
    "    task1 = asyncio.create_task(coro1)\n",
    "    task2 = asyncio.create_task(coro2)\n",
    "    task3 = asyncio.create_task(coro3)\n",
    "\n",
    "    await task1\n",
    "    await task2\n",
    "    await task3\n",
    "\n",
    "asyncio.run(main())\n",
    "```\n",
    "\n",
    " - 결과\n",
    " \n",
    "```\n",
    "hello\n",
    "world\n",
    "hello\n",
    "python\n",
    "hello\n",
    "world\n",
    "hello\n",
    "hello\n",
    "world\n",
    "python\n",
    "```"
   ]
  },
  {
   "cell_type": "markdown",
   "id": "b6119bcd-20a4-4a21-9437-cd718a14d5dc",
   "metadata": {},
   "source": [
    "<hr>\n",
    "\n",
    "그리고 `gather()` 함수로도 여러가지를 동시에 예약하고 처리할 수도 있다. \n",
    "\n",
    "### * asyncio.gather(*aws, loop=None, return_exceptions=False)\n",
    "\n",
    "aws 파라미터에 들어간 코루틴 객체들을 자동으로 태스크로 예약시키고 동시에 실행한다. 처리 결과값들은 선언된 순서와 일치한다.\n",
    "\n",
    "<hr>"
   ]
  },
  {
   "cell_type": "markdown",
   "id": "445dda5c-f5a6-41d9-a927-20e732ae6dd1",
   "metadata": {},
   "source": [
    "```python\n",
    "import asyncio\n",
    "\n",
    "async def saying(interval, what, how_many):\n",
    "    while how_many > 0:\n",
    "        await asyncio.sleep(interval)\n",
    "        print(what)\n",
    "        how_many -= 1\n",
    "    return what\n",
    "\n",
    "async def main():\n",
    "    coro1 =  saying(1, 'hello', 5)\n",
    "    coro2 =  saying(2, 'world', 3)\n",
    "    coro3 =  saying(3, 'python', 2)\n",
    "\n",
    "    coro_result_list = await asyncio.gather(\n",
    "        coro1, coro2, coro3\n",
    "    )\n",
    "    print(coro_result_list)\n",
    "\n",
    "asyncio.run(main())\n",
    "```\n",
    "\n",
    " - 결과\n",
    " \n",
    "```\n",
    "hello\n",
    "world\n",
    "hello\n",
    "python\n",
    "hello\n",
    "hello\n",
    "world\n",
    "hello\n",
    "python\n",
    "world\n",
    "['hello', 'world', 'python']\n",
    "```"
   ]
  },
  {
   "cell_type": "markdown",
   "id": "e078481c-cc28-4676-b033-e9971e364c19",
   "metadata": {},
   "source": [
    "<hr>"
   ]
  },
  {
   "cell_type": "markdown",
   "id": "8abcc721-8fde-4e62-9e24-2846bd827714",
   "metadata": {},
   "source": [
    "<br><br><br>"
   ]
  },
  {
   "cell_type": "markdown",
   "id": "9c8e1c2a-1d30-4888-9081-819b50142ad4",
   "metadata": {},
   "source": [
    "## - 저수준 API"
   ]
  },
  {
   "cell_type": "markdown",
   "id": "3aa9905c-6a46-471f-ad05-1792082720e9",
   "metadata": {},
   "source": [
    "asyncio 모듈의 고수준 API는 응용 프로그램 개발자를 위한 것이었다면, 저수준 API는 라이브러리와 프레임워크 개발자를 위한 것이다.\n",
    "\n",
    "아래 코드는 이미 위에서 경험한 고수준 API를 이용한 프로그램이다."
   ]
  },
  {
   "cell_type": "markdown",
   "id": "460f23e1-f131-4410-a56e-ffbaf0b64ec4",
   "metadata": {},
   "source": [
    "<hr>"
   ]
  },
  {
   "cell_type": "markdown",
   "id": "7eb2a79a-68bd-4417-b1b9-4bf8ffc232a6",
   "metadata": {},
   "source": [
    "```python\n",
    "import asyncio\n",
    "\n",
    "async def main():\n",
    "    print('hello')\n",
    "    await asyncio.sleep(1)\n",
    "    print('world')\n",
    "\n",
    "asyncio.run(main());\n",
    "```\n",
    "\n",
    " - 결과\n",
    " \n",
    "```\n",
    "hello\n",
    "world\n",
    "```"
   ]
  },
  {
   "cell_type": "markdown",
   "id": "359b9f9d-613a-4594-8264-a3df5fb18294",
   "metadata": {},
   "source": [
    "<hr>"
   ]
  },
  {
   "cell_type": "markdown",
   "id": "eb7bc8b8-0795-4eea-bf80-91c328be7052",
   "metadata": {},
   "source": [
    "이를 저수준 API 형식으로 바꾸면 다음과 같다."
   ]
  },
  {
   "cell_type": "markdown",
   "id": "2f67b9fb-c998-471c-ba39-93ebc9151853",
   "metadata": {},
   "source": [
    "<hr>"
   ]
  },
  {
   "cell_type": "markdown",
   "id": "d86743f9-b57a-48c7-a94b-a22ace46dfb0",
   "metadata": {},
   "source": [
    "```python\n",
    "import asyncio\n",
    "\n",
    "async def main():\n",
    "    print('hello')\n",
    "    await asyncio.sleep(1)\n",
    "    print('world')\n",
    "\n",
    "loop = asyncio.get_event_loop()\n",
    "loop.run_until_complete(main())\n",
    "loop.close()\n",
    "```\n",
    "\n",
    " - 결과\n",
    " \n",
    "```\n",
    "hello\n",
    "world\n",
    "```"
   ]
  },
  {
   "cell_type": "markdown",
   "id": "28ae0cab-2375-4b1d-8b81-68c207b709e5",
   "metadata": {},
   "source": [
    "<hr>"
   ]
  },
  {
   "cell_type": "markdown",
   "id": "fe0f523d-7ce0-4722-9560-d04b2c66e4e9",
   "metadata": {},
   "source": [
    "왜 `asyncio.run()`와 똑같이 동작할까? 이 함수에 대한 설명을 다시 살펴보자. 이 안에 답이 있다."
   ]
  },
  {
   "cell_type": "markdown",
   "id": "fa1e0b38-0b2e-4283-9f7b-7adbaff551a2",
   "metadata": {},
   "source": [
    "### * asyncio.run()\n",
    "\n",
    "동기 코드에서 비동기 코드로 진입하는 부분이다. 선언된 코루틴을 `coro` 위치에 인수로서 대입하면 된다.\n",
    "\n",
    "내부적으로 이벤트 루프(even_loop)를 만들고 코루틴(coroutine)을 실행한 다음 이벤트 루프를 닫는다(close)."
   ]
  },
  {
   "cell_type": "markdown",
   "id": "ff3e977e-2b98-48e4-acd3-e071843ff5a4",
   "metadata": {},
   "source": [
    "여기서 주목할 부분은 다음과 같다.\n",
    "\n",
    "```\n",
    "...\n",
    "...\n",
    "내부적으로 이벤트 루프(even_loop)를 만들고 코루틴(coroutine)을 실행한 다음 이벤트 루프를 닫는다(close).\n",
    "...\n",
    "...\n",
    "```\n",
    "\n",
    "이 말은 아래 코드를 말하는 것이다.\n",
    "\n",
    "```python\n",
    "loop = asyncio.get_event_loop()\n",
    "loop.run_until_complete(main())\n",
    "loop.close()\n",
    "```"
   ]
  },
  {
   "cell_type": "markdown",
   "id": "a005a3e3-ef6a-4747-bf2f-271131ce854b",
   "metadata": {},
   "source": [
    "### * asyncio.get_event_loop()\n",
    "\n",
    "현재 사용중인 이벤트 루프를 가져온다. \n",
    "\n",
    "파이썬 공식 문서에서는 이러한 저수준의 함수를 사용하여 수동으로 이벤트 루프를 생성하고 닫는 대신 그냥 `asyncio.run()` 함수를 사용하는 것을 고려하라고 한다."
   ]
  },
  {
   "cell_type": "markdown",
   "id": "e0805aea-465b-45e7-a497-870984caa1c4",
   "metadata": {},
   "source": [
    "### * loop.run_until_complete(future)\n",
    " Future의 인스턴스가 완료가 될 때까지 실행하고 만일 Future 객체가 아니라 코루틴 객체가 들어오면 TasK 객체로 실행되도록 묵시적으로 예약된다."
   ]
  },
  {
   "cell_type": "markdown",
   "id": "34aed25c-ddd7-4b76-8fd3-38541f768c6d",
   "metadata": {
    "jp-MarkdownHeadingCollapsed": true,
    "tags": []
   },
   "source": [
    "### * loop.close()\n",
    "\n",
    "이벤트 루트를 닫는다."
   ]
  }
 ],
 "metadata": {
  "kernelspec": {
   "display_name": "Python 3 (ipykernel)",
   "language": "python",
   "name": "python3"
  },
  "language_info": {
   "codemirror_mode": {
    "name": "ipython",
    "version": 3
   },
   "file_extension": ".py",
   "mimetype": "text/x-python",
   "name": "python",
   "nbconvert_exporter": "python",
   "pygments_lexer": "ipython3",
   "version": "3.9.7"
  }
 },
 "nbformat": 4,
 "nbformat_minor": 5
}
