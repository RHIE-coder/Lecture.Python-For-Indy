{
 "cells": [
  {
   "cell_type": "markdown",
   "id": "musical-transsexual",
   "metadata": {
    "tags": []
   },
   "source": [
    "# 01. About Python"
   ]
  },
  {
   "cell_type": "markdown",
   "id": "twenty-arnold",
   "metadata": {
    "tags": []
   },
   "source": [
    "## - History"
   ]
  },
  {
   "cell_type": "markdown",
   "id": "swedish-mounting",
   "metadata": {},
   "source": [
    "파이썬 이라는 이름은 Monty Python's Flying Circus라는 BBC쇼에서 따온 것, 파충류와는 아무 관련이 없음\n",
    "\n",
    "1994년 귀도 반 로섬(Guido Van Rossum)에 의해 시작. 크리스마스 떄 취미로 만듬."
   ]
  },
  {
   "cell_type": "markdown",
   "id": "retired-greece",
   "metadata": {},
   "source": [
    "## - Structure"
   ]
  },
  {
   "cell_type": "markdown",
   "id": "alive-jacksonville",
   "metadata": {},
   "source": [
    "인터프리터 언어"
   ]
  },
  {
   "cell_type": "markdown",
   "id": "criminal-robert",
   "metadata": {},
   "source": [
    "## - Before Python Programming, You Should Know:"
   ]
  },
  {
   "cell_type": "markdown",
   "id": "sticky-rescue",
   "metadata": {
    "tags": []
   },
   "source": [
    "### * 파이썬의 기본 인코딩은 UTF-8이다."
   ]
  },
  {
   "cell_type": "code",
   "execution_count": null,
   "id": "dependent-counter",
   "metadata": {},
   "outputs": [],
   "source": [
    "# -*- coding: UTF-8 -*-"
   ]
  },
  {
   "cell_type": "markdown",
   "id": "common-holiday",
   "metadata": {},
   "source": [
    "인코딩을 기본값 외의 것으로 선언시 : "
   ]
  },
  {
   "cell_type": "code",
   "execution_count": null,
   "id": "affecting-thousand",
   "metadata": {},
   "outputs": [],
   "source": [
    "# -*- coding: cp1252 -*-"
   ]
  },
  {
   "cell_type": "markdown",
   "id": "noticed-baltimore",
   "metadata": {},
   "source": [
    "### * 파이썬은 모두 객체다."
   ]
  },
  {
   "cell_type": "markdown",
   "id": "younger-wheel",
   "metadata": {},
   "source": [
    " - id() : 주소 값을 알 수 있다."
   ]
  },
  {
   "cell_type": "code",
   "execution_count": null,
   "id": "gothic-sullivan",
   "metadata": {},
   "outputs": [],
   "source": [
    "a = 10\n",
    "id(a) # 객체 고유의 값"
   ]
  },
  {
   "cell_type": "markdown",
   "id": "bibliographic-neighbor",
   "metadata": {},
   "source": [
    " - dir() : 해당 객체가 어떤 변수와 메소드를 가지고 있는지 확인할 수 있다."
   ]
  },
  {
   "cell_type": "code",
   "execution_count": null,
   "id": "adapted-myanmar",
   "metadata": {},
   "outputs": [],
   "source": [
    "dir(int)"
   ]
  },
  {
   "cell_type": "markdown",
   "id": "checked-vector",
   "metadata": {
    "tags": []
   },
   "source": [
    "### * help() : 사용법"
   ]
  },
  {
   "cell_type": "code",
   "execution_count": null,
   "id": "floppy-rotation",
   "metadata": {},
   "outputs": [],
   "source": [
    "help(dir)"
   ]
  },
  {
   "cell_type": "markdown",
   "id": "light-middle",
   "metadata": {},
   "source": [
    "### * 코딩스타일"
   ]
  },
  {
   "cell_type": "markdown",
   "id": "functional-progressive",
   "metadata": {},
   "source": [
    " - indent는 4space로하며 tab은 사용을 금한다\n",
    " - 한 줄에 79자를 넘기지 않는다\n",
    " - 독스트링을 사용하자\n",
    " - 연산자들 주변과 콤마 뒤에 스페이스를 넣고 괄호는 붙인다\n",
    " - 클래스는 UpperCamelCase, 함수와 메서드는 lowercase_with_underscores\n",
    " - UTF-8을 지키자"
   ]
  },
  {
   "cell_type": "markdown",
   "id": "placed-muslim",
   "metadata": {},
   "source": [
    "### * 주석"
   ]
  },
  {
   "cell_type": "code",
   "execution_count": null,
   "id": "sufficient-ocean",
   "metadata": {},
   "outputs": [],
   "source": [
    "# This is comment"
   ]
  },
  {
   "cell_type": "markdown",
   "id": "earned-limitation",
   "metadata": {},
   "source": [
    "### * print() : 출력"
   ]
  },
  {
   "cell_type": "code",
   "execution_count": null,
   "id": "piano-challenge",
   "metadata": {},
   "outputs": [],
   "source": [
    "a = 123\n",
    "print(a)\n",
    "print(\"출력 함수\")\n",
    "print(1, 2, \"이렇게\", 3, 4, \"여러가지\", \"출력\", sep=\"# \")\n",
    "print(\"Hello \", \"World!\", end=\" | \")\n",
    "print(321)"
   ]
  },
  {
   "cell_type": "markdown",
   "id": "structural-reynolds",
   "metadata": {},
   "source": [
    "<br>\n",
    "<br>\n",
    "<br>\n",
    "<br>\n",
    "<br>\n",
    "<br>\n",
    "<hr>\n",
    "<br>\n",
    "<br>\n",
    "<br>\n",
    "<br>\n",
    "<br>\n",
    "<br>"
   ]
  },
  {
   "cell_type": "markdown",
   "id": "military-sender",
   "metadata": {
    "tags": []
   },
   "source": [
    "# 02. 변수와 자료형"
   ]
  },
  {
   "cell_type": "markdown",
   "id": "collective-implement",
   "metadata": {
    "tags": []
   },
   "source": [
    "## - 자료형\n",
    "\n",
    " - int\n",
    " - float\n",
    " - string\n",
    " - boolean\n",
    " - list\n",
    " - dict\n",
    " - tuple\n",
    " - None\n",
    " \n",
    "\n",
    "long형은 존재하지 않는다"
   ]
  },
  {
   "cell_type": "markdown",
   "id": "raising-citation",
   "metadata": {},
   "source": [
    "### * type() : 자료형을 확인한다"
   ]
  },
  {
   "cell_type": "code",
   "execution_count": null,
   "id": "stopped-needle",
   "metadata": {},
   "outputs": [],
   "source": [
    "type(\"hello\")"
   ]
  },
  {
   "cell_type": "code",
   "execution_count": null,
   "id": "western-strength",
   "metadata": {},
   "outputs": [],
   "source": [
    "type(10)"
   ]
  },
  {
   "cell_type": "markdown",
   "id": "chemical-groove",
   "metadata": {},
   "source": [
    "## - 변수"
   ]
  },
  {
   "cell_type": "markdown",
   "id": "still-texture",
   "metadata": {
    "tags": []
   },
   "source": [
    "### * 변수 할당"
   ]
  },
  {
   "cell_type": "code",
   "execution_count": null,
   "id": "computational-double",
   "metadata": {},
   "outputs": [],
   "source": [
    "a = 10\n",
    "print(a)"
   ]
  },
  {
   "cell_type": "code",
   "execution_count": null,
   "id": "printable-digest",
   "metadata": {},
   "outputs": [],
   "source": [
    "a, b, c = 10, \"hello\" ,3.14\n",
    "print(a, type(a))\n",
    "print(b, type(b))\n",
    "print(c, type(c))"
   ]
  },
  {
   "cell_type": "markdown",
   "id": "disciplinary-miller",
   "metadata": {},
   "source": [
    "### * 캐스팅 ( 자료형 변환 )"
   ]
  },
  {
   "cell_type": "code",
   "execution_count": null,
   "id": "mature-defense",
   "metadata": {},
   "outputs": [],
   "source": [
    "a = input()\n",
    "print(type(a))\n",
    "a = int(a)\n",
    "print(type(a))"
   ]
  },
  {
   "cell_type": "markdown",
   "id": "intellectual-coupon",
   "metadata": {},
   "source": [
    "### * del ( 삭제 )"
   ]
  },
  {
   "cell_type": "code",
   "execution_count": null,
   "id": "accurate-remainder",
   "metadata": {},
   "outputs": [],
   "source": [
    "a = \"hello world\"\n",
    "print(a)\n",
    "del a\n",
    "print(a)"
   ]
  },
  {
   "cell_type": "markdown",
   "id": "uniform-vaccine",
   "metadata": {},
   "source": [
    "나중에 자세히 배우겠지만 먼저 배열이 무엇인지 맛봅시다. 아래와 같은 코드를 짠다고 가정해보겠습니다.\n",
    "\n",
    "```python\n",
    "korea_region1 = \"서울\";\n",
    "korea_region2 = \"경기도\";\n",
    "korea_region3 = \"부산\";\n",
    "korea_region4 = \"대구\";\n",
    "korea_region5 = \"광주\";\n",
    "korea_region6 = \"대전\";\n",
    "```"
   ]
  },
  {
   "cell_type": "markdown",
   "id": "cubic-transcript",
   "metadata": {},
   "source": [
    "뭔가 비효율적이지 않나요? 같은 `korea_region`인 변수들입니다. 나중에 활용하기도 쉽지 않지요. 다음과 같이 이 모든 변수의 값들을 한 곳에 모으면 어떨까요? \n",
    "\n",
    "```python\n",
    "korea_region = [\"서울\", \"경기도\", \"부산\", \"대구\", \"광주\", \"대전\"];\n",
    "```"
   ]
  },
  {
   "cell_type": "markdown",
   "id": "round-pepper",
   "metadata": {},
   "source": [
    "한결, 편하게 볼 수 있게 됬네요. 이젠 이것을 어떻게 써볼까요. \n",
    "\n",
    "바로 `index`를 활용하면 됩니다. *서울*, *경기도*, *부산*... 등 이 배열의 값들을 각각 배열의 요소(Element)라고 하고, `index`는 배열 요소의 각 위치를 나타냅니다."
   ]
  },
  {
   "cell_type": "markdown",
   "id": "downtown-yorkshire",
   "metadata": {},
   "source": [
    "|*`배열 요소 위치`*|1번째 위치|2번째 위치|3번째 위치|4번째 위치|5번째 위치|6번째 위치|\n",
    "|:---:|:---:|:---:|:---:|:---:|:---:|:---:|\n",
    "|*`index`*|0|1|2|3|4|5|\n",
    "|*`배열 요소 값`*| \"서울\" | \"경기도\" | \"부산\" | \"대구\" | \"광주\" | \"대전\" |\n"
   ]
  },
  {
   "cell_type": "markdown",
   "id": "optional-friday",
   "metadata": {},
   "source": [
    "```python\n",
    "print(korea_region[0]) //서울\n",
    "print(korea_region[1]) //경기도\n",
    "print(korea_region[2]) //부산\n",
    "print(korea_region[3]) //대구\n",
    "print(korea_region[4]) //광주\n",
    "print(korea_region[5]) //대전\n",
    "print(korea_region[6]) //None\n",
    "```"
   ]
  },
  {
   "cell_type": "markdown",
   "id": "juvenile-chrome",
   "metadata": {},
   "source": [
    "korea_region[6]의 결과를 살펴보니 list index out of range의 에러가 발생하네요. 이유를 알아보기 전에 우선 배열의 크기를 알아봅시다."
   ]
  },
  {
   "cell_type": "markdown",
   "id": "respective-enemy",
   "metadata": {},
   "source": [
    "```python\n",
    "print(len(korea_region)) //6\n",
    "```"
   ]
  },
  {
   "cell_type": "markdown",
   "id": "collect-dietary",
   "metadata": {},
   "source": [
    "이 `korea_region`의 배열의 크기는 6입니다.\n",
    "\n",
    "그런데 7번째 내용을 출력하라고 했습니다. 있지도 않은 값을 출력하라고 명령한 것과 다름이 없으므로 애초에 정의되어 있지 않아 에러가 ㅂ\n",
    "\n",
    "우리에게 익숙한 `1번째, 2번째, 3번째...` 와 달리 `index`는 0부터 시작합니다. 그래서 프로그래밍을 처음 접하시는 분들은 처음에 익숙하지 않아 힘들 수도 있습니다. 그래도 힘들지만 익숙해져봅시다. 자주 쓰시다 보면 생각보다 금방 익숙해집니다."
   ]
  },
  {
   "cell_type": "markdown",
   "id": "sensitive-poland",
   "metadata": {},
   "source": [
    "### * mutable and immutable\n",
    "\n",
    "데이터 타입에 따라 값이 변할 수 있는 mutable 방식과 값이 변할 수 없는 immutalbe 방식으로 나뉜다.\n",
    "\n",
    "다음 코드를 보면\n",
    "\n",
    "```python\n",
    "var = \"hello\"\n",
    "print(var) # output : \"hello\"\n",
    "var = \"hello world\"\n",
    "print(var) # output : \"hello world\"\n",
    "```\n",
    "\n",
    "출력해보면 var의 변수 값이 바뀐 것을 볼 수 있다.\n",
    "\n",
    "그런데 사실은 `\"hello\"`라는 값이 `\"hello world\"`라는 값으로 바뀐것이 아니라\n",
    "\n",
    "기존의 값(`\"hello\"`)은 메모리에 그대로 있고 `\"hello world\"`라는 값이 메모리에 새로 생겨나 그 값을 var이라는 변수가 가리킬 뿐이다.\n",
    "\n",
    "즉, `\"hello\"`라는 값은 여전히 메모리에 살아있고 var이 가리키지 않을 뿐이다.\n",
    "\n",
    "이후 가비지 컬랙터(Garbage Collector, GC)가 아무도 가리키지 않고 메모리에 홀로 덩그러니 남겨져 있는 이 `\"hello\"` 값을 없앤다."
   ]
  },
  {
   "cell_type": "markdown",
   "id": "adjusted-yacht",
   "metadata": {},
   "source": [
    " - 예를 들어, 문자열과 정수는 immutable하다"
   ]
  },
  {
   "cell_type": "code",
   "execution_count": null,
   "id": "brutal-richards",
   "metadata": {},
   "outputs": [],
   "source": [
    "num = 10\n",
    "copy_num = num\n",
    "print(id(num), id(copy_num)) # 두 개의 정수 값의 주소값이 같다.\n",
    "copy_num = 20\n",
    "print(id(num), id(copy_num)) # 두 개의 정수 값의 주소값이 다르다."
   ]
  },
  {
   "cell_type": "code",
   "execution_count": null,
   "id": "elder-victorian",
   "metadata": {},
   "outputs": [],
   "source": [
    "string = \"Hi\"\n",
    "copy_string = string\n",
    "print(id(string), id(copy_string)) # 두 개의 문자열 값의 주소값이 같다.\n",
    "copy_string = \"Hello\"\n",
    "print(id(string), id(copy_string)) # 두 개의 문자열 값의 주소값이 다르다."
   ]
  },
  {
   "cell_type": "markdown",
   "id": "intended-conclusion",
   "metadata": {},
   "source": [
    " - 예를 들어, 리스트는 mutable하다"
   ]
  },
  {
   "cell_type": "code",
   "execution_count": null,
   "id": "heavy-california",
   "metadata": {},
   "outputs": [],
   "source": [
    "objs = [1, 2, 3, \"This is List\"]\n",
    "copy_objs = objs\n",
    "objs[0] = 100 # 첫번째 값을 100으로 변경\n",
    "print(objs, copy_objs) # 두 개 변수의 리스트 값이 모두 바뀌었다.\n",
    "print(id(objs), id(copy_objs)) # 두 개의 주소값이 같다."
   ]
  },
  {
   "cell_type": "markdown",
   "id": "statewide-knock",
   "metadata": {},
   "source": [
    "<br>\n",
    "<br>\n",
    "<br>\n",
    "<br>\n",
    "<br>\n",
    "<br>\n",
    "<hr>\n",
    "<br>\n",
    "<br>\n",
    "<br>\n",
    "<br>\n",
    "<br>\n",
    "<br>"
   ]
  },
  {
   "cell_type": "markdown",
   "id": "understood-reach",
   "metadata": {
    "tags": []
   },
   "source": [
    "# 03. 연산자"
   ]
  },
  {
   "cell_type": "markdown",
   "id": "polar-discipline",
   "metadata": {},
   "source": [
    "## - 산술연산 `+`, `-`, `*`, `**`, `/`, `//`, `%`"
   ]
  },
  {
   "cell_type": "markdown",
   "id": "proud-packing",
   "metadata": {},
   "source": [
    " - 더하기"
   ]
  },
  {
   "cell_type": "code",
   "execution_count": null,
   "id": "historic-firewall",
   "metadata": {},
   "outputs": [],
   "source": [
    "3 + 5"
   ]
  },
  {
   "cell_type": "markdown",
   "id": "thermal-better",
   "metadata": {},
   "source": [
    " - 빼기"
   ]
  },
  {
   "cell_type": "code",
   "execution_count": null,
   "id": "widespread-billy",
   "metadata": {},
   "outputs": [],
   "source": [
    "10 - 3"
   ]
  },
  {
   "cell_type": "markdown",
   "id": "limited-proof",
   "metadata": {},
   "source": [
    " - 곱하기"
   ]
  },
  {
   "cell_type": "code",
   "execution_count": null,
   "id": "expired-average",
   "metadata": {},
   "outputs": [],
   "source": [
    "40 * 2"
   ]
  },
  {
   "cell_type": "markdown",
   "id": "detected-crystal",
   "metadata": {},
   "source": [
    " - n제곱"
   ]
  },
  {
   "cell_type": "code",
   "execution_count": null,
   "id": "collectible-journal",
   "metadata": {},
   "outputs": [],
   "source": [
    "2 ** 3"
   ]
  },
  {
   "cell_type": "markdown",
   "id": "listed-noise",
   "metadata": {},
   "source": [
    " - 나누기(소수의 몫)"
   ]
  },
  {
   "cell_type": "code",
   "execution_count": null,
   "id": "generic-vertical",
   "metadata": {},
   "outputs": [],
   "source": [
    "10 / 3"
   ]
  },
  {
   "cell_type": "markdown",
   "id": "spoken-chapter",
   "metadata": {},
   "source": [
    " - 나누기(정수의 몫)"
   ]
  },
  {
   "cell_type": "code",
   "execution_count": null,
   "id": "miniature-recall",
   "metadata": {},
   "outputs": [],
   "source": [
    "10 // 3"
   ]
  },
  {
   "cell_type": "markdown",
   "id": "insured-independence",
   "metadata": {},
   "source": [
    " - 나누기(나머지)"
   ]
  },
  {
   "cell_type": "code",
   "execution_count": null,
   "id": "above-catering",
   "metadata": {},
   "outputs": [],
   "source": [
    "10 % 3"
   ]
  },
  {
   "cell_type": "markdown",
   "id": "occupational-interface",
   "metadata": {
    "tags": []
   },
   "source": [
    "## - 할당연산 `+=`, `-=`, `*=`, `**=`, `/=`, `//=`, `%=`"
   ]
  },
  {
   "cell_type": "markdown",
   "id": "identical-copyright",
   "metadata": {},
   "source": [
    " - 더하기"
   ]
  },
  {
   "cell_type": "code",
   "execution_count": null,
   "id": "dangerous-expert",
   "metadata": {
    "tags": []
   },
   "outputs": [],
   "source": [
    "num = 10\n",
    "num = num + 20\n",
    "num += 20\n",
    "print(num)"
   ]
  },
  {
   "cell_type": "markdown",
   "id": "spoken-mercy",
   "metadata": {},
   "source": [
    " - 빼기"
   ]
  },
  {
   "cell_type": "code",
   "execution_count": null,
   "id": "brave-enclosure",
   "metadata": {},
   "outputs": [],
   "source": [
    "num = 20\n",
    "num -= 10\n",
    "print(num)"
   ]
  },
  {
   "cell_type": "markdown",
   "id": "irish-wellington",
   "metadata": {},
   "source": [
    " - 곱하기"
   ]
  },
  {
   "cell_type": "code",
   "execution_count": null,
   "id": "binding-wheat",
   "metadata": {},
   "outputs": [],
   "source": [
    "num = 10\n",
    "num *= 10\n",
    "print(num)"
   ]
  },
  {
   "cell_type": "markdown",
   "id": "perfect-booking",
   "metadata": {},
   "source": [
    " - n제곱"
   ]
  },
  {
   "cell_type": "code",
   "execution_count": null,
   "id": "viral-quick",
   "metadata": {},
   "outputs": [],
   "source": [
    "num = 10\n",
    "num **= 3\n",
    "print(num)"
   ]
  },
  {
   "cell_type": "markdown",
   "id": "arbitrary-joshua",
   "metadata": {},
   "source": [
    " - 나누기(소수의 몫)"
   ]
  },
  {
   "cell_type": "code",
   "execution_count": null,
   "id": "sonic-necessity",
   "metadata": {},
   "outputs": [],
   "source": [
    "num = 10\n",
    "num /= 3\n",
    "print(num)"
   ]
  },
  {
   "cell_type": "markdown",
   "id": "atomic-highland",
   "metadata": {},
   "source": [
    " - 나누기(정수의 몫)"
   ]
  },
  {
   "cell_type": "code",
   "execution_count": null,
   "id": "resistant-reviewer",
   "metadata": {},
   "outputs": [],
   "source": [
    "num = 10\n",
    "num //= 3\n",
    "print(num)"
   ]
  },
  {
   "cell_type": "markdown",
   "id": "exclusive-august",
   "metadata": {},
   "source": [
    " - 나누기(나머지)"
   ]
  },
  {
   "cell_type": "code",
   "execution_count": null,
   "id": "fifth-crown",
   "metadata": {},
   "outputs": [],
   "source": [
    "num = 10\n",
    "num %= 3\n",
    "print(num)"
   ]
  },
  {
   "cell_type": "markdown",
   "id": "legislative-target",
   "metadata": {},
   "source": [
    "파이썬에는 증감연산 `++`, `--` 이 없다"
   ]
  },
  {
   "cell_type": "markdown",
   "id": "arabic-issue",
   "metadata": {},
   "source": [
    "## - 비교연산 `<=`, `>=`, `<`, `>`, `==`, `!=`"
   ]
  },
  {
   "cell_type": "markdown",
   "id": "valid-massage",
   "metadata": {},
   "source": [
    "왼쪽 기준으로 비교하면 된다.\n",
    " - `==` : 같다\n",
    " - `!=` : 같지 않다"
   ]
  },
  {
   "cell_type": "code",
   "execution_count": null,
   "id": "successful-novel",
   "metadata": {},
   "outputs": [],
   "source": [
    "5 <= 5"
   ]
  },
  {
   "cell_type": "code",
   "execution_count": null,
   "id": "threatened-toddler",
   "metadata": {},
   "outputs": [],
   "source": [
    "5 < 5"
   ]
  },
  {
   "cell_type": "code",
   "execution_count": null,
   "id": "framed-aquarium",
   "metadata": {},
   "outputs": [],
   "source": [
    "4 > 2"
   ]
  },
  {
   "cell_type": "code",
   "execution_count": null,
   "id": "precious-newark",
   "metadata": {},
   "outputs": [],
   "source": [
    "3 >= 0"
   ]
  },
  {
   "cell_type": "code",
   "execution_count": null,
   "id": "alternate-vocabulary",
   "metadata": {},
   "outputs": [],
   "source": [
    "10 == 10"
   ]
  },
  {
   "cell_type": "code",
   "execution_count": null,
   "id": "traditional-bleeding",
   "metadata": {},
   "outputs": [],
   "source": [
    "1 != 1"
   ]
  },
  {
   "cell_type": "markdown",
   "id": "portable-mention",
   "metadata": {},
   "source": [
    "## - 식별(Identity)연산 `is`, `is not`\n",
    "\n",
    "값을 비교하는 것이 아니라 메모리 주소값을 비교\n",
    "\n",
    "파이썬은 정수 -5~256까지 이미 객체를 만들어 보관(메모리 주소가 일정함)\n",
    "\n",
    "string도 짧은 문자열은 같은 주소에 할당되나, 긴 문자열은 다른 주소에 할당됨"
   ]
  },
  {
   "cell_type": "code",
   "execution_count": null,
   "id": "indoor-jumping",
   "metadata": {},
   "outputs": [],
   "source": [
    "# == 와 is의 차이\n",
    "x = 100\n",
    "y = 100\n",
    "print(x == y)\n",
    "print(x is y)\n",
    "print(id(x)) #주소값 확인 id()\n",
    "print(id(y))"
   ]
  },
  {
   "cell_type": "code",
   "execution_count": null,
   "id": "young-renaissance",
   "metadata": {},
   "outputs": [],
   "source": [
    "x = 257\n",
    "y = 257\n",
    "print(x == y)\n",
    "print(x is y)\n",
    "print(id(x))\n",
    "print(id(y))"
   ]
  },
  {
   "cell_type": "markdown",
   "id": "intended-softball",
   "metadata": {},
   "source": [
    "## - 논리 연산 `and`, `or`, `not`"
   ]
  },
  {
   "cell_type": "code",
   "execution_count": null,
   "id": "competent-intensity",
   "metadata": {},
   "outputs": [],
   "source": [
    "print(True and True)\n",
    "print(True and False)\n",
    "print(False and True)\n",
    "print(False and False)"
   ]
  },
  {
   "cell_type": "code",
   "execution_count": null,
   "id": "embedded-morgan",
   "metadata": {},
   "outputs": [],
   "source": [
    "print(True or True)\n",
    "print(True or False)\n",
    "print(False or True)\n",
    "print(False or False)"
   ]
  },
  {
   "cell_type": "code",
   "execution_count": null,
   "id": "regular-enhancement",
   "metadata": {},
   "outputs": [],
   "source": [
    "not True"
   ]
  },
  {
   "cell_type": "markdown",
   "id": "limiting-curtis",
   "metadata": {},
   "source": [
    "<br>\n",
    "<br>\n",
    "<br>\n",
    "<br>\n",
    "<br>\n",
    "<br>\n",
    "<hr>\n",
    "<br>\n",
    "<br>\n",
    "<br>\n",
    "<br>\n",
    "<br>\n",
    "<br>"
   ]
  },
  {
   "cell_type": "markdown",
   "id": "thick-casino",
   "metadata": {},
   "source": [
    "# 04. 조건문"
   ]
  },
  {
   "cell_type": "markdown",
   "id": "soviet-blind",
   "metadata": {},
   "source": [
    "## - if ~ else"
   ]
  },
  {
   "cell_type": "markdown",
   "id": "rotary-design",
   "metadata": {},
   "source": [
    "if문이 true면 if문 아래의 수행문(코드)이 실행되고 false면 else문 아래의 수행문이 실행된다"
   ]
  },
  {
   "cell_type": "code",
   "execution_count": null,
   "id": "identical-robertson",
   "metadata": {},
   "outputs": [],
   "source": [
    "num = int(input(\"정수 입력\"))\n",
    "if num % 2 == 0:\n",
    "    print(\"짝수\")\n",
    "else:\n",
    "    print(\"홀수\")"
   ]
  },
  {
   "cell_type": "markdown",
   "id": "assured-foundation",
   "metadata": {},
   "source": [
    "if문을 여러 개를 사용할 수 있는데, 이전 if문의 결과가 참이든 거짓이든 간에 상관 없이 true면 무조건 실행이된다.\n",
    "\n",
    "만일 모든 조건문( if )이 false라면 else문이 실행된다."
   ]
  },
  {
   "cell_type": "code",
   "execution_count": null,
   "id": "threaded-dietary",
   "metadata": {},
   "outputs": [],
   "source": [
    "score = int(input(\"Input the score : \"))\n",
    "if score > 90:\n",
    "    print(\"수\")\n",
    "if score > 80:\n",
    "    print(\"우\")\n",
    "if score > 70:\n",
    "    print(\"미\")\n",
    "if score > 60:\n",
    "    print(\"양\")\n",
    "else:\n",
    "    print(\"가\")"
   ]
  },
  {
   "cell_type": "markdown",
   "id": "substantial-grade",
   "metadata": {},
   "source": [
    "and 연산을 통해 나타내려고 해도 아래 if문 중에 하나라도 false가 나오면 else문이 실행되기 때문에 원하는 결과를 얻을 수 없다."
   ]
  },
  {
   "cell_type": "code",
   "execution_count": null,
   "id": "fleet-bidding",
   "metadata": {},
   "outputs": [],
   "source": [
    "score = int(input(\"Input the score : \"))\n",
    "if score > 90:\n",
    "    print(\"수\")\n",
    "if score > 80 and score <= 90:\n",
    "    print(\"우\")\n",
    "if score > 70 and score <= 80:\n",
    "    print(\"미\")\n",
    "if score > 60 and score <= 70:\n",
    "    print(\"양\")\n",
    "else:\n",
    "    print(\"가\")"
   ]
  },
  {
   "cell_type": "markdown",
   "id": "facial-neighborhood",
   "metadata": {},
   "source": [
    "## -elif"
   ]
  },
  {
   "cell_type": "markdown",
   "id": "competent-strength",
   "metadata": {},
   "source": [
    "위와 같은 문제를 방지하기 위해 이전의 조건문이 false가 나올 때만 조건을 확인하는 elif문을 사용하면 된다.\n",
    "\n",
    "만일 이전 조건문( if 혹은 elif )이 true면 실행하지 않고 쭉 넘어가게 된다.\n",
    "\n",
    "만일 모든 조건문( if, elif )이 false라면 else문이 실행된다."
   ]
  },
  {
   "cell_type": "code",
   "execution_count": null,
   "id": "employed-spice",
   "metadata": {},
   "outputs": [],
   "source": [
    "score = int(input(\"Input the score : \"))\n",
    "if score > 90:\n",
    "    print(\"수\")\n",
    "elif score > 80:\n",
    "    print(\"우\")\n",
    "elif score > 70:\n",
    "    print(\"미\")\n",
    "elif score > 60:\n",
    "    print(\"양\")\n",
    "else:\n",
    "    print(\"가\")"
   ]
  },
  {
   "cell_type": "markdown",
   "id": "micro-salmon",
   "metadata": {},
   "source": [
    "<br>\n",
    "<br>\n",
    "<br>\n",
    "<br>\n",
    "<br>\n",
    "<br>\n",
    "<hr>\n",
    "<br>\n",
    "<br>\n",
    "<br>\n",
    "<br>\n",
    "<br>\n",
    "<br>"
   ]
  },
  {
   "cell_type": "markdown",
   "id": "satellite-childhood",
   "metadata": {},
   "source": [
    "# 05. 반복문"
   ]
  },
  {
   "cell_type": "markdown",
   "id": "banner-optimization",
   "metadata": {},
   "source": [
    "다음 a, b, c, d, e 학생들의 점수에 따라서 성적을 매기려고 하는 코드를 실행해보자"
   ]
  },
  {
   "cell_type": "code",
   "execution_count": null,
   "id": "backed-directory",
   "metadata": {},
   "outputs": [],
   "source": [
    "a_student_score1 = 87\n",
    "b_student_score1 = 66\n",
    "c_student_score1 = 94\n",
    "d_student_score1 = 56\n",
    "e_student_score1 = 88"
   ]
  },
  {
   "cell_type": "code",
   "execution_count": null,
   "id": "liberal-plaza",
   "metadata": {},
   "outputs": [],
   "source": [
    "score = a_student_score1\n",
    "\n",
    "if score > 90:\n",
    "    print(\"수\")\n",
    "elif score > 80:\n",
    "    print(\"우\")\n",
    "elif score > 70:\n",
    "    print(\"미\")\n",
    "elif score > 60:\n",
    "    print(\"양\")\n",
    "else:\n",
    "    print(\"가\")\n",
    "#-----------------------------------------#\n",
    "score = b_student_score1\n",
    "\n",
    "if score > 90:\n",
    "    print(\"수\")\n",
    "elif score > 80:\n",
    "    print(\"우\")\n",
    "elif score > 70:\n",
    "    print(\"미\")\n",
    "elif score > 60:\n",
    "    print(\"양\")\n",
    "else:\n",
    "    print(\"가\")\n",
    "#-----------------------------------------#\n",
    "score = c_student_score1\n",
    "\n",
    "if score > 90:\n",
    "    print(\"수\")\n",
    "elif score > 80:\n",
    "    print(\"우\")\n",
    "elif score > 70:\n",
    "    print(\"미\")\n",
    "elif score > 60:\n",
    "    print(\"양\")\n",
    "else:\n",
    "    print(\"가\")\n",
    "#-----------------------------------------#\n",
    "score = d_student_score1\n",
    "\n",
    "if score > 90:\n",
    "    print(\"수\")\n",
    "elif score > 80:\n",
    "    print(\"우\")\n",
    "elif score > 70:\n",
    "    print(\"미\")\n",
    "elif score > 60:\n",
    "    print(\"양\")\n",
    "else:\n",
    "    print(\"가\")\n",
    "#-----------------------------------------#\n",
    "score = e_student_score1\n",
    "\n",
    "if score > 90:\n",
    "    print(\"수\")\n",
    "elif score > 80:\n",
    "    print(\"우\")\n",
    "elif score > 70:\n",
    "    print(\"미\")\n",
    "elif score > 60:\n",
    "    print(\"양\")\n",
    "else:\n",
    "    print(\"가\")"
   ]
  },
  {
   "cell_type": "markdown",
   "id": "monetary-finish",
   "metadata": {},
   "source": [
    "좀 더 간단하게 하기 위해 변수 하나하나 할당하는 방식이 아닌 값들을 한번에 담는 파이썬의 자료구조 리스트(list)를 사용하여 표현해보자."
   ]
  },
  {
   "cell_type": "code",
   "execution_count": null,
   "id": "similar-disclosure",
   "metadata": {},
   "outputs": [],
   "source": [
    "scores = [87, 66, 94, 56, 88] # 리스트(List)\n",
    "#-----------------------------------------#\n",
    "score = scores[0]\n",
    "\n",
    "if score > 90:\n",
    "    print(\"수\")\n",
    "elif score > 80:\n",
    "    print(\"우\")\n",
    "elif score > 70:\n",
    "    print(\"미\")\n",
    "elif score > 60:\n",
    "    print(\"양\")\n",
    "else:\n",
    "    print(\"가\")\n",
    "#-----------------------------------------#\n",
    "score = scores[1]\n",
    "\n",
    "if score > 90:\n",
    "    print(\"수\")\n",
    "elif score > 80:\n",
    "    print(\"우\")\n",
    "elif score > 70:\n",
    "    print(\"미\")\n",
    "elif score > 60:\n",
    "    print(\"양\")\n",
    "else:\n",
    "    print(\"가\")\n",
    "#-----------------------------------------#\n",
    "score = scores[2]\n",
    "\n",
    "if score > 90:\n",
    "    print(\"수\")\n",
    "elif score > 80:\n",
    "    print(\"우\")\n",
    "elif score > 70:\n",
    "    print(\"미\")\n",
    "elif score > 60:\n",
    "    print(\"양\")\n",
    "else:\n",
    "    print(\"가\")\n",
    "#-----------------------------------------#\n",
    "score = scores[3]\n",
    "\n",
    "if score > 90:\n",
    "    print(\"수\")\n",
    "elif score > 80:\n",
    "    print(\"우\")\n",
    "elif score > 70:\n",
    "    print(\"미\")\n",
    "elif score > 60:\n",
    "    print(\"양\")\n",
    "else:\n",
    "    print(\"가\")\n",
    "#-----------------------------------------#\n",
    "score = scores[4]\n",
    "\n",
    "if score > 90:\n",
    "    print(\"수\")\n",
    "elif score > 80:\n",
    "    print(\"우\")\n",
    "elif score > 70:\n",
    "    print(\"미\")\n",
    "elif score > 60:\n",
    "    print(\"양\")\n",
    "else:\n",
    "    print(\"가\")"
   ]
  },
  {
   "cell_type": "markdown",
   "id": "geographic-wholesale",
   "metadata": {},
   "source": [
    "## - for"
   ]
  },
  {
   "cell_type": "markdown",
   "id": "southern-domain",
   "metadata": {},
   "source": [
    "다음 코드가 계속 반복되고 있는 것을 볼 수 있다.\n",
    "\n",
    "```python\n",
    "if score > 90:\n",
    "    print(\"수\")\n",
    "elif score > 80:\n",
    "    print(\"우\")\n",
    "elif score > 70:\n",
    "    print(\"미\")\n",
    "elif score > 60:\n",
    "    print(\"양\")\n",
    "else:\n",
    "    print(\"가\")\n",
    "```\n",
    "\n",
    "똑같은 작업을 n번 할 때마다 똑같은 코드를 n번 작성하는 것은 비효율적이다.\n",
    "\n",
    "그래서 for문이 등장한다"
   ]
  },
  {
   "cell_type": "code",
   "execution_count": null,
   "id": "reflected-lindsay",
   "metadata": {},
   "outputs": [],
   "source": [
    "scores = [87, 66, 94, 56, 88] # 리스트(List)\n",
    "\n",
    "for score in scores:\n",
    "    if score > 90:\n",
    "        print(\"수\")\n",
    "    elif score > 80:\n",
    "        print(\"우\")\n",
    "    elif score > 70:\n",
    "        print(\"미\")\n",
    "    elif score > 60:\n",
    "        print(\"양\")\n",
    "    else:\n",
    "        print(\"가\")"
   ]
  },
  {
   "cell_type": "markdown",
   "id": "specific-native",
   "metadata": {},
   "source": [
    "훨씬 보기 좋고 깔끔하다.\n",
    "\n",
    "`in` 연산자 뒤에 있는 scores의 값 요소들을 순서대로 가져와 처리하는 코드가 완성되었다.\n",
    "\n",
    "꼭 존재하고 있는 변수 뿐아니라 임의의 요소들을 그때 그때 지정하여 반복문을 돌릴 수도 있다."
   ]
  },
  {
   "cell_type": "code",
   "execution_count": null,
   "id": "ideal-efficiency",
   "metadata": {},
   "outputs": [],
   "source": [
    "for i in 1, 2, 3, 4, 5:\n",
    "    print(i, end=\" \");"
   ]
  },
  {
   "cell_type": "markdown",
   "id": "formal-bride",
   "metadata": {},
   "source": [
    "### * range()"
   ]
  },
  {
   "cell_type": "markdown",
   "id": "equipped-material",
   "metadata": {},
   "source": [
    "이 함수를 사용하면 반복의 횟수 혹은 규칙적으로 증감하는 숫자를 토대로 하여 좀더 편리한 반복문을 짤 수 있다.\n",
    "\n",
    "마지막 숫자는 포함하지 않는다.\n",
    "\n",
    " - EX) `range(10)` : 0부터 9까지\n",
    " - EX) `range(1, 10)` : 1부터 9까지\n",
    " - EX) `range(1, 10, 2)` : 1부터 9까지 2씩 증가"
   ]
  },
  {
   "cell_type": "code",
   "execution_count": null,
   "id": "insured-dressing",
   "metadata": {},
   "outputs": [],
   "source": [
    "for i in range(10):\n",
    "    print(i, end=\" \")"
   ]
  },
  {
   "cell_type": "code",
   "execution_count": null,
   "id": "downtown-trailer",
   "metadata": {},
   "outputs": [],
   "source": [
    "for i in range(1, 10):\n",
    "    print(i, end=\" \")"
   ]
  },
  {
   "cell_type": "code",
   "execution_count": null,
   "id": "brutal-assets",
   "metadata": {},
   "outputs": [],
   "source": [
    "for i in range(1, 10, 2):\n",
    "    print(i, end=\" \")"
   ]
  },
  {
   "cell_type": "markdown",
   "id": "removable-treasure",
   "metadata": {
    "tags": []
   },
   "source": [
    "- range()는 리스트가 아니라 iterate시 원하는 시퀀스 항목들을 순서대로 돌려주는 개체이나 실제로 리스트를 만들지는 않아서 공간이 절약된다.\n",
    "- 이러한 객체를 iterable이라고 한다"
   ]
  },
  {
   "cell_type": "code",
   "execution_count": null,
   "id": "public-berkeley",
   "metadata": {},
   "outputs": [],
   "source": [
    "# range(10) === [0, 1, 2, 3, 4, 5, 6, 7, 8, 9] ?\n",
    "print(range(10))"
   ]
  },
  {
   "cell_type": "markdown",
   "id": "found-decrease",
   "metadata": {},
   "source": [
    "위의 표현과 같이 `range(10)`이라고 해서 리스트 `[0, 1, 2, 3, 4, 5, 6, 7, 8, 9]`가 만들어지는 것이 아니라 `range(10)`이라는 약속에 따라 시퀀스를 실행하겠다는 것을 나타낸다. ( 메모리 효율 )"
   ]
  },
  {
   "cell_type": "code",
   "execution_count": null,
   "id": "complete-twist",
   "metadata": {},
   "outputs": [],
   "source": [
    "list(range(10))"
   ]
  },
  {
   "cell_type": "markdown",
   "id": "burning-globe",
   "metadata": {},
   "source": [
    "## - while"
   ]
  },
  {
   "cell_type": "markdown",
   "id": "swedish-fairy",
   "metadata": {},
   "source": [
    "for문 뿐만 아니라 while문을 통해서도 반복문을 실행할 수 있다.\n",
    "\n",
    "for문과의 차이가 있다면 while문 뒤에는 조건문만 온다는 점이다."
   ]
  },
  {
   "cell_type": "code",
   "execution_count": null,
   "id": "seven-david",
   "metadata": {},
   "outputs": [],
   "source": [
    "i = 0\n",
    "\n",
    "while i < 10:\n",
    "    print(i, end=\" \")\n",
    "    i += 1"
   ]
  },
  {
   "cell_type": "markdown",
   "id": "measured-wallace",
   "metadata": {},
   "source": [
    "## - continue & break"
   ]
  },
  {
   "cell_type": "markdown",
   "id": "monthly-processing",
   "metadata": {},
   "source": [
    "continue와 break의 공통점은 만일 프로그램이 이 키워드를 만나면 해당 영역(for문 실행 영역 혹은 while문 실행 영역)의 해당 반복 실행을 멈춘다는 점이다.\n",
    "\n",
    "차이점은 \n",
    " - continue는 다시 반복 실행을 위한 조건을 확인하여 다시 반복할건지 안할 건지 판단하지만\n",
    " - break는 그 자리에서 해당 반복문 실행을 종료시키고 다음 실행 명령으로 넘어가는 것이다."
   ]
  },
  {
   "cell_type": "code",
   "execution_count": null,
   "id": "designing-ordinance",
   "metadata": {},
   "outputs": [],
   "source": [
    "for i in range(10):\n",
    "    if i % 2 != 0:\n",
    "        continue\n",
    "    print(i, end = \" \")"
   ]
  },
  {
   "cell_type": "markdown",
   "id": "appreciated-copying",
   "metadata": {},
   "source": [
    "i가 짝수라면 해당 반복은 더는 보지 않고 다음 반복으로 넘어간다"
   ]
  },
  {
   "cell_type": "code",
   "execution_count": null,
   "id": "happy-attack",
   "metadata": {},
   "outputs": [],
   "source": [
    "i = 0\n",
    "\n",
    "while i < 10:\n",
    "    if i == 7:\n",
    "        break\n",
    "    i += 1\n",
    "    print(i, end = \" \")"
   ]
  },
  {
   "cell_type": "markdown",
   "id": "incorrect-resort",
   "metadata": {},
   "source": [
    "i가 7이라면 while문을 종료한다"
   ]
  },
  {
   "cell_type": "markdown",
   "id": "familiar-album",
   "metadata": {},
   "source": [
    "## - pass문"
   ]
  },
  {
   "cell_type": "markdown",
   "id": "common-translation",
   "metadata": {},
   "source": [
    "아직 어떻게 코드를 짤 것인지 정하지 않았지만 에러 발생없이 남겨두고 싶다면 pass문을 사용하면 된다."
   ]
  },
  {
   "cell_type": "code",
   "execution_count": null,
   "id": "higher-shower",
   "metadata": {},
   "outputs": [],
   "source": [
    "for i in range(100):\n",
    "    pass"
   ]
  },
  {
   "cell_type": "markdown",
   "id": "retired-johnston",
   "metadata": {},
   "source": [
    "## - 파이썬의 특징과 주의할 점"
   ]
  },
  {
   "cell_type": "markdown",
   "id": "given-makeup",
   "metadata": {},
   "source": [
    "for문을 돌리기 위해 임시적으로 선언한 i가 for문이 끝나도 사용할 수가 있다."
   ]
  },
  {
   "cell_type": "code",
   "execution_count": null,
   "id": "conventional-savings",
   "metadata": {},
   "outputs": [],
   "source": [
    "for i in [1, 2, 3]:\n",
    "    print(i)\n",
    "print(\"i :\", i)"
   ]
  },
  {
   "cell_type": "markdown",
   "id": "blessed-vegetable",
   "metadata": {},
   "source": [
    "임시 변수가 살아있음으로 인한 에러 발생 및 잘못된 실행이 걱정된다면 사용이 끝난 임시 변수는 지워주면 된다."
   ]
  },
  {
   "cell_type": "code",
   "execution_count": null,
   "id": "signed-light",
   "metadata": {},
   "outputs": [],
   "source": [
    "for i in [1, 2, 3]:\n",
    "    print(i)\n",
    "del i\n",
    "print(i)"
   ]
  },
  {
   "cell_type": "markdown",
   "id": "legendary-german",
   "metadata": {},
   "source": [
    "<br>\n",
    "<br>\n",
    "<br>\n",
    "<br>\n",
    "<br>\n",
    "<br>\n",
    "<hr>\n",
    "<br>\n",
    "<br>\n",
    "<br>\n",
    "<br>\n",
    "<br>\n",
    "<br>"
   ]
  },
  {
   "cell_type": "markdown",
   "id": "split-raleigh",
   "metadata": {},
   "source": [
    "# 06. 함수기초"
   ]
  },
  {
   "cell_type": "markdown",
   "id": "cathedral-neighborhood",
   "metadata": {},
   "source": [
    "## - 함수 선언과 호출"
   ]
  },
  {
   "cell_type": "markdown",
   "id": "failing-investigation",
   "metadata": {},
   "source": [
    "함수의 선언과 호출법은 아래와 같다"
   ]
  },
  {
   "cell_type": "code",
   "execution_count": null,
   "id": "deluxe-straight",
   "metadata": {},
   "outputs": [],
   "source": [
    "def my_add_func(num1, num2): # num1과 num2는 파라미터(Parameter) 혹은 매개변수라고 한다\r\n",
    "    print(\"더하기 완료!\")\r\n",
    "    return num1 + num2"
   ]
  },
  {
   "cell_type": "code",
   "execution_count": null,
   "id": "tribal-virtue",
   "metadata": {},
   "outputs": [],
   "source": [
    "func = my_add_func\r\n",
    "print(func) # 함수를 변수로 받을 수도 있다.\r\n",
    "result = func(10, 20)\r\n",
    "print(result)"
   ]
  },
  {
   "cell_type": "markdown",
   "id": "attached-remark",
   "metadata": {},
   "source": [
    "<br>\n",
    "<br>\n",
    "<br>\n",
    "<br>\n",
    "<br>\n",
    "<br>\n",
    "<hr>\n",
    "<br>\n",
    "<br>\n",
    "<br>\n",
    "<br>\n",
    "<br>\n",
    "<br>"
   ]
  },
  {
   "cell_type": "markdown",
   "id": "peripheral-appraisal",
   "metadata": {},
   "source": [
    "# 07. 자료구조( List, Tuple, Set, Dictionary )"
   ]
  },
  {
   "cell_type": "markdown",
   "id": "apparent-julian",
   "metadata": {
    "tags": []
   },
   "source": [
    "## - List"
   ]
  },
  {
   "cell_type": "markdown",
   "id": "sharing-oregon",
   "metadata": {},
   "source": [
    "아래와 같은 자료구조를 리스트라고 한다. 여러 값들을 하나의 변수로 묶을 때 편리하다"
   ]
  },
  {
   "cell_type": "code",
   "execution_count": null,
   "id": "lovely-turkish",
   "metadata": {
    "tags": []
   },
   "outputs": [],
   "source": [
    "myList = [1, 2, 3, 4, 5, 6, 7]"
   ]
  },
  {
   "cell_type": "markdown",
   "id": "theoretical-regression",
   "metadata": {},
   "source": [
    "만일 3이라는 값을 가져오고 싶을 때는 myList의 3번째 값을 가져오라고 명령하면 된다.\n",
    "\n",
    "컴퓨터는 0부터 시작하고 각 요소를 앞에서부터 순서 매긴다(0, 1 , 2, 3, ...).\n",
    "\n",
    "이 번호를 인덱스(index)라고 한다.\n",
    "\n",
    "myList의 3번째 값을 가져오고 싶다면 index 2의 값을 가져오라고 하면 된다."
   ]
  },
  {
   "cell_type": "code",
   "execution_count": null,
   "id": "automotive-drunk",
   "metadata": {},
   "outputs": [],
   "source": [
    "myList[2]"
   ]
  },
  {
   "cell_type": "markdown",
   "id": "absolute-musician",
   "metadata": {},
   "source": [
    " - len()"
   ]
  },
  {
   "cell_type": "markdown",
   "id": "related-queensland",
   "metadata": {},
   "source": [
    "요소의 갯수를 파악할 수 있다(길이를 파악할 수 있다)."
   ]
  },
  {
   "cell_type": "code",
   "execution_count": null,
   "id": "retired-orleans",
   "metadata": {},
   "outputs": [],
   "source": [
    "len(myList)"
   ]
  },
  {
   "cell_type": "markdown",
   "id": "reserved-serum",
   "metadata": {
    "tags": []
   },
   "source": [
    "### * 슬라이싱(slicing or slice)"
   ]
  },
  {
   "cell_type": "markdown",
   "id": "productive-scratch",
   "metadata": {},
   "source": [
    "`:`을 통해 슬라이싱하여 특정 범위의 리스트 값들을 얻을 수 있다. (맨 끝 숫자는 포함되지 않는다)"
   ]
  },
  {
   "cell_type": "code",
   "execution_count": null,
   "id": "rotary-night",
   "metadata": {},
   "outputs": [],
   "source": [
    "myList[:3]"
   ]
  },
  {
   "cell_type": "code",
   "execution_count": null,
   "id": "different-trace",
   "metadata": {},
   "outputs": [],
   "source": [
    "myList[1:3]"
   ]
  },
  {
   "cell_type": "code",
   "execution_count": null,
   "id": "suspended-medline",
   "metadata": {},
   "outputs": [],
   "source": [
    "myList[5:]"
   ]
  },
  {
   "cell_type": "code",
   "execution_count": null,
   "id": "colored-biology",
   "metadata": {},
   "outputs": [],
   "source": [
    "myList[:] # 전체를 가져온다"
   ]
  },
  {
   "cell_type": "code",
   "execution_count": null,
   "id": "fluid-entrance",
   "metadata": {},
   "outputs": [],
   "source": [
    "myList[1:len(myList):2] # 어떤 step으로 특정 index를 슬라이싱 할 것인지 지정할 수도 있다."
   ]
  },
  {
   "cell_type": "code",
   "execution_count": null,
   "id": "liked-needle",
   "metadata": {},
   "outputs": [],
   "source": [
    "a = [1, 2, 3, 4, 5, 6]\n",
    "del a[2:] # del을 이용해 요소를 삭제할 수도 있다.\n",
    "a"
   ]
  },
  {
   "cell_type": "markdown",
   "id": "toxic-surprise",
   "metadata": {},
   "source": [
    "### * List Methods"
   ]
  },
  {
   "cell_type": "markdown",
   "id": "greenhouse-winning",
   "metadata": {},
   "source": [
    "리스트 함수(메서드)는 아래와 같다.\n",
    "\n",
    "임의의 리스트를 생성해 어떻게 동작하는지 한번씩 확인해보자"
   ]
  },
  {
   "cell_type": "markdown",
   "id": "expensive-jurisdiction",
   "metadata": {
    "tags": []
   },
   "source": [
    "#### => list.append(x)\n",
    " - 리스트의 끝에 항목을 더합니다. a[len(a):] = [x] 와 동등합니다."
   ]
  },
  {
   "cell_type": "code",
   "execution_count": null,
   "id": "proof-dispatch",
   "metadata": {},
   "outputs": [],
   "source": [
    "a = [1, 2, 3, 4, 5, 6]\n",
    "a.append(7)\n",
    "a"
   ]
  },
  {
   "cell_type": "markdown",
   "id": "incredible-cover",
   "metadata": {
    "tags": []
   },
   "source": [
    "#### => list.extend(iterable)\n",
    " - 리스트의 끝에 이터러블의 모든 항목을 덧붙여서 확장합니다. a[len(a):] = iterable 와 동등합니다."
   ]
  },
  {
   "cell_type": "code",
   "execution_count": null,
   "id": "literary-insight",
   "metadata": {},
   "outputs": [],
   "source": [
    "a = [1, 2, 3, 4, 5, 6]\n",
    "a.extend(range(10,15)) # 10부터 14까지의 숫자를 확장해라\n",
    "a"
   ]
  },
  {
   "cell_type": "markdown",
   "id": "chinese-browser",
   "metadata": {
    "tags": []
   },
   "source": [
    "#### => list.insert(i, x)\n",
    " - 주어진 위치에 항목을 삽입합니다. 첫 번째 인자는 삽입되는 요소가 갖게 될 인덱스입니다. 그래서 a.insert(0, x) 는 리스트의 처음에 삽입하고, a.insert(len(a), x) 는 a.append(x) 와 동등합니다."
   ]
  },
  {
   "cell_type": "code",
   "execution_count": null,
   "id": "julian-jamaica",
   "metadata": {},
   "outputs": [],
   "source": [
    "a = [1, 2, 3, 4, 5, 6]\n",
    "a.insert(0, 100) # 0 인덱스 자리에 100을 집어넣으라\n",
    "a"
   ]
  },
  {
   "cell_type": "markdown",
   "id": "blocked-school",
   "metadata": {
    "tags": []
   },
   "source": [
    "#### => list.remove(x)\n",
    " - 리스트에서 값이 x 와 같은 첫 번째 항목을 삭제합니다. 그런 항목이 없으면 ValueError를 일으킵니다."
   ]
  },
  {
   "cell_type": "code",
   "execution_count": null,
   "id": "primary-flavor",
   "metadata": {},
   "outputs": [],
   "source": [
    "a = [100, 2, 100, 4, 100, 6]\n",
    "a.remove(100) # 첫번쨰로 만난 100을 삭제\n",
    "a"
   ]
  },
  {
   "cell_type": "code",
   "execution_count": null,
   "id": "amended-tulsa",
   "metadata": {},
   "outputs": [],
   "source": [
    "a.remove(100) # 첫번쨰로 만난 100을 삭제\n",
    "a"
   ]
  },
  {
   "cell_type": "markdown",
   "id": "smaller-mineral",
   "metadata": {
    "tags": []
   },
   "source": [
    "#### => list.pop([i])\n",
    " - 리스트에서 주어진 위치에 있는 항목을 삭제하고, 그 항목을 돌려줍니다. 인덱스를 지정하지 않으면, a.pop() 은 리스트의 마지막 항목을 삭제하고 돌려줍니다. (메서드 시그니처에서 i 를 둘러싼 대괄호는 매개변수가 선택적임을 나타냅니다. 그 위치에 대괄호를 입력해야 한다는 뜻이 아닙니다. 이 표기법은 파이썬 라이브러리 레퍼런스에서 지주 등장합니다.)"
   ]
  },
  {
   "cell_type": "code",
   "execution_count": null,
   "id": "swedish-third",
   "metadata": {},
   "outputs": [],
   "source": [
    "a = [1, 2, 3, 4, 5, 6]\n",
    "a.pop()\n",
    "a"
   ]
  },
  {
   "cell_type": "markdown",
   "id": "expensive-finnish",
   "metadata": {
    "tags": []
   },
   "source": [
    "#### => list.clear()\n",
    " - 리스트의 모든 항목을 삭제합니다. del a[:] 와 동등합니다."
   ]
  },
  {
   "cell_type": "code",
   "execution_count": null,
   "id": "civil-banana",
   "metadata": {},
   "outputs": [],
   "source": [
    "a = [1, 2, 3, 4, 5, 6]\n",
    "a.clear()\n",
    "a"
   ]
  },
  {
   "cell_type": "markdown",
   "id": "activated-magic",
   "metadata": {
    "tags": []
   },
   "source": [
    "#### => list.index(x[, start[, end]])\n",
    " - 리스트에 있는 항목 중 값이 x 와 같은 첫 번째 것의 0부터 시작하는 인덱스를 돌려줍니다. 그런 항목이 없으면 ValueError 를 일으킵니다.\n",
    " - 선택적인 인자 start 와 end 는 슬라이스 표기법처럼 해석되고, 검색을 리스트의 특별한 서브 시퀀스로 제한하는 데 사용됩니다. 돌려주는 인덱스는 start 인자가 아니라 전체 시퀀스의 시작을 기준으로 합니다."
   ]
  },
  {
   "cell_type": "code",
   "execution_count": null,
   "id": "classical-smart",
   "metadata": {},
   "outputs": [],
   "source": [
    "a = [100, 2, 100, 4, 100, 6]\n",
    "where = a.index(100, 1)\n",
    "print(where)"
   ]
  },
  {
   "cell_type": "code",
   "execution_count": null,
   "id": "final-bottom",
   "metadata": {},
   "outputs": [],
   "source": [
    "a[where]"
   ]
  },
  {
   "cell_type": "code",
   "execution_count": null,
   "id": "lasting-briefing",
   "metadata": {},
   "outputs": [],
   "source": [
    "del a[where]\n",
    "a"
   ]
  },
  {
   "cell_type": "markdown",
   "id": "earlier-madrid",
   "metadata": {
    "tags": []
   },
   "source": [
    "#### => list.count(x)\n",
    " - 리스트에서 x 가 등장하는 횟수를 돌려줍니다."
   ]
  },
  {
   "cell_type": "code",
   "execution_count": null,
   "id": "sized-serbia",
   "metadata": {},
   "outputs": [],
   "source": [
    "a = [100, 2, 100, 4, 100, 6]\n",
    "a.count(100)"
   ]
  },
  {
   "cell_type": "markdown",
   "id": "polar-serial",
   "metadata": {
    "tags": []
   },
   "source": [
    "#### => list.sort(*, key=None, reverse=False)\n",
    " - 리스트의 항목들을 제자리에서 정렬합니다 (인자들은 정렬 커스터마이제이션에 사용될 수 있습니다. 설명은 sorted() 를 보세요)."
   ]
  },
  {
   "cell_type": "code",
   "execution_count": null,
   "id": "prescribed-sociology",
   "metadata": {},
   "outputs": [],
   "source": [
    "a = [33,26,8,90,84,2]\n",
    "a.sort()\n",
    "a"
   ]
  },
  {
   "cell_type": "code",
   "execution_count": null,
   "id": "beneficial-angel",
   "metadata": {},
   "outputs": [],
   "source": [
    "a = [33,26,8,90,84,2]\n",
    "a.sort(reverse=True)\n",
    "a"
   ]
  },
  {
   "cell_type": "markdown",
   "id": "related-nebraska",
   "metadata": {},
   "source": [
    " - sorted와 reversed를 이용한 정렬법"
   ]
  },
  {
   "cell_type": "code",
   "execution_count": null,
   "id": "ethical-longer",
   "metadata": {},
   "outputs": [],
   "source": [
    "basket = ['apple', 'orange', 'apple', 'pear', 'orange', 'banana']\n",
    "\n",
    "for i in sorted(basket):\n",
    "    print(i)"
   ]
  },
  {
   "cell_type": "code",
   "execution_count": null,
   "id": "acting-participation",
   "metadata": {},
   "outputs": [],
   "source": [
    "for i in reversed(range(1, 10, 2)):\n",
    "    print(i)"
   ]
  },
  {
   "cell_type": "markdown",
   "id": "rotary-favorite",
   "metadata": {},
   "source": [
    "정렬에 대한 더 다양한 기법은 아래 공식문서를 참고해주세요.\n",
    "\n",
    "[HOWTO 정렬](https://docs.python.org/ko/3/howto/sorting.html)"
   ]
  },
  {
   "cell_type": "markdown",
   "id": "dangerous-plenty",
   "metadata": {
    "tags": []
   },
   "source": [
    "#### => list.reverse()\n",
    " - 리스트의 요소들을 제자리에서 뒤집습니다.\n",
    " - 정렬이 아닙니다."
   ]
  },
  {
   "cell_type": "code",
   "execution_count": null,
   "id": "forward-field",
   "metadata": {},
   "outputs": [],
   "source": [
    "a = [33,26,8,90,84,2]\n",
    "a.reverse()\n",
    "a"
   ]
  },
  {
   "cell_type": "markdown",
   "id": "united-airfare",
   "metadata": {
    "tags": []
   },
   "source": [
    "#### => list.copy()\n",
    " - 리스트의 얕은 사본을 돌려줍니다. a[:] 와 동등합니다."
   ]
  },
  {
   "cell_type": "markdown",
   "id": "accompanied-lawyer",
   "metadata": {
    "tags": []
   },
   "source": [
    "`Shallow Copy`, `Deep Copy`\n",
    "\n",
    "어떤 객체가 담은 값을 복사할 때 얇은 복사 방식과 깊은 복사 방식이 있다.\n",
    "\n",
    "얇은 복사 방식은 객채를 새로 할당하지 않고 해당 주소값을 가져와 주소값이 공유된다.\n",
    "\n",
    "깊은 복사 방식은 새로운 객체를 만들고 값들만 복사하여 할당하여 다른 주소값을 가지는 동시에 원본 데이터에 영향을 주지 않는다."
   ]
  },
  {
   "cell_type": "code",
   "execution_count": null,
   "id": "latin-conservation",
   "metadata": {},
   "outputs": [],
   "source": [
    "a = [1, 2, 3, 4, 5]\n",
    "b = a # 주소값 공유\n",
    "b[0] = 100 # a[0]에도 영향이 간다\n",
    "print(a) # 원본에 영향을 주었다.\n",
    "print(b)"
   ]
  },
  {
   "cell_type": "code",
   "execution_count": null,
   "id": "statutory-fishing",
   "metadata": {},
   "outputs": [],
   "source": [
    "a = [1, 2, 3, 4, 5]\n",
    "b = a.copy() # copy()를 사용하면 다른 주소값에 할당하게 된다.\n",
    "b[0] = 100\n",
    "print(a)\n",
    "print(b)"
   ]
  },
  {
   "cell_type": "code",
   "execution_count": null,
   "id": "considerable-inspection",
   "metadata": {},
   "outputs": [],
   "source": [
    "a = [[1, 2], [3, 4]]\n",
    "b = a.copy() # 그러나 copy()는 내부에 있는 객체 [1, 2] 그리고 [3, 4]의 주소값까지 해결하지는 못한다\n",
    "b[0][0] = 100\n",
    "print(a) # 즉, copy()는 일차원적인 배열에서만 깊은 복사 방식이 성립된다.\n",
    "print(b)"
   ]
  },
  {
   "cell_type": "code",
   "execution_count": null,
   "id": "colored-acquisition",
   "metadata": {},
   "outputs": [],
   "source": [
    "import copy # 다차원 배열에서 깊은 복사 방식을 구현하고 싶다면 copy 모듈을 사용하면 된다.\n",
    "a = [[1, 2], [3, 4]]\n",
    "b = copy.deepcopy(a)\n",
    "b[0][0] = 100\n",
    "print(a)\n",
    "print(b)"
   ]
  },
  {
   "cell_type": "markdown",
   "id": "peaceful-desperate",
   "metadata": {},
   "source": [
    "### * Stack"
   ]
  },
  {
   "cell_type": "markdown",
   "id": "unavailable-liquid",
   "metadata": {},
   "source": [
    "선입선출 방식인 stack 자료구조 알고리즘은 아래와 같이 구현하면 된다."
   ]
  },
  {
   "cell_type": "code",
   "execution_count": null,
   "id": "educational-safety",
   "metadata": {},
   "outputs": [],
   "source": [
    "stack = [3, 4, 5]\n",
    "stack.append(6)\n",
    "stack.append(7)\n",
    "stack"
   ]
  },
  {
   "cell_type": "code",
   "execution_count": null,
   "id": "painted-ireland",
   "metadata": {},
   "outputs": [],
   "source": [
    "removed = stack.pop()\n",
    "print(stack, \"removed : \", removed)"
   ]
  },
  {
   "cell_type": "markdown",
   "id": "comfortable-squad",
   "metadata": {},
   "source": [
    "### * Queue"
   ]
  },
  {
   "cell_type": "markdown",
   "id": "temporal-agriculture",
   "metadata": {},
   "source": [
    "queue는 선입후출의 자료구조 알고리즘 방식이다."
   ]
  },
  {
   "cell_type": "markdown",
   "id": "complicated-awareness",
   "metadata": {},
   "source": [
    "List 자료구조 특성상  큐(Queue)로 구현하면 성능이 떨어지므로 `collections.deque`를 사용한다."
   ]
  },
  {
   "cell_type": "markdown",
   "id": "hired-headset",
   "metadata": {},
   "source": [
    "성능이 떨어지는 이유는 앞에 할당된 값 요소를 없애게 되면 뒤에 있는 요소들이 없어진 요소만큼 끌어오기 때문에 그만큼 속도가 느려진다."
   ]
  },
  {
   "cell_type": "code",
   "execution_count": null,
   "id": "nonprofit-constant",
   "metadata": {},
   "outputs": [],
   "source": [
    "from collections import deque\n",
    "queue = deque([1, 2, 3])\n",
    "queue.append(4)\n",
    "queue.append(5)\n",
    "queue"
   ]
  },
  {
   "cell_type": "code",
   "execution_count": null,
   "id": "blind-lottery",
   "metadata": {},
   "outputs": [],
   "source": [
    "queue.popleft()\n",
    "queue.popleft()\n",
    "queue"
   ]
  },
  {
   "cell_type": "markdown",
   "id": "comic-designer",
   "metadata": {},
   "source": [
    "## - Tuple"
   ]
  },
  {
   "cell_type": "markdown",
   "id": "junior-injection",
   "metadata": {},
   "source": [
    "List 자료구조와 비슷하지만 다른점이라면 List는 mutable하고 Tuple은 immutable하다.\n",
    "\n",
    "즉, 튜플은 리스트처럼 요소를 변경, 삭제 및 추가를 하지 못한다."
   ]
  },
  {
   "cell_type": "markdown",
   "id": "resistant-timothy",
   "metadata": {},
   "source": [
    "아래와 같이 선언하게 되면 튜플이 만들어진다."
   ]
  },
  {
   "cell_type": "code",
   "execution_count": null,
   "id": "natural-barrier",
   "metadata": {},
   "outputs": [],
   "source": [
    "t = 1234, \"hello\", 3.14\n",
    "t"
   ]
  },
  {
   "cell_type": "code",
   "execution_count": null,
   "id": "academic-shelf",
   "metadata": {},
   "outputs": [],
   "source": [
    "empty = ()\n",
    "singleton = 'hello', # 튜플 요소(Element)가 하나일 때는 맨 끝에 ,를 붙여줘야 한다.\n",
    "print(empty, len(empty), sep=\"   len:\")\n",
    "print(singleton, len(singleton), sep=\"   len:\")"
   ]
  },
  {
   "cell_type": "markdown",
   "id": "charged-olympus",
   "metadata": {},
   "source": [
    "아래와 같이 디스트럭팅(destructing) 방식으로 할당할 수 있다."
   ]
  },
  {
   "cell_type": "code",
   "execution_count": null,
   "id": "impressed-monthly",
   "metadata": {},
   "outputs": [],
   "source": [
    "x, y, z = t"
   ]
  },
  {
   "cell_type": "code",
   "execution_count": null,
   "id": "naughty-resort",
   "metadata": {},
   "outputs": [],
   "source": [
    "print(x)\n",
    "print(y)\n",
    "print(z)"
   ]
  },
  {
   "cell_type": "markdown",
   "id": "forced-kingston",
   "metadata": {},
   "source": [
    "## - Set"
   ]
  },
  {
   "cell_type": "markdown",
   "id": "strategic-shame",
   "metadata": {},
   "source": [
    "Set 자료구조는 일종의 집합을 표현한 자료구조라고 보면 된다. 중복을 허용하지 않는다."
   ]
  },
  {
   "cell_type": "code",
   "execution_count": null,
   "id": "nutritional-emission",
   "metadata": {},
   "outputs": [],
   "source": [
    "basket = {'a', 'b', 'a', 'c', 'd', 'b'}\n",
    "basket"
   ]
  },
  {
   "cell_type": "code",
   "execution_count": null,
   "id": "going-disclaimer",
   "metadata": {},
   "outputs": [],
   "source": [
    "'a' in basket # 자료구조에 in 연산을 사용하면 해당 값이 있는지 확인 가능"
   ]
  },
  {
   "cell_type": "code",
   "execution_count": null,
   "id": "allied-pontiac",
   "metadata": {},
   "outputs": [],
   "source": [
    "a = set(\"abracadabra\")\n",
    "b = set(\"alacazam\")\n",
    "print(a)\n",
    "print(b)"
   ]
  },
  {
   "cell_type": "markdown",
   "id": "iraqi-danger",
   "metadata": {},
   "source": [
    " - 차집합"
   ]
  },
  {
   "cell_type": "code",
   "execution_count": null,
   "id": "remarkable-radio",
   "metadata": {},
   "outputs": [],
   "source": [
    "a - b"
   ]
  },
  {
   "cell_type": "markdown",
   "id": "stuck-minority",
   "metadata": {},
   "source": [
    "- 합집합"
   ]
  },
  {
   "cell_type": "code",
   "execution_count": null,
   "id": "broadband-northern",
   "metadata": {},
   "outputs": [],
   "source": [
    "a | b"
   ]
  },
  {
   "cell_type": "markdown",
   "id": "interesting-singapore",
   "metadata": {},
   "source": [
    "- 교집합"
   ]
  },
  {
   "cell_type": "code",
   "execution_count": null,
   "id": "thirty-mason",
   "metadata": {},
   "outputs": [],
   "source": [
    "a & b"
   ]
  },
  {
   "cell_type": "markdown",
   "id": "romantic-regular",
   "metadata": {},
   "source": [
    "- 교집합 결과의 여집합"
   ]
  },
  {
   "cell_type": "code",
   "execution_count": null,
   "id": "manual-attribute",
   "metadata": {},
   "outputs": [],
   "source": [
    "a ^ b #letters in a or b but not both"
   ]
  },
  {
   "cell_type": "markdown",
   "id": "declared-lender",
   "metadata": {},
   "source": [
    " - 컴프리핸션"
   ]
  },
  {
   "cell_type": "code",
   "execution_count": null,
   "id": "aggressive-soldier",
   "metadata": {},
   "outputs": [],
   "source": [
    "{x for x in 'abracadabra' if x not in 'abc'}"
   ]
  },
  {
   "cell_type": "markdown",
   "id": "cordless-wings",
   "metadata": {},
   "source": [
    "## - Dictionary"
   ]
  },
  {
   "cell_type": "markdown",
   "id": "gross-spelling",
   "metadata": {},
   "source": [
    "Dictionary 자료구조는 key-value쌍의 데이터들이 모인 것이다."
   ]
  },
  {
   "cell_type": "code",
   "execution_count": null,
   "id": "diverse-sodium",
   "metadata": {},
   "outputs": [],
   "source": [
    "tel = {'jack' : 4098, 'sape' : 4139}"
   ]
  },
  {
   "cell_type": "code",
   "execution_count": null,
   "id": "august-shore",
   "metadata": {},
   "outputs": [],
   "source": [
    "tel['jack'] # value를 얻어올 때 해당 value의 key를 이용한다"
   ]
  },
  {
   "cell_type": "code",
   "execution_count": null,
   "id": "rotary-replacement",
   "metadata": {},
   "outputs": [],
   "source": [
    "del tel['sape'] # 삭제"
   ]
  },
  {
   "cell_type": "code",
   "execution_count": null,
   "id": "alike-relation",
   "metadata": {},
   "outputs": [],
   "source": [
    "tel['irv'] = 4127 # 추가 ( 만일 이미 있는 key라면 value변경 )"
   ]
  },
  {
   "cell_type": "code",
   "execution_count": null,
   "id": "lonely-advocate",
   "metadata": {},
   "outputs": [],
   "source": [
    "tel"
   ]
  },
  {
   "cell_type": "code",
   "execution_count": null,
   "id": "violent-underwear",
   "metadata": {},
   "outputs": [],
   "source": [
    "list(tel) # 리스트화 시키면 key값들만 열거된다."
   ]
  },
  {
   "cell_type": "code",
   "execution_count": null,
   "id": "scenic-century",
   "metadata": {},
   "outputs": [],
   "source": [
    "dict([('sape', 4139), ('guido', 4127), ('jack', 4098)]) # 캐스팅"
   ]
  },
  {
   "cell_type": "code",
   "execution_count": null,
   "id": "noble-fence",
   "metadata": {},
   "outputs": [],
   "source": [
    "{x: x**2 for x in (2, 4, 6)} # 컴프리핸션"
   ]
  },
  {
   "cell_type": "code",
   "execution_count": null,
   "id": "mounted-adams",
   "metadata": {},
   "outputs": [],
   "source": [
    "dict(sape=4139, guido=4127, jack=4098) # dict()를 이용한 Dictionary 자료구조 생성"
   ]
  },
  {
   "cell_type": "code",
   "execution_count": null,
   "id": "specified-collaboration",
   "metadata": {},
   "outputs": [],
   "source": [
    "# Dictionary 구조 합치기\n",
    "d1 = dict(a=10, b=\"hello\")\n",
    "d2 = dict(c=3.14)\n",
    "d3 = dict(c=100, d=\"world\")\n",
    "\n",
    "d1 | d2 | d3"
   ]
  },
  {
   "cell_type": "markdown",
   "id": "fifteen-amsterdam",
   "metadata": {},
   "source": [
    "<br>\n",
    "<br>\n",
    "<br>\n",
    "<br>\n",
    "<br>\n",
    "<br>\n",
    "<hr>\n",
    "<br>\n",
    "<br>\n",
    "<br>\n",
    "<br>\n",
    "<br>\n",
    "<br>"
   ]
  },
  {
   "cell_type": "markdown",
   "id": "prescription-seller",
   "metadata": {},
   "source": [
    "# 08. 함수활용"
   ]
  },
  {
   "cell_type": "markdown",
   "id": "animated-mystery",
   "metadata": {
    "tags": []
   },
   "source": [
    "## - Scope\n",
    " - LEGB(Local, Enclosed function local, Global, Built-in)\n",
    "\n",
    "파이썬은 4개의 스코프(Scope)로 나뉘어서 변수에 접근한다.\n",
    "\n",
    "Built-in은 우리가 여지껏 사용한 `print()`와 같이 파이썬 기본적으로 내장 되어 있는 모듈이다.\n",
    "\n",
    "그리고 L -> E -> G -> B 순서로 접근한다.\n",
    "\n",
    "만일 Local 영역이라면 찾고자 하는 변수가 존재하지 않을 때 E 영역을 찾고 또 없으면 G 영역을 찾고 또 없으면 B 영역을 찾는다.\n",
    "\n",
    "그리고 끝까지 찾았는데도 없다면 undefined (ReferenceError)가 일어날 것이다."
   ]
  },
  {
   "cell_type": "code",
   "execution_count": null,
   "id": "consistent-arbor",
   "metadata": {},
   "outputs": [],
   "source": [
    "import builtins\n",
    "builtins.print(\"빌트인 함수\")\n",
    "print(dir(builtins))"
   ]
  },
  {
   "cell_type": "markdown",
   "id": "incorrect-flavor",
   "metadata": {},
   "source": [
    "원칙상 Built-in 모듈을 import하여 print(), len() 등의 함수를 사용해야 하지만 암묵적으로 import 되어있다."
   ]
  },
  {
   "cell_type": "code",
   "execution_count": null,
   "id": "dangerous-medline",
   "metadata": {},
   "outputs": [],
   "source": [
    "x = 'global x'\n",
    "print(x)"
   ]
  },
  {
   "cell_type": "markdown",
   "id": "fifty-project",
   "metadata": {},
   "source": [
    "위 `x`는 global 스코프이다."
   ]
  },
  {
   "cell_type": "code",
   "execution_count": null,
   "id": "impossible-paintball",
   "metadata": {},
   "outputs": [],
   "source": [
    "x = 'global x'\n",
    "\n",
    "def localScope():\n",
    "    y = 'local y'\n",
    "    print(y)\n",
    "\n",
    "localScope()\n",
    "print(x)"
   ]
  },
  {
   "cell_type": "markdown",
   "id": "fixed-adult",
   "metadata": {},
   "source": [
    "위 `y`는 local 스코프이다."
   ]
  },
  {
   "cell_type": "code",
   "execution_count": null,
   "id": "dirty-fever",
   "metadata": {},
   "outputs": [],
   "source": [
    "x = 'global x'\n",
    "\n",
    "def localScope():\n",
    "    print(x)\n",
    "\n",
    "localScope()"
   ]
  },
  {
   "cell_type": "markdown",
   "id": "indie-trailer",
   "metadata": {},
   "source": [
    "localScope 함수안의 `x`를 찾으려 할 때 local 스코프에 없으므로 L->E->G->B 순서로 찾는다."
   ]
  },
  {
   "cell_type": "code",
   "execution_count": null,
   "id": "fossil-advertiser",
   "metadata": {},
   "outputs": [],
   "source": [
    "x = 'global x'\n",
    "\n",
    "def localScope():\n",
    "    x = \"local x\"\n",
    "    print(x, id(x))\n",
    "\n",
    "localScope()\n",
    "print(x, id(x))"
   ]
  },
  {
   "cell_type": "markdown",
   "id": "gothic-drinking",
   "metadata": {},
   "source": [
    "local 스코프에서 global 스코프의 `x`를 바꿀려고 시도하였지만 바뀌지 않는다.\n",
    "\n",
    "global의 x와 local의 x는 주소값이 다른 존재이기 때문이다.\n",
    "\n",
    "즉, 이름은 같지만 사는 차원의 세계가 다른 격이다."
   ]
  },
  {
   "cell_type": "code",
   "execution_count": null,
   "id": "electric-scientist",
   "metadata": {},
   "outputs": [],
   "source": [
    "x = 'global x'\n",
    "\n",
    "def localScope(x):\n",
    "    print(x, id(x))\n",
    "\n",
    "localScope(\"I want to change the global variable\")\n",
    "print(x, id(x))"
   ]
  },
  {
   "cell_type": "markdown",
   "id": "electric-difficulty",
   "metadata": {},
   "source": [
    "함수의 매개변수 또한 local 스코프이고 이전 설명과 같은 이유로 이름만 같은 다른 존재이다."
   ]
  },
  {
   "cell_type": "code",
   "execution_count": null,
   "id": "thermal-friend",
   "metadata": {},
   "outputs": [],
   "source": [
    "x = 'global x'\n",
    "\n",
    "def localScope():\n",
    "    global x\n",
    "    x = \"local x\"\n",
    "    print(x, id(x))\n",
    "\n",
    "localScope()\n",
    "print(x, id(x))"
   ]
  },
  {
   "cell_type": "markdown",
   "id": "sublime-scene",
   "metadata": {},
   "source": [
    "만일 함수 안에서 global 스코프의 변수값을 바꾸고 싶다면 `global` 키워드를 사용하면 된다.\n",
    "\n",
    "그러나 개인적으로 권장하지 않는다. 이는 프로그램을 복잡하게 만들고 디버깅을 어렵게 할 것이다."
   ]
  },
  {
   "cell_type": "code",
   "execution_count": null,
   "id": "north-kelly",
   "metadata": {},
   "outputs": [],
   "source": [
    "x = 'global x'\n",
    "\n",
    "def outer():\n",
    "    x = 'outer x'\n",
    "    \n",
    "    def inner():\n",
    "        x = 'inner x'\n",
    "        print(x)\n",
    "    \n",
    "    inner()\n",
    "    print(x)\n",
    "    \n",
    "outer()\n",
    "print(x)"
   ]
  },
  {
   "cell_type": "markdown",
   "id": "indirect-junction",
   "metadata": {},
   "source": [
    "inner 함수 입장에서 outer 함수는 외부함수(Enclosed function local)이다.\n",
    "\n",
    "만일 프로그램이 inner 함수에서 실행이 된다면 inner()은 local 스코프가 되고 outer은 Enclosed function local 스코프가 된다.\n",
    "\n",
    "여기서 찾고자 하는 변수가 없다면 inner()를 감싸는 외부함수 outer()의 스코프를 보게 된다.\n",
    "\n",
    "만일 프로그램이 outer 함수에서 실행이 된다면 outer()가 local 스코프가 될 것이고 \n",
    "\n",
    "여기서 찾고자 하는 변수가 없다면 outer()를 감싸는 외부 함수가 더는 없으니 바로 global 스코프를 찾을 것이다."
   ]
  },
  {
   "cell_type": "code",
   "execution_count": null,
   "id": "solar-parking",
   "metadata": {},
   "outputs": [],
   "source": [
    "x = 'global x'\n",
    "\n",
    "def outer():\n",
    "    x = 'outer x'\n",
    "    \n",
    "    def inner():\n",
    "        nonlocal x\n",
    "        x = 'inner x'\n",
    "        print(x) # inner x\n",
    "    \n",
    "    inner()\n",
    "    print(x) # inner x\n",
    "    \n",
    "outer()\n",
    "print(x) # global x"
   ]
  },
  {
   "cell_type": "markdown",
   "id": "lesbian-weekly",
   "metadata": {},
   "source": [
    "만일 내부함수(Local 스코프)가 외부함수(Enclosed function local 스코프)의 변수에 접근하고 싶다면 `nonlocal` 키워드를 사용하면 된다.\n",
    "\n",
    "주의해야할 점은 외부함수로 감싸진 내부함수 형태가 아니라면 `nonlocal`은 에러를 일으키게 된다는 점이다."
   ]
  },
  {
   "cell_type": "code",
   "execution_count": null,
   "id": "logical-essex",
   "metadata": {},
   "outputs": [],
   "source": [
    "global_var = \"test var\"\n",
    "\n",
    "def scope_test():\n",
    "    local_var = \"hello var\"\n",
    "    nonlocal global_var\n",
    "    global_var = local_var\n",
    "    \n",
    "scope_test()\n",
    "print(global_var)"
   ]
  },
  {
   "cell_type": "markdown",
   "id": "awful-pontiac",
   "metadata": {},
   "source": [
    "아래 코드는 스코프에 대한 총정리를 보여주는 코드다."
   ]
  },
  {
   "cell_type": "code",
   "execution_count": null,
   "id": "imperial-water",
   "metadata": {},
   "outputs": [],
   "source": [
    "def scope_test():\n",
    "\n",
    "    spam = \"test spam\"\n",
    "    \n",
    "    def do_local():\n",
    "        spam = \"local spam\"\n",
    "\n",
    "    def do_nonlocal():\n",
    "        nonlocal spam\n",
    "        spam = \"nonlocal spam\"\n",
    "\n",
    "    def do_global():\n",
    "        global spam\n",
    "        spam = \"global spam\"\n",
    "\n",
    "    do_local()\n",
    "    print(\"After local assignment:\", spam) # test spam\n",
    "    do_nonlocal()\n",
    "    print(\"After nonlocal assignment:\", spam) # nonlocal spam\n",
    "    do_global()\n",
    "    print(\"After global assignment:\", spam) # nonlocal spam\n",
    "\n",
    "scope_test()\n",
    "print(\"In global scope:\", spam) # global spam"
   ]
  },
  {
   "cell_type": "markdown",
   "id": "focal-yorkshire",
   "metadata": {
    "tags": []
   },
   "source": [
    "## - 함수의 매개변수"
   ]
  },
  {
   "cell_type": "markdown",
   "id": "involved-walter",
   "metadata": {
    "tags": []
   },
   "source": [
    "### * Default Value"
   ]
  },
  {
   "cell_type": "markdown",
   "id": "optical-debate",
   "metadata": {},
   "source": [
    "함수 매개변수에 기본값을 정할 수 있다. 만일 아무 값이 들어오지 않으면 기본값으로 결정될 것이다.\n",
    "\n",
    "아래에 있는 `raise` 키워드는 에러를 일부러 일으키겠다는 것이다(우리가 원하는 에러 메시지를 정할 수 있다). \n",
    "\n",
    "`ValueError`와 같은 에러 객체는 파이썬에서 이미 있는 Built-in 객체이다."
   ]
  },
  {
   "cell_type": "code",
   "execution_count": null,
   "id": "opened-adult",
   "metadata": {},
   "outputs": [],
   "source": [
    "def ask_ok(prompt, retries=2, reminder=\"Please try again!\"):\n",
    "    while True:\n",
    "        ok = input(prompt)\n",
    "        if ok in ('y','ye','yes'):\n",
    "            return True\n",
    "        if ok in ('n','no','nop','nope'):\n",
    "            return False\n",
    "        retries = retries - 1\n",
    "        if retries < 0:\n",
    "            raise ValueError('invalid user response')\n",
    "        print(reminder)"
   ]
  },
  {
   "cell_type": "code",
   "execution_count": null,
   "id": "considered-aurora",
   "metadata": {},
   "outputs": [],
   "source": [
    "ask_ok('are you sure?', reminder=\"다시 시도해주세요\")\n",
    "print(\"---end---\") # raise로부터 Exception이 발생함으로 no print"
   ]
  },
  {
   "cell_type": "markdown",
   "id": "robust-shock",
   "metadata": {},
   "source": [
    "### * `*arg`와 `**arg`"
   ]
  },
  {
   "cell_type": "markdown",
   "id": "usual-plaintiff",
   "metadata": {},
   "source": [
    " - `*arg`는 매개변수를 제한 없이 여러개를 받을 수 있음 : 튜플\n",
    " - `**arg`는 딕셔너리를 매개변수로 받음\n",
    " - `*arg`는 `**arg` 앞으로 와야 한다"
   ]
  },
  {
   "cell_type": "code",
   "execution_count": null,
   "id": "attractive-survival",
   "metadata": {},
   "outputs": [],
   "source": [
    "def showArgs(a, *b, **c):\n",
    "    print(a)\n",
    "    print(\"-\"*10)\n",
    "    print(b)\n",
    "    print(\"-\"*10)\n",
    "    print(c)"
   ]
  },
  {
   "cell_type": "code",
   "execution_count": null,
   "id": "linear-statistics",
   "metadata": {},
   "outputs": [],
   "source": [
    "showArgs(\"안녕하세요\" ,10,100,1000, A=\"mic\",B=\"394\")"
   ]
  },
  {
   "cell_type": "code",
   "execution_count": null,
   "id": "buried-acoustic",
   "metadata": {},
   "outputs": [],
   "source": [
    "tupVar = (1,10,100,1000)\n",
    "\n",
    "dicVar = {\n",
    "    'key A' : 1515,\n",
    "    'key B' : 5832\n",
    "}\n",
    "\n",
    "showArgs(\"이건 좀 다른 이야기\", tupVar, dicVar)"
   ]
  },
  {
   "cell_type": "markdown",
   "id": "surprised-transformation",
   "metadata": {},
   "source": [
    "위의 경우는 tupVar과 dicVar의 요소들이 분해되지 않은 상태로 한번에 집어넣어진 것이다.\n",
    "\n",
    "그러므로 tupVar과 dicVar은 튜플의 요소로 튜플 매개변수에 각각 넣어진다.\n",
    "\n",
    "딕셔너리 매개변수는 key-value 형태이어야 하므로 아무 것도 안받은 것으로 간주된다."
   ]
  },
  {
   "cell_type": "code",
   "execution_count": null,
   "id": "ranking-farming",
   "metadata": {},
   "outputs": [],
   "source": [
    "showArgs(\"이렇게 넘겨주면 된다\", *tupVar, **dicVar)"
   ]
  },
  {
   "cell_type": "markdown",
   "id": "educated-machinery",
   "metadata": {},
   "source": [
    "튜플 자료구조 변수에는 `*`을, 딕셔너리 자료구조 변수에는 `**`을 붙여주면서 매개변수에 담아주면 각 요소가 분해되어 담아질 것이다."
   ]
  },
  {
   "cell_type": "markdown",
   "id": "educated-foundation",
   "metadata": {},
   "source": [
    "### * 특수 매개 변수"
   ]
  },
  {
   "cell_type": "markdown",
   "id": "organized-index",
   "metadata": {},
   "source": [
    " - `/` : 위치 전용 인자\n",
    " - `*` : 키워드 전용 인자"
   ]
  },
  {
   "cell_type": "markdown",
   "id": "facial-working",
   "metadata": {},
   "source": [
    "매개변수에 `/`를 사용하면 `/` 앞에 있는 매개변수는 키워드가 아닌 위치 매개변수로서만 작동한다.\n",
    "\n",
    "매개변수에 `*`를 사용하면 `*` 뒤에 있는 매개변수는 키워드 매개변수로서만 작동한다.\n",
    "\n",
    "둘 다 사용하게 된다면 `/`이 먼저 나와야하고 그 다음 `*`가 나와야 한다"
   ]
  },
  {
   "cell_type": "code",
   "execution_count": null,
   "id": "chicken-suspension",
   "metadata": {},
   "outputs": [],
   "source": [
    "def standard_arg(arg):\n",
    "    print(\"standard arg : \", arg)\n",
    "\n",
    "def pos_only_arg(arg, /):\n",
    "    print(\"pos only arg : \", arg)\n",
    "    \n",
    "def kwd_only_arg(*, arg):\n",
    "    print(\"kwd only arg: \", arg)\n",
    "\n",
    "def combined_example(pos_only, /, standard, *, kwd_only):\n",
    "    print(pos_only, standard, kwd_only)"
   ]
  },
  {
   "cell_type": "code",
   "execution_count": null,
   "id": "annoying-haiti",
   "metadata": {},
   "outputs": [],
   "source": [
    "standard_arg(10)\n",
    "standard_arg(arg=20)"
   ]
  },
  {
   "cell_type": "code",
   "execution_count": null,
   "id": "square-sender",
   "metadata": {},
   "outputs": [],
   "source": [
    "pos_only_arg(30)\n",
    "pos_only_arg(arg=40)"
   ]
  },
  {
   "cell_type": "code",
   "execution_count": null,
   "id": "dress-durham",
   "metadata": {},
   "outputs": [],
   "source": [
    "kwd_only_arg(arg=50)\n",
    "kwd_only_arg(60)"
   ]
  },
  {
   "cell_type": "code",
   "execution_count": null,
   "id": "interim-titanium",
   "metadata": {
    "tags": []
   },
   "outputs": [],
   "source": [
    "combined_example(1, 2, kwd_only=3)"
   ]
  },
  {
   "cell_type": "markdown",
   "id": "tracked-entertainment",
   "metadata": {},
   "source": [
    " - 딕셔너리를 통한 특수 매개변수 사용의 필요성"
   ]
  },
  {
   "cell_type": "markdown",
   "id": "abandoned-endorsement",
   "metadata": {},
   "source": [
    "아래와 같은 논리를 가지고 있는 함수를 보자"
   ]
  },
  {
   "cell_type": "code",
   "execution_count": null,
   "id": "fundamental-possible",
   "metadata": {},
   "outputs": [],
   "source": [
    "# member={\n",
    "#     'name':'James',\n",
    "#     'age':10,\n",
    "#     'phone':'010-5441-4992'\n",
    "# }\n",
    "member=dict(\n",
    "    name='James',\n",
    "    age=10,\n",
    "    phone='010-5441-4992'\n",
    ")\n",
    "\n",
    "print('name' in member)\n",
    "print('password' in member)"
   ]
  },
  {
   "cell_type": "code",
   "execution_count": null,
   "id": "opponent-density",
   "metadata": {},
   "outputs": [],
   "source": [
    "def foo(key, **kwds):\n",
    "    return key in kwds"
   ]
  },
  {
   "cell_type": "code",
   "execution_count": null,
   "id": "entitled-dealing",
   "metadata": {},
   "outputs": [],
   "source": [
    "foo('name', **member)"
   ]
  },
  {
   "cell_type": "markdown",
   "id": "affecting-atmosphere",
   "metadata": {},
   "source": [
    "딕셔너리의 키(name)와 함수의 매개변수(name)이 충돌이 일어날 수도 있다.\n",
    "\n",
    "매개변수에 name이라는 이름이 중복되기 때문이다.\n",
    "\n",
    "```python\n",
    "name='name', name='James'...\n",
    "```"
   ]
  },
  {
   "cell_type": "code",
   "execution_count": null,
   "id": "fossil-advocacy",
   "metadata": {},
   "outputs": [],
   "source": [
    "def foo(name, **kwds):\n",
    "    return name in kwds"
   ]
  },
  {
   "cell_type": "code",
   "execution_count": null,
   "id": "killing-parent",
   "metadata": {},
   "outputs": [],
   "source": [
    "foo('name', **member)"
   ]
  },
  {
   "cell_type": "markdown",
   "id": "chronic-mystery",
   "metadata": {},
   "source": [
    "그러므로 딕셔너리의 키이름과의 충돌을 피하기위해 특수 매개 변수를 사용할 필요가 있다."
   ]
  },
  {
   "cell_type": "code",
   "execution_count": null,
   "id": "planned-upset",
   "metadata": {},
   "outputs": [],
   "source": [
    "def foo(name, /, **kwds):\n",
    "    return name in kwds"
   ]
  },
  {
   "cell_type": "code",
   "execution_count": null,
   "id": "included-locking",
   "metadata": {},
   "outputs": [],
   "source": [
    "foo('name',**member)"
   ]
  },
  {
   "cell_type": "markdown",
   "id": "chinese-fourth",
   "metadata": {},
   "source": [
    " - 특수 매개변수를 이용해 아래와 같이 사용할 수도 있다."
   ]
  },
  {
   "cell_type": "code",
   "execution_count": null,
   "id": "handed-triple",
   "metadata": {},
   "outputs": [],
   "source": [
    "args = (3, 6)\n",
    "list(range(*args))"
   ]
  },
  {
   "cell_type": "markdown",
   "id": "confirmed-future",
   "metadata": {
    "tags": []
   },
   "source": [
    "## - Documentation"
   ]
  },
  {
   "cell_type": "markdown",
   "id": "metallic-uncertainty",
   "metadata": {},
   "source": [
    "협업을 할 때 모두를 위해 함수에 대한 설명서를 적어두는 것이 좋을 것이다. \n",
    "\n",
    "설사 자신 작성한 함수더라도 긴 시간이 지나면 자신도 어떤 함수였는지 잊어버리게 될 것이다."
   ]
  },
  {
   "cell_type": "code",
   "execution_count": null,
   "id": "ahead-begin",
   "metadata": {},
   "outputs": [],
   "source": [
    "def my_function():\n",
    "    \"\"\"\\\n",
    "    이 my_function 함수는 어떻게 Documentation을 하는지\n",
    "    알리기 위해서 사용되어졌습니다.\n",
    "    \n",
    "    오예~\n",
    "    \"\"\"\n",
    "    pass\n",
    "\n",
    "print(my_function.__doc__)"
   ]
  },
  {
   "cell_type": "markdown",
   "id": "spoken-benefit",
   "metadata": {},
   "source": [
    "`\"\"\"\\`에 `\\`를 추가한 이유는 개행을 막기 위해서이다. 만일 `\\`가 없게 되면 개행이 된 상태로 출력될 것이다."
   ]
  },
  {
   "cell_type": "code",
   "execution_count": null,
   "id": "retained-insurance",
   "metadata": {},
   "outputs": [],
   "source": [
    "def my_function():\n",
    "    \"\"\"\n",
    "    이 my_function 함수는 어떻게 Documentation을 하는지\n",
    "    알리기 위해서 사용되어졌습니다.\n",
    "    \n",
    "    오예~\n",
    "    \"\"\"\n",
    "    pass\n",
    "\n",
    "print(my_function.__doc__)"
   ]
  },
  {
   "cell_type": "markdown",
   "id": "operational-regular",
   "metadata": {},
   "source": [
    "## - Annotation\n",
    " - 어노테이션은 메타데이터 정보\n",
    " - `__annotation__`에 dict로 저장됨\n",
    " - 매개변수 뒤 `:`으로 정의됨\n",
    " - Java와 달리 Python에서의 어노테이션은 사용자에게 인자값의 형태와 반환값을 알려주는 것"
   ]
  },
  {
   "cell_type": "markdown",
   "id": "verbal-discipline",
   "metadata": {},
   "source": [
    "파이썬의 변수는 할당 값에 따라 자료형이 바뀌게 된다.\n",
    "\n",
    "즉, 함수의 매개변수에 문자열이 들어올 수도, 리스트가 들어올 수도, 정수가 들어올 수도 있다는 말이다.\n",
    "\n",
    "비록 어노테이션이 특정 자료형 사용을 강제하지 않지만 함수를 사용하는 개발자에게 좋은 힌트가 될 것이다.\n",
    "\n",
    "개인적으로 협업시 함수를 만들 때 `Documentation`과 `Annotation`을 습관적으로 작성하는 것이 좋다고 생각한다."
   ]
  },
  {
   "cell_type": "code",
   "execution_count": null,
   "id": "tutorial-lithuania",
   "metadata": {},
   "outputs": [],
   "source": [
    "score: int = 91\n",
    "__annotations__"
   ]
  },
  {
   "cell_type": "code",
   "execution_count": null,
   "id": "defined-frost",
   "metadata": {},
   "outputs": [],
   "source": [
    "def f(ham: str, eggs: str = 'eggs') -> int: # 이 함수는 ham과 eggs 매개변수에는 문자열이 들어오고 정수가 반환됩니다.\n",
    "    print(\"Annotations:\", f.__annotations__)\n",
    "    print(\"Arguments:\", ham, eggs)\n",
    "    return 0\n",
    "f('spam')"
   ]
  },
  {
   "cell_type": "markdown",
   "id": "equivalent-vector",
   "metadata": {},
   "source": [
    "<br>\n",
    "<br>\n",
    "<br>\n",
    "<br>\n",
    "<br>\n",
    "<br>\n",
    "<hr>\n",
    "<br>\n",
    "<br>\n",
    "<br>\n",
    "<br>\n",
    "<br>\n",
    "<br>"
   ]
  },
  {
   "cell_type": "markdown",
   "id": "parental-float",
   "metadata": {
    "tags": []
   },
   "source": [
    "# 09. 문자열 다루기"
   ]
  },
  {
   "cell_type": "markdown",
   "id": "educational-klein",
   "metadata": {
    "tags": []
   },
   "source": [
    "## - Escape and Raw"
   ]
  },
  {
   "cell_type": "markdown",
   "id": "supposed-reservoir",
   "metadata": {},
   "source": [
    "파이썬에서 문자열을 표현할 때 `\" ... \"` 혹은 `' ... '`을 사용한다.\n",
    "\n",
    "그래서 문법적으로 쓰이는 쌍따옴표(`\"`)나 홑따옴표(`'`)를 문자열로써 포함시키고 싶을 수 있다.\n",
    "\n",
    "Escape는 `\\`로 표현하고 프로그래밍 문법적 요소로 쓰이는 문자를 문자열로서 사용할 수 있게 해준다.\n",
    "\n",
    "raw는 `r`이란 단어를 맨 앞에 붙여줌으로써 문자열 안에 적힌 그대로 사용할 수 있게 도와준다"
   ]
  },
  {
   "cell_type": "code",
   "execution_count": null,
   "id": "presidential-confidence",
   "metadata": {},
   "outputs": [],
   "source": [
    "print(\"I'am \\\"Iron Man\\\"\") #Escape"
   ]
  },
  {
   "cell_type": "code",
   "execution_count": null,
   "id": "proof-loading",
   "metadata": {},
   "outputs": [],
   "source": [
    "print(r'c:\\Program Files\\Python39') #Raw"
   ]
  },
  {
   "cell_type": "markdown",
   "id": "distant-torture",
   "metadata": {
    "tags": []
   },
   "source": [
    "## - 문자 합체와 반복"
   ]
  },
  {
   "cell_type": "code",
   "execution_count": null,
   "id": "cathedral-education",
   "metadata": {},
   "outputs": [],
   "source": [
    "'Py'\"thon\" #이런식으로 문자열을 합칠 수 있다."
   ]
  },
  {
   "cell_type": "code",
   "execution_count": null,
   "id": "frequent-sheffield",
   "metadata": {},
   "outputs": [],
   "source": [
    "'문''자열''합치기'"
   ]
  },
  {
   "cell_type": "code",
   "execution_count": null,
   "id": "entire-albania",
   "metadata": {},
   "outputs": [],
   "source": [
    "\"파이썬\"\"은\"\"문자열을\"\"다루기\"\"좋다\""
   ]
  },
  {
   "cell_type": "code",
   "execution_count": null,
   "id": "ranking-mediterranean",
   "metadata": {},
   "outputs": [],
   "source": [
    "#  - 두 개 이상의 문자열 리터럴 (즉, 따옴표로 둘러싸인 것들) 가 연속해서 나타나면 자동으로 이어 붙여집니다.\n",
    "text = ('Put several strings within parentheses '\n",
    "        'to have them joined together.')\n",
    "text"
   ]
  },
  {
   "cell_type": "markdown",
   "id": "armed-creek",
   "metadata": {},
   "source": [
    "이것은 오직 두 개의 리터럴에만 적용될 뿐 변수나 표현식에는 해당하지 않습니다: prefix 'thon' -- Error\n",
    "변수들끼리 혹은 변수와 문자열를 이어붙이려면 `+` 를 사용해야 합니다: prefix + 'thon'"
   ]
  },
  {
   "cell_type": "code",
   "execution_count": null,
   "id": "dated-scanner",
   "metadata": {},
   "outputs": [],
   "source": [
    "prefix = \"py\"\n",
    "prefix\"thon\""
   ]
  },
  {
   "cell_type": "code",
   "execution_count": null,
   "id": "manufactured-novel",
   "metadata": {},
   "outputs": [],
   "source": [
    "prefix = \"py\"\n",
    "prefix + \"thon\""
   ]
  },
  {
   "cell_type": "markdown",
   "id": "level-expression",
   "metadata": {},
   "source": [
    "`*`를 통해 n번 반복할 수도 있다"
   ]
  },
  {
   "cell_type": "code",
   "execution_count": null,
   "id": "contemporary-medium",
   "metadata": {},
   "outputs": [],
   "source": [
    "3 * 'Hi ' + 'Welcome'"
   ]
  },
  {
   "cell_type": "markdown",
   "id": "catholic-dublin",
   "metadata": {},
   "source": [
    "## - 문자열 확인"
   ]
  },
  {
   "cell_type": "markdown",
   "id": "armed-alexandria",
   "metadata": {},
   "source": [
    "### * len()"
   ]
  },
  {
   "cell_type": "code",
   "execution_count": null,
   "id": "promotional-virus",
   "metadata": {},
   "outputs": [],
   "source": [
    "s = 'supercalifragilisticexpialidocious' \n",
    "len(s) # 문자열의 길이를 돌려줌"
   ]
  },
  {
   "cell_type": "markdown",
   "id": "chinese-cincinnati",
   "metadata": {},
   "source": [
    "### * in"
   ]
  },
  {
   "cell_type": "code",
   "execution_count": null,
   "id": "genetic-warren",
   "metadata": {},
   "outputs": [],
   "source": [
    "'Py' in 'Python' # include"
   ]
  },
  {
   "cell_type": "markdown",
   "id": "extensive-singing",
   "metadata": {},
   "source": [
    "## - 문자열 Literal 확장"
   ]
  },
  {
   "cell_type": "markdown",
   "id": "young-friend",
   "metadata": {},
   "source": [
    "### * `''' '''` || `\"\"\" \"\"\"`"
   ]
  },
  {
   "cell_type": "code",
   "execution_count": null,
   "id": "smooth-arcade",
   "metadata": {},
   "outputs": [],
   "source": [
    "print('''\n",
    "Usage: python\n",
    "    --version\n",
    "''') "
   ]
  },
  {
   "cell_type": "code",
   "execution_count": null,
   "id": "early-governor",
   "metadata": {},
   "outputs": [],
   "source": [
    "# 개행 없애기\n",
    "print(\"\"\"\\\n",
    "Usage: python\n",
    "    --version\n",
    "\"\"\") "
   ]
  },
  {
   "cell_type": "markdown",
   "id": "lined-milwaukee",
   "metadata": {},
   "source": [
    "### * 인덱스"
   ]
  },
  {
   "cell_type": "code",
   "execution_count": null,
   "id": "flying-halloween",
   "metadata": {},
   "outputs": [],
   "source": [
    "# 문자 인덱스\n",
    "word = 'Python'\n",
    "print(word[0])\n",
    "print(word[-1]) # 0과 -0은 같음. 맨 끝 숫자는 -1"
   ]
  },
  {
   "cell_type": "code",
   "execution_count": null,
   "id": "federal-dover",
   "metadata": {},
   "outputs": [],
   "source": [
    "print(word[:2] + word[2:])\n",
    "print(word[:2] )"
   ]
  },
  {
   "cell_type": "code",
   "execution_count": null,
   "id": "informal-walter",
   "metadata": {},
   "outputs": [],
   "source": [
    "word[100] # 문자 인덱스를 넘을 시 에러"
   ]
  },
  {
   "cell_type": "code",
   "execution_count": null,
   "id": "present-finger",
   "metadata": {},
   "outputs": [],
   "source": [
    "# 하지만, 범위를 벗어나는 슬라이스 인덱스는 슬라이싱할 때 부드럽게 처리됨\n",
    "word[4:42]"
   ]
  },
  {
   "cell_type": "markdown",
   "id": "productive-pixel",
   "metadata": {},
   "source": [
    "### * 문자열은 immutable하다"
   ]
  },
  {
   "cell_type": "markdown",
   "id": "mexican-principal",
   "metadata": {},
   "source": [
    "파이썬 문자열은 변경할 수 없다 — 불변(immutable) 이라고 합니다. 그래서 문자열의 인덱스로 참조한 위치에 대입하려고 하면 에러를 일으킵니다:"
   ]
  },
  {
   "cell_type": "code",
   "execution_count": null,
   "id": "cross-david",
   "metadata": {},
   "outputs": [],
   "source": [
    "word[0] = 'J'"
   ]
  },
  {
   "cell_type": "markdown",
   "id": "incoming-right",
   "metadata": {},
   "source": [
    "다른 문자열이 필요하면, 새로 만들어야 합니다:"
   ]
  },
  {
   "cell_type": "code",
   "execution_count": null,
   "id": "macro-forum",
   "metadata": {},
   "outputs": [],
   "source": [
    "'J' + word[1:]"
   ]
  },
  {
   "cell_type": "markdown",
   "id": "protecting-saying",
   "metadata": {},
   "source": [
    "<br>\n",
    "<br>\n",
    "<br>\n",
    "<br>\n",
    "<br>\n",
    "<br>\n",
    "<hr>\n",
    "<br>\n",
    "<br>\n",
    "<br>\n",
    "<br>\n",
    "<br>\n",
    "<br>"
   ]
  },
  {
   "cell_type": "markdown",
   "id": "pediatric-apple",
   "metadata": {
    "tags": []
   },
   "source": [
    "# 06. 모듈과 패키지"
   ]
  },
  {
   "cell_type": "markdown",
   "id": "interpreted-nomination",
   "metadata": {},
   "source": [
    "## - 모듈"
   ]
  },
  {
   "cell_type": "markdown",
   "id": "still-story",
   "metadata": {},
   "source": [
    "먼저 현재 위치에서 `fibo.py`라는 파일을 추가하고 다음 코드를 추가해보자"
   ]
  },
  {
   "cell_type": "markdown",
   "id": "driven-tribune",
   "metadata": {},
   "source": [
    "```python\n",
    "def fib(n):    # write Fibonacci series up to n\n",
    "    a, b = 0, 1\n",
    "    while a < n:\n",
    "        print(a, end=' ')\n",
    "        a, b = b, a+b\n",
    "    print()\n",
    "\n",
    "def fib2(n):   # return Fibonacci series up to n\n",
    "    result = []\n",
    "    a, b = 0, 1\n",
    "    while a < n:\n",
    "        result.append(a)\n",
    "        a, b = b, a+b\n",
    "    return result\n",
    "```"
   ]
  },
  {
   "cell_type": "markdown",
   "id": "convenient-lighter",
   "metadata": {},
   "source": [
    "아래와 같이 우리가 만든 모듈을 가져와 테스트해보자"
   ]
  },
  {
   "cell_type": "code",
   "execution_count": null,
   "id": "jewish-belfast",
   "metadata": {},
   "outputs": [],
   "source": [
    "import fibo\n",
    "\n",
    "fibo.fib(1000)"
   ]
  },
  {
   "cell_type": "code",
   "execution_count": null,
   "id": "injured-rider",
   "metadata": {},
   "outputs": [],
   "source": [
    "fibo.fib2(100)"
   ]
  },
  {
   "cell_type": "code",
   "execution_count": null,
   "id": "alternate-gardening",
   "metadata": {},
   "outputs": [],
   "source": [
    "fib = fibo.fib\n",
    "fib(500)"
   ]
  },
  {
   "cell_type": "markdown",
   "id": "perceived-democracy",
   "metadata": {},
   "source": [
    "사용할 때마다 모듈 이름을 함께 적어 우리에게 필요한 함수를 호출하는게 불편하다.\n",
    "\n",
    "`from 모듈명 import 가져올 함수 및 클래스`와 같이 사용하면 간편하게 사용할 수 있다."
   ]
  },
  {
   "cell_type": "code",
   "execution_count": null,
   "id": "convertible-nashville",
   "metadata": {},
   "outputs": [],
   "source": [
    "from fibo import fib, fib2\n",
    "fib(500)"
   ]
  },
  {
   "cell_type": "markdown",
   "id": "appreciated-relevance",
   "metadata": {},
   "source": [
    "와일드 카드(*)를 사용하면 모듈안에 있는 모든 함수 및 클래스들을 가져온다."
   ]
  },
  {
   "cell_type": "code",
   "execution_count": null,
   "id": "suffering-tourism",
   "metadata": {},
   "outputs": [],
   "source": [
    "from fibo import *\n",
    "fib(500)"
   ]
  },
  {
   "cell_type": "markdown",
   "id": "patent-roman",
   "metadata": {},
   "source": [
    "`as`를 사용하면 원래 정의되어 있는 이름이 아닌 우리가 원하는 이름으로 사용할 수 있다."
   ]
  },
  {
   "cell_type": "code",
   "execution_count": null,
   "id": "abstract-network",
   "metadata": {},
   "outputs": [],
   "source": [
    "import fibo as fb\n",
    "fb.fib(500)"
   ]
  },
  {
   "cell_type": "code",
   "execution_count": null,
   "id": "isolated-expense",
   "metadata": {},
   "outputs": [],
   "source": [
    "fb.__name__"
   ]
  },
  {
   "cell_type": "code",
   "execution_count": null,
   "id": "quality-bailey",
   "metadata": {},
   "outputs": [],
   "source": [
    "from fibo import fib as fibonacci\n",
    "fibonacci(400)"
   ]
  },
  {
   "cell_type": "markdown",
   "id": "strategic-topic",
   "metadata": {},
   "source": [
    "파이썬은 어떻게 import를 할까? 예를 들어, spam 이라는 이름의 모듈이 임포트될 때, 인터프리터는 먼저 그 이름의 내장 모듈을 찾는다(`built-in`). 발견되지 않으면, 변수 `sys.path` 로 주어지는 디렉터리들에서 spam.py 라는 이름의 파일을 찾는다. `sys.path`는 이 위치들로 초기화된다.\n",
    "\n",
    " - 입력 스크립트를 포함하는 디렉터리 (또는 파일이 지정되지 않았을 때는 현재 디렉터리).\n",
    " - PYTHONPATH (디렉터리 이름들의 목록, 셸 변수 PATH 와 같은 문법).\n",
    " - 설치 의존적인 기본값\n",
    "\n",
    "정리하자면 파이썬은 가장먼저 `sys.modules`을 확인한다. 여기엔 이미 import된 것들이 모여있다.\n",
    "\n",
    "`sys.modules` 덕분에 파이썬은 또 다시 모듈을 찾지 않아도 된다.\n",
    "\n",
    "그 다음으로 `sys.path`를 확인한다.\n",
    "\n",
    "이 모든 과정을 거쳐도 못찾게 되면 에러를 리턴한다.\n",
    "\n",
    "아래 코드를 실행하면 우리가 import한 `fibo`가 있음을 볼 수 있다.\n",
    "\n",
    "`sys` 모듈은 파이썬에서 제공하는 내장 모듈이며 시스템 관련 모듈이다."
   ]
  },
  {
   "cell_type": "markdown",
   "id": "brutal-america",
   "metadata": {},
   "source": [
    " - `sys.modules`"
   ]
  },
  {
   "cell_type": "code",
   "execution_count": null,
   "id": "automatic-gothic",
   "metadata": {},
   "outputs": [],
   "source": [
    "import sys\n",
    "sys.modules"
   ]
  },
  {
   "cell_type": "markdown",
   "id": "adjustable-season",
   "metadata": {},
   "source": [
    " - `sys.path`"
   ]
  },
  {
   "cell_type": "code",
   "execution_count": null,
   "id": "direct-patrol",
   "metadata": {},
   "outputs": [],
   "source": [
    "import sys\n",
    "sys.path"
   ]
  },
  {
   "cell_type": "code",
   "execution_count": null,
   "id": "taken-lesson",
   "metadata": {},
   "outputs": [],
   "source": [
    "import fibo\n",
    "dir(fibo) #인자가 없으면, dir() 는 현재 정의한 이름들을 나열한다."
   ]
  },
  {
   "cell_type": "markdown",
   "id": "incorporated-junction",
   "metadata": {},
   "source": [
    "`dir()` 함수는 내장 함수와 변수들의 이름을 나열하지 않는다. 내장 함수의 목록을 알고 싶다면 표준 모듈 builtins에 정의되어있으니 이 부분을 확인하면 된다."
   ]
  },
  {
   "cell_type": "code",
   "execution_count": null,
   "id": "annual-ordinance",
   "metadata": {},
   "outputs": [],
   "source": [
    "import builtins\n",
    "dir(builtins)"
   ]
  },
  {
   "cell_type": "markdown",
   "id": "individual-exploration",
   "metadata": {},
   "source": [
    "## - 패키지"
   ]
  },
  {
   "cell_type": "markdown",
   "id": "threatened-wednesday",
   "metadata": {},
   "source": [
    "먼저 현재 디렉토리 위치에서 다음과 같은 구조로 디렉토리 및 파이썬 파일들을 구성해보자.\n",
    "\n",
    "```\n",
    "[mypac]\n",
    "  - __init__.py\n",
    "  - [util_before_all]\n",
    "     - __init__.py\n",
    "     - calc.py\n",
    "     - mydeco.py\n",
    "     - stream.py\n",
    "     - tip-canSetAll.py\n",
    "     - tip-initMakeDirToPac\n",
    "```"
   ]
  },
  {
   "cell_type": "markdown",
   "id": "renewable-emergency",
   "metadata": {},
   "source": [
    "`__init__.py`는 해당 디렉토리가 패키지 구성 중 하나임을 알려준다. 만일 본 파일이 없다면 패키지로 인식되지 않는다.\n",
    "\n",
    "물론 파이썬 3.3 버전부터는 본 파일이 없어도 패키지로 인식하지만(`PEP 420`) 본 파일을 생성하는 것이 안전하다."
   ]
  },
  {
   "cell_type": "markdown",
   "id": "typical-colors",
   "metadata": {},
   "source": [
    "이제 아래와 같이 각 파이썬 코드에 코드를 채워보자"
   ]
  },
  {
   "cell_type": "markdown",
   "id": "exceptional-alarm",
   "metadata": {},
   "source": [
    "- calc.py\n",
    " \n",
    "```python\n",
    "from functools import reduce\n",
    "```\n",
    "```python\n",
    "def add(*nums):\n",
    "    return sum(nums)\n",
    "    \n",
    "def mul(*nums):\n",
    "    reduce(lambda x, y: x * y, nums)\n",
    "    \n",
    "def fib(n):\n",
    "    result = []\n",
    "    a, b = 0, 1\n",
    "    while a < n:\n",
    "        result.append(a)\n",
    "        a, b = b, a+b\n",
    "    return result\n",
    "```"
   ]
  },
  {
   "cell_type": "markdown",
   "id": "lyric-electric",
   "metadata": {},
   "source": [
    "- mydeco.py\n",
    "\n",
    "```python\n",
    "class Deco:\n",
    "    def __init__(self, func):\n",
    "        self.func = func\n",
    "        print(\"DECO!!!\")\n",
    "        \n",
    "    def __call__(self, a, b):\n",
    "        print(f'매개변수 정보 {a}, {b}')\n",
    "        return self.func(a,b)\n",
    "\n",
    "class Paradeco:\n",
    "    def __init__(self, nums):\n",
    "        self.nums = nums\n",
    "        \n",
    "    def __call__(self, func):\n",
    "        def wrapper(*, do):\n",
    "            doWhat = None\n",
    "            param = dict(do = do)\n",
    "            if do == \"add\":\n",
    "                doWhat = lambda x : sum(x)\n",
    "            elif do == \"max\":\n",
    "                doWhat = lambda x : max(x)\n",
    "            func(**param)\n",
    "            return doWhat(self.nums) if doWhat != None else \"Invalid\"\n",
    "        return wrapper\n",
    "```"
   ]
  },
  {
   "cell_type": "markdown",
   "id": "verified-fifth",
   "metadata": {},
   "source": [
    " - stream.py\n",
    "\n",
    "```python\n",
    "from functools import reduce\n",
    "from collections import deque\n",
    "\n",
    "class HigherOrder:\n",
    "    def __init__(self, *args):\n",
    "        self.args = args\n",
    "        self.isVerboseMode = False\n",
    "\n",
    "    def verbose(self, isVerboseMode):\n",
    "        self.isVerboseMode = isVerboseMode\n",
    "    \n",
    "    def changeValues(self, *args):\n",
    "        self.args = args\n",
    "\n",
    "    def functionsChain(self, *, mapping = None, filtering = None, reducing = None):\n",
    "        self.isVerboseMode if print(\"Parsing Target : \", self.args) else None\n",
    "        queue = deque([mapping, filtering, reducing])\n",
    "        self.isVerboseMode if print(\"Parsing Steps : \", queue) else None\n",
    "        source = list(self.args)\n",
    "        x = queue.popleft()\n",
    "        self.isVerboseMode if print(\"Mapping Steps : \", x) else None\n",
    "        if x != None:\n",
    "            source = list(map(x,source))\n",
    "            self.isVerboseMode if print(\"Mapping After: \", source) else None\n",
    "        x = queue.popleft()\n",
    "        self.isVerboseMode if print(\"Filtering Steps : \", x) else None\n",
    "        if x != None:\n",
    "            source = filter(x, source)\n",
    "            self.isVerboseMode if print(\"Filtering After: \", source) else None\n",
    "        x = queue.popleft()         \n",
    "        self.isVerboseMode if print(\"Reducing Steps : \", x) else None\n",
    "        if x != None:\n",
    "            source = reduce(x, source)\n",
    "            self.isVerboseMode if print(\"Reducing After: \", source) else None\n",
    "                \n",
    "        self.isVerboseMode if print(\"Result : \", source) else None\n",
    "        \n",
    "        return source\n",
    "```"
   ]
  },
  {
   "cell_type": "markdown",
   "id": "worthy-colorado",
   "metadata": {},
   "source": [
    " - tip-canSetAll.py\n",
    " \n",
    "```python\n",
    "print(\"tip-canSetAll : __init__.py에 __all__이라는 변수 설정을 통해 와일드카드를 사용하여 import할 경우 어떤 모듈만 import한 건지 정할 수 있습니다~^^\")\n",
    "```\n",
    " \n",
    " - tip-initMakeDirToPac.py\n",
    "\n",
    "```python\n",
    "print(\"tip-initMakeDirToPac : __init__.py는 디렉토리를 패키지로 만들어줍니다~^^\")\n",
    "```"
   ]
  },
  {
   "cell_type": "markdown",
   "id": "mounted-stuff",
   "metadata": {},
   "source": [
    "`from package import item` 를 사용할 때, item은 패키지의 서브 모듈 (또는 서브 패키지)일 수도 있고 함수, 클래스, 변수 등 패키지에 정의된 다른 이름들일 수도 있음에 유의하세요. import 문은 먼저 item이 패키지에 정의되어 있는지 검사하고, 그렇지 않으면 모듈이라고 가정하고 로드를 시도합니다. 찾지 못한다면, ImportError 예외를 일으킵니다.\n",
    "\n",
    "이에 반하여, `import item.subitem.subsubitem` 와 같은 문법을 사용할 때, 마지막 것을 제외한 각 항목은 반드시 패키지여야 합니다; 마지막 항목은 모듈이나 패키지가 될 수 있지만, 앞의 항목에서 정의된 클래스, 함수, 변수 등이 될 수는 없습니다."
   ]
  },
  {
   "cell_type": "code",
   "execution_count": null,
   "id": "organized-chambers",
   "metadata": {
    "tags": []
   },
   "outputs": [],
   "source": [
    "import mypac.util_before_all.calc"
   ]
  },
  {
   "cell_type": "markdown",
   "id": "constant-responsibility",
   "metadata": {},
   "source": [
    "잘 가져와졌는지 확인한다."
   ]
  },
  {
   "cell_type": "code",
   "execution_count": null,
   "id": "analyzed-fifth",
   "metadata": {},
   "outputs": [],
   "source": [
    "dir(mypac.util_before_all.calc)"
   ]
  },
  {
   "cell_type": "code",
   "execution_count": null,
   "id": "active-surgeon",
   "metadata": {},
   "outputs": [],
   "source": [
    "mypac.util_before_all.calc.add(100, 200)"
   ]
  },
  {
   "cell_type": "markdown",
   "id": "decent-skiing",
   "metadata": {},
   "source": [
    "그러나 다음과 같이 패키지 이름없이 모듈만 가져오면 에러가 걸린다."
   ]
  },
  {
   "cell_type": "code",
   "execution_count": null,
   "id": "still-acoustic",
   "metadata": {},
   "outputs": [],
   "source": [
    "calc.add(100, 200)"
   ]
  },
  {
   "cell_type": "markdown",
   "id": "allied-highway",
   "metadata": {},
   "source": [
    "그래서 와일드 카드를 사용하여 util_before_all 패키지 안에 들어있는 모듈들을 전부다 가져올려고 한다."
   ]
  },
  {
   "cell_type": "code",
   "execution_count": null,
   "id": "chicken-bracelet",
   "metadata": {},
   "outputs": [],
   "source": [
    "del mypac.util_before_all.calc # 원래 가져왔던 모듈 메모리에서 삭제"
   ]
  },
  {
   "cell_type": "code",
   "execution_count": null,
   "id": "professional-transmission",
   "metadata": {},
   "outputs": [],
   "source": [
    "from mypac.util_before_all import *"
   ]
  },
  {
   "cell_type": "code",
   "execution_count": null,
   "id": "ancient-residence",
   "metadata": {},
   "outputs": [],
   "source": [
    "calc.add(100,200)"
   ]
  },
  {
   "cell_type": "code",
   "execution_count": null,
   "id": "direct-stevens",
   "metadata": {},
   "outputs": [],
   "source": [
    "@mypac.util_before_all.mydeco\n",
    "def add(a, b):\n",
    "    return a + b\n",
    "\n",
    "print(\"======\")\n",
    "add(10, 20)"
   ]
  },
  {
   "cell_type": "code",
   "execution_count": null,
   "id": "sustainable-definition",
   "metadata": {},
   "outputs": [],
   "source": [
    "print('calc' in dir())\n",
    "print('mydeco' in dir())\n",
    "print('stream' in dir())\n",
    "print('tip-canSetAll' in dir())\n",
    "print('tip-initMakeDirToPac' in dir())"
   ]
  },
  {
   "cell_type": "markdown",
   "id": "numeric-excerpt",
   "metadata": {},
   "source": [
    "위와 같이 와일드카드를 통해 모든 모듈을 가져오려면 `__init__.py`에 모듈 공개를 설정해줘야 한다."
   ]
  },
  {
   "cell_type": "markdown",
   "id": "appreciated-lying",
   "metadata": {},
   "source": [
    "현재 디렉토리 위치에서 이전에 만들었던 util_before_all 디렉토리를 복사해 util이라는 이름으로 붙여넣자\n",
    "\n",
    "```\n",
    "[mypac]\n",
    "  - __init__.py\n",
    "  - [util]\n",
    "     - __init__.py\n",
    "     - calc.py\n",
    "     - mydeco.py\n",
    "     - stream.py\n",
    "     - tip-canSetAll.py\n",
    "     - tip-initMakeDirToPac\n",
    "  - [util_before_all]\n",
    "     - __init__.py\n",
    "     - calc.py\n",
    "     - mydeco.py\n",
    "     - stream.py\n",
    "     - tip-canSetAll.py\n",
    "     - tip-initMakeDirToPac\n",
    "```"
   ]
  },
  {
   "cell_type": "markdown",
   "id": "exempt-postage",
   "metadata": {},
   "source": [
    "이제 util에 들어가 `__init__.py`안에 다음과 같이 적어주자"
   ]
  },
  {
   "cell_type": "markdown",
   "id": "narrative-folder",
   "metadata": {},
   "source": [
    "```python\n",
    "__all__ = [\"calc\",\"mydeco\",\"stream\"]\n",
    "```"
   ]
  },
  {
   "cell_type": "markdown",
   "id": "floral-collector",
   "metadata": {},
   "source": [
    "이제 모듈들을 가져와보자"
   ]
  },
  {
   "cell_type": "code",
   "execution_count": null,
   "id": "green-booking",
   "metadata": {},
   "outputs": [],
   "source": [
    "from mypac.util import *"
   ]
  },
  {
   "cell_type": "code",
   "execution_count": null,
   "id": "colonial-representative",
   "metadata": {},
   "outputs": [],
   "source": [
    "print('calc' in dir())\n",
    "print('mydeco' in dir())\n",
    "print('stream' in dir())\n",
    "print('tip-canSetAll' in dir())\n",
    "print('tip-initMakeDirToPac' in dir())"
   ]
  },
  {
   "cell_type": "code",
   "execution_count": null,
   "id": "exciting-popularity",
   "metadata": {},
   "outputs": [],
   "source": [
    "dir(mypac.util)"
   ]
  },
  {
   "cell_type": "code",
   "execution_count": null,
   "id": "veterinary-programmer",
   "metadata": {},
   "outputs": [],
   "source": [
    "calc.add(100,200,300)"
   ]
  },
  {
   "cell_type": "code",
   "execution_count": null,
   "id": "finite-hawaiian",
   "metadata": {},
   "outputs": [],
   "source": [
    "@mydeco.Deco\n",
    "def add(a, b):\n",
    "    return a + b\n",
    "\n",
    "print(\"======\")\n",
    "add(10, 20)"
   ]
  },
  {
   "cell_type": "code",
   "execution_count": null,
   "id": "broadband-jersey",
   "metadata": {
    "tags": []
   },
   "outputs": [],
   "source": [
    "mystream = stream.HigherOrder(1, 2, 3, 4, 5, 6, 7, 8, 9, 10)\n",
    "mystream.verbose(True)\n",
    "mystream.functionsChain(\n",
    "    mapping = lambda x : x * 10,\n",
    "   filtering = lambda x : x % 2 == 0,\n",
    "   reducing = lambda x, y : x + y\n",
    ")"
   ]
  },
  {
   "cell_type": "markdown",
   "id": "uniform-oxide",
   "metadata": {},
   "source": [
    "모두 성공적으로 가져와졌고 사용되어졌다."
   ]
  },
  {
   "cell_type": "markdown",
   "id": "corrected-killer",
   "metadata": {},
   "source": [
    "## - 스크립트 실행"
   ]
  },
  {
   "cell_type": "markdown",
   "id": "operational-beast",
   "metadata": {},
   "source": [
    "터미널을 통해 파이썬 프로그램을 실행하려면 아래와 같이 실행한다.\n",
    "\n",
    "```python\n",
    "python fibo.py <arguments>\n",
    "```\n",
    "\n",
    " - example\n",
    " \n",
    "```python\n",
    "$> python fibo.py 50\n",
    "0 1 1 2 3 5 8 13 21 34\n",
    "```\n",
    "\n",
    "이 때의 모듈의 코드들은 import할 때처럼 실행되고, 내장 변수인 `__name__` 은 `__main__`으로 설정된다."
   ]
  },
  {
   "cell_type": "markdown",
   "id": "governmental-lemon",
   "metadata": {},
   "source": [
    "그래서 파이썬을 스크립트 실행 파일로써 사용하고자 한다면 다음 코드를 추가하면 된다.\n",
    "\n",
    "```python\n",
    "if __name__ == \"__main__\":\n",
    "    import sys\n",
    "    fib(int(sys.argv[1]))\n",
    "```\n",
    "\n",
    "기존에 만들었던 fibo.py에 다음과 같이 추가하고 터미널을 통해 테스트해보자"
   ]
  },
  {
   "cell_type": "markdown",
   "id": "horizontal-nicholas",
   "metadata": {},
   "source": [
    " - `fibo.py`\n",
    " \n",
    "```python\n",
    "def fib(n):    # write Fibonacci series up to n\n",
    "    a, b = 0, 1\n",
    "    while a < n:\n",
    "        print(a, end=' ')\n",
    "        a, b = b, a+b\n",
    "    print()\n",
    "    \n",
    "    \n",
    "```\n",
    "```python\n",
    "def fib2(n):   # return Fibonacci series up to n\n",
    "    result = []\n",
    "    a, b = 0, 1\n",
    "    while a < n:\n",
    "        result.append(a)\n",
    "        a, b = b, a+b\n",
    "    return result\n",
    "\n",
    "\n",
    "```\n",
    "```python\n",
    "if __name__ == \"__main__\":\n",
    "    import sys\n",
    "    fib(int(sys.argv[1]))\n",
    "```"
   ]
  },
  {
   "cell_type": "markdown",
   "id": "french-cigarette",
   "metadata": {},
   "source": [
    "<br>\n",
    "<br>\n",
    "<br>\n",
    "<br>\n",
    "<br>\n",
    "<br>\n",
    "<hr>\n",
    "<br>\n",
    "<br>\n",
    "<br>\n",
    "<br>\n",
    "<br>\n",
    "<br>"
   ]
  },
  {
   "cell_type": "markdown",
   "id": "invisible-burning",
   "metadata": {
    "tags": []
   },
   "source": [
    "# 09. 비동기"
   ]
  },
  {
   "cell_type": "markdown",
   "id": "dutch-uruguay",
   "metadata": {},
   "source": [
    "내용이 방대해 네트워크, 스트림, 쓰레드 등은 다루지 않고 필요한 내용만 다루었다. \n",
    "\n",
    "본 장에서는 고수준 API와 저수준 API 모두 소개했지만 현재 당장은 고수준 API만 알아도 무방할 듯하다."
   ]
  },
  {
   "cell_type": "markdown",
   "id": "marine-andrew",
   "metadata": {},
   "source": [
    "<br><br><br>"
   ]
  },
  {
   "cell_type": "markdown",
   "id": "directed-bunch",
   "metadata": {},
   "source": [
    "## - asyncio\r\n",
    "\r\n",
    "`async/await` 구문을 사용하여 동시성 코드를 작성하는 라이브러리\r\n",
    "\r\n",
    "`고수준 API`와 `저수준 API`를 지원한다.\r\n",
    "\r\n",
    " -  [고수준 API Reference](https://docs.python.org/ko/3/library/asyncio-api-index.html)\r\n",
    "\r\n",
    " -  [저수준 API Reference](https://docs.python.org/ko/3/library/asyncio-llapi-index.html)"
   ]
  },
  {
   "cell_type": "markdown",
   "id": "sitting-parking",
   "metadata": {},
   "source": [
    "```python\n",
    "import asyncio\n",
    "```"
   ]
  },
  {
   "cell_type": "markdown",
   "id": "forced-shore",
   "metadata": {},
   "source": [
    "<br><br><br>"
   ]
  },
  {
   "cell_type": "markdown",
   "id": "polish-knife",
   "metadata": {},
   "source": [
    "## - 고수준 API"
   ]
  },
  {
   "cell_type": "markdown",
   "id": "eligible-library",
   "metadata": {},
   "source": [
    "### * async/await 개요\n",
    "\n",
    "코루틴을 선언할 때는 함수(def) 옆 키워드로 `async`를 붙이면 된다. 그리고 `await`는 `async`로 정의된 함수 안에서만 사용이 가능하며 `await`는 코루틴을 실행하고 끝날 때까지 기다린다."
   ]
  },
  {
   "cell_type": "markdown",
   "id": "demonstrated-keyboard",
   "metadata": {},
   "source": [
    "### * 코루틴 함수 and 코루틴 객체\n",
    "\n",
    "`코루틴 함수`는 `async def`로 선언된 함수를 이야기하고 `코루틴 객체`는 코루틴 함수를 호출하여 반환된 코루틴을 이야기한다."
   ]
  },
  {
   "cell_type": "markdown",
   "id": "incident-farmer",
   "metadata": {},
   "source": [
    "### * awaitable 객체\n",
    "\n",
    "`await` 표현식을 통해 사용할 수 있으면 어웨이터블 객체라고 말한다.\n",
    "\n",
    " - 코루틴(Coroutine)\n",
    " - 태스크(Task)\n",
    " - 퓨처(Futrue)"
   ]
  },
  {
   "cell_type": "markdown",
   "id": "whole-invalid",
   "metadata": {},
   "source": [
    "### * asyncio.run(coro, *, debug=False)\n",
    "\n",
    "동기 코드에서 비동기 코드로 진입하는 부분이다. 선언된 코루틴을 `coro` 위치에 인수로서 대입하면 된다.\n",
    "\n",
    "내부적으로 이벤트 루프(even_loop)를 만들고 코루틴(coroutine)을 실행한 다음 이벤트 루프를 닫는다(close)."
   ]
  },
  {
   "cell_type": "markdown",
   "id": "heavy-transfer",
   "metadata": {},
   "source": [
    "### * asyncio.sleep(delay, result=None, *, loop=None)\n",
    "\n",
    "delay 동안 Blocking한다. 즉, 잠깐 멈춘다.\n",
    "\n",
    "result가 있으면 완료시 호출자에게 반환한다.\n",
    "\n",
    "<hr>"
   ]
  },
  {
   "cell_type": "markdown",
   "id": "swiss-arrow",
   "metadata": {},
   "source": [
    "```python\n",
    "import asyncio\n",
    "\n",
    "async def main():\n",
    "    print('hello')\n",
    "    await asyncio.sleep(1)\n",
    "    print('world')\n",
    "\n",
    "asyncio.run(main());\n",
    "```\n",
    "\n",
    " - 결과\n",
    " \n",
    "```\n",
    "hello\n",
    "world\n",
    "```"
   ]
  },
  {
   "cell_type": "markdown",
   "id": "tough-bread",
   "metadata": {},
   "source": [
    "<hr>\n",
    "\n",
    "또 다른 코드를 실행해보자.\n",
    "\n",
    "<hr>"
   ]
  },
  {
   "cell_type": "markdown",
   "id": "interim-vertex",
   "metadata": {},
   "source": [
    "```python\n",
    "import asyncio\n",
    "import time\n",
    "\n",
    "async def say_after(delay, what):\n",
    "    await asyncio.sleep(delay)\n",
    "    print(what)\n",
    "\n",
    "async def main():\n",
    "    \n",
    "    # the '%X' means Locale’s appropriate time representation.\n",
    "    print(f\"started at {time.strftime('%X')}\") \n",
    "\n",
    "    await say_after(3, 'hello')\n",
    "    await say_after(4, 'world')\n",
    "\n",
    "    print(f\"finished at {time.strftime('%X')}\")\n",
    "\n",
    "asyncio.run(main())\n",
    "```\n",
    "\n",
    " - 결과\n",
    " \n",
    "```\n",
    "started at 00:56:52\n",
    "hello\n",
    "world\n",
    "finished at 00:56:59\n",
    "```"
   ]
  },
  {
   "cell_type": "markdown",
   "id": "incident-shift",
   "metadata": {},
   "source": [
    "<hr>\n",
    "\n",
    "위 코드가 모두 마치기까지 약 7초가 걸렸다. 이유는 먼저 `say_after(3, 'hello')` 코루틴을 실행하고 약 3초간 기다렸다가 마무리된 후 `say_after(4, 'world')` 코루틴에서 4초간 기다렸기 때문이다.\n",
    "\n",
    "`time.strftime()` 함수에 대해 궁금하다면 공식 문서를 참고하자. [click](https://docs.python.org/3.8/library/time.html#time.strftime)\n",
    "\n",
    "때문에 각 코루틴의 결과값에 서로 의존적이지 않다면 각각의 코루틴이 모두 따로 동시에 실행되도록 하는 솔루션이 필요하다."
   ]
  },
  {
   "cell_type": "markdown",
   "id": "tired-vampire",
   "metadata": {},
   "source": [
    "### * asyncio.create_task(coro, *, name=None)\n",
    "\n",
    "흐름을 분기하는 코드이며, 새로운 micro-thread 생성한다.\n",
    "\n",
    "전달 받은 코루틴을 Task로 감싸고 실행을 예약한다.\n",
    "\n",
    "그리고 그러한 Task 객체를 반환한다.\n",
    "\n",
    "name이 None이 아니면 내부적으로 `Task.set_name()`을 사용해 Task 이름을 설정한다.\n",
    "\n",
    "\n",
    "\n",
    "<hr>"
   ]
  },
  {
   "cell_type": "markdown",
   "id": "painted-universal",
   "metadata": {},
   "source": [
    "```python\n",
    "import asyncio\n",
    "import time\n",
    "\n",
    "async def say_after(delay, what):\n",
    "    await asyncio.sleep(delay)\n",
    "    print(what)\n",
    "\n",
    "async def main():\n",
    "    coro1 =  say_after(3, 'hello')\n",
    "    coro2 =  say_after(4, 'world')\n",
    "\n",
    "    task1 = asyncio.create_task(coro1)\n",
    "    task2 = asyncio.create_task(coro2)\n",
    "\n",
    "    print(f\"started at {time.strftime('%X')}\")\n",
    "\n",
    "    await task1\n",
    "    await task2\n",
    "\n",
    "    print(f\"finished at {time.strftime('%X')}\")\n",
    "\n",
    "asyncio.run(main())\n",
    "```\n",
    "\n",
    " - 결과\n",
    " \n",
    "```\n",
    "started at 01:09:12\n",
    "hello\n",
    "world\n",
    "finished at 01:09:16\n",
    "```"
   ]
  },
  {
   "cell_type": "markdown",
   "id": "pharmaceutical-maintenance",
   "metadata": {},
   "source": [
    "<hr>\n",
    "\n",
    "위에 결과를 보면 알 수 있듯이 각 코루틴이 Task 객체로 감싸져서 나왔고 코루틴을 실행했던 것처럼 `await` 키워드를 통해 비동기적인 실행을 하였다. 그러나 각 코루틴이 끝날 때까지 기다렸다가 다음 코루틴 작업으로 넘어가는 것이 아니라 동시에 실행한 것을 볼 수 있다."
   ]
  },
  {
   "cell_type": "markdown",
   "id": "bulgarian-calcium",
   "metadata": {},
   "source": [
    "또다른 예제를 살펴보자.\n",
    "\n",
    "<hr>"
   ]
  },
  {
   "cell_type": "markdown",
   "id": "brief-slope",
   "metadata": {},
   "source": [
    "```python\n",
    "import asyncio\n",
    "\n",
    "async def saying(interval, what, how_many):\n",
    "    while how_many > 0:\n",
    "        await asyncio.sleep(interval)\n",
    "        print(what)\n",
    "        how_many -= 1\n",
    "\n",
    "async def main():\n",
    "    coro1 =  saying(1, 'hello', 5)\n",
    "    coro2 =  saying(2, 'world', 3)\n",
    "\n",
    "    await coro1\n",
    "    await coro2\n",
    "\n",
    "asyncio.run(main())\n",
    "```\n",
    "\n",
    " - 결과\n",
    " \n",
    "```\n",
    "hello\n",
    "hello\n",
    "hello\n",
    "hello\n",
    "hello\n",
    "world\n",
    "world\n",
    "world\n",
    "```"
   ]
  },
  {
   "cell_type": "markdown",
   "id": "encouraging-resident",
   "metadata": {},
   "source": [
    "<hr>\n",
    "\n",
    "본 예제도 마찬가지로 코루틴 프로그래밍을 통해 비동기적인 프로그램 실행을 노렸지만 결과적으로는 마치 동기적으로 실행되어버린 케이스다.\n",
    "\n",
    "물론 `create_task()` 함수를 통해 코루틴을 Task 객체로 감싸서 동시에 처리할 수 있다.\n",
    "\n",
    "<hr>"
   ]
  },
  {
   "cell_type": "markdown",
   "id": "wooden-building",
   "metadata": {},
   "source": [
    "```python\n",
    "import asyncio\n",
    "\n",
    "async def saying(interval, what, how_many):\n",
    "    while how_many > 0:\n",
    "        await asyncio.sleep(interval)\n",
    "        print(what)\n",
    "        how_many -= 1\n",
    "\n",
    "async def main():\n",
    "    coro1 =  saying(1, 'hello', 5)\n",
    "    coro2 =  saying(2, 'world', 3)\n",
    "    coro3 =  saying(3, 'python', 2)\n",
    "\n",
    "    task1 = asyncio.create_task(coro1)\n",
    "    task2 = asyncio.create_task(coro2)\n",
    "    task3 = asyncio.create_task(coro3)\n",
    "\n",
    "    await task1\n",
    "    await task2\n",
    "    await task3\n",
    "\n",
    "asyncio.run(main())\n",
    "```\n",
    "\n",
    " - 결과\n",
    " \n",
    "```\n",
    "hello\n",
    "world\n",
    "hello\n",
    "python\n",
    "hello\n",
    "world\n",
    "hello\n",
    "hello\n",
    "world\n",
    "python\n",
    "```"
   ]
  },
  {
   "cell_type": "markdown",
   "id": "center-difference",
   "metadata": {},
   "source": [
    "<hr>\n",
    "\n",
    "그리고 `gather()` 함수로도 여러가지를 동시에 예약하고 처리할 수도 있다. \n",
    "\n",
    "### * asyncio.gather(*aws, loop=None, return_exceptions=False)\n",
    "\n",
    "aws 파라미터에 들어간 코루틴 객체들을 자동으로 태스크로 예약시키고 동시에 실행한다. 처리 결과값들은 선언된 순서와 일치한다.\n",
    "\n",
    "<hr>"
   ]
  },
  {
   "cell_type": "markdown",
   "id": "indoor-kidney",
   "metadata": {},
   "source": [
    "```python\n",
    "import asyncio\n",
    "\n",
    "async def saying(interval, what, how_many):\n",
    "    while how_many > 0:\n",
    "        await asyncio.sleep(interval)\n",
    "        print(what)\n",
    "        how_many -= 1\n",
    "    return what\n",
    "\n",
    "async def main():\n",
    "    coro1 =  saying(1, 'hello', 5)\n",
    "    coro2 =  saying(2, 'world', 3)\n",
    "    coro3 =  saying(3, 'python', 2)\n",
    "\n",
    "    coro_result_list = await asyncio.gather(\n",
    "        coro1, coro2, coro3\n",
    "    )\n",
    "    print(coro_result_list)\n",
    "\n",
    "asyncio.run(main())\n",
    "```\n",
    "\n",
    " - 결과\n",
    " \n",
    "```\n",
    "hello\n",
    "world\n",
    "hello\n",
    "python\n",
    "hello\n",
    "hello\n",
    "world\n",
    "hello\n",
    "python\n",
    "world\n",
    "['hello', 'world', 'python']\n",
    "```"
   ]
  },
  {
   "cell_type": "markdown",
   "id": "guided-quilt",
   "metadata": {},
   "source": [
    "<hr>"
   ]
  },
  {
   "cell_type": "markdown",
   "id": "sixth-exposure",
   "metadata": {},
   "source": [
    "<br><br><br>"
   ]
  },
  {
   "cell_type": "markdown",
   "id": "immune-context",
   "metadata": {},
   "source": [
    "## - 저수준 API"
   ]
  },
  {
   "cell_type": "markdown",
   "id": "compact-maintenance",
   "metadata": {},
   "source": [
    "asyncio 모듈의 고수준 API는 응용 프로그램 개발자를 위한 것이었다면, 저수준 API는 라이브러리와 프레임워크 개발자를 위한 것이다.\n",
    "\n",
    "아래 코드는 이미 위에서 경험한 고수준 API를 이용한 프로그램이다."
   ]
  },
  {
   "cell_type": "markdown",
   "id": "opposite-psychiatry",
   "metadata": {},
   "source": [
    "<hr>"
   ]
  },
  {
   "cell_type": "markdown",
   "id": "limiting-russian",
   "metadata": {},
   "source": [
    "```python\n",
    "import asyncio\n",
    "\n",
    "async def main():\n",
    "    print('hello')\n",
    "    await asyncio.sleep(1)\n",
    "    print('world')\n",
    "\n",
    "asyncio.run(main());\n",
    "```\n",
    "\n",
    " - 결과\n",
    " \n",
    "```\n",
    "hello\n",
    "world\n",
    "```"
   ]
  },
  {
   "cell_type": "markdown",
   "id": "latter-christianity",
   "metadata": {},
   "source": [
    "<hr>"
   ]
  },
  {
   "cell_type": "markdown",
   "id": "caroline-frederick",
   "metadata": {},
   "source": [
    "이를 저수준 API 형식으로 바꾸면 다음과 같다."
   ]
  },
  {
   "cell_type": "markdown",
   "id": "rough-neighborhood",
   "metadata": {},
   "source": [
    "<hr>"
   ]
  },
  {
   "cell_type": "markdown",
   "id": "suited-samoa",
   "metadata": {},
   "source": [
    "```python\n",
    "import asyncio\n",
    "\n",
    "async def main():\n",
    "    print('hello')\n",
    "    await asyncio.sleep(1)\n",
    "    print('world')\n",
    "\n",
    "loop = asyncio.get_event_loop()\n",
    "loop.run_until_complete(main())\n",
    "loop.close()\n",
    "```\n",
    "\n",
    " - 결과\n",
    " \n",
    "```\n",
    "hello\n",
    "world\n",
    "```"
   ]
  },
  {
   "cell_type": "markdown",
   "id": "timely-stadium",
   "metadata": {},
   "source": [
    "<hr>"
   ]
  },
  {
   "cell_type": "markdown",
   "id": "adverse-sodium",
   "metadata": {},
   "source": [
    "왜 `asyncio.run()`와 똑같이 동작할까? 이 함수에 대한 설명을 다시 살펴보자. 이 안에 답이 있다."
   ]
  },
  {
   "cell_type": "markdown",
   "id": "conservative-serve",
   "metadata": {},
   "source": [
    "### * asyncio.run()\n",
    "\n",
    "동기 코드에서 비동기 코드로 진입하는 부분이다. 선언된 코루틴을 `coro` 위치에 인수로서 대입하면 된다.\n",
    "\n",
    "내부적으로 이벤트 루프(even_loop)를 만들고 코루틴(coroutine)을 실행한 다음 이벤트 루프를 닫는다(close)."
   ]
  },
  {
   "cell_type": "markdown",
   "id": "detailed-cattle",
   "metadata": {},
   "source": [
    "여기서 주목할 부분은 다음과 같다.\n",
    "\n",
    "```\n",
    "...\n",
    "...\n",
    "내부적으로 이벤트 루프(even_loop)를 만들고 코루틴(coroutine)을 실행한 다음 이벤트 루프를 닫는다(close).\n",
    "...\n",
    "...\n",
    "```\n",
    "\n",
    "이 말은 아래 코드를 말하는 것이다.\n",
    "\n",
    "```python\n",
    "loop = asyncio.get_event_loop()\n",
    "loop.run_until_complete(main())\n",
    "loop.close()\n",
    "```"
   ]
  },
  {
   "cell_type": "markdown",
   "id": "expanded-concord",
   "metadata": {},
   "source": [
    "### * asyncio.get_event_loop()\n",
    "\n",
    "현재 사용중인 이벤트 루프를 가져온다. \n",
    "\n",
    "파이썬 공식 문서에서는 이러한 저수준의 함수를 사용하여 수동으로 이벤트 루프를 생성하고 닫는 대신 그냥 `asyncio.run()` 함수를 사용하는 것을 고려하라고 한다."
   ]
  },
  {
   "cell_type": "markdown",
   "id": "hollow-ceiling",
   "metadata": {},
   "source": [
    "### * loop.run_until_complete(future)\n",
    " Future의 인스턴스가 완료가 될 때까지 실행하고 만일 Future 객체가 아니라 코루틴 객체가 들어오면 TasK 객체로 실행되도록 묵시적으로 예약된다."
   ]
  },
  {
   "cell_type": "markdown",
   "id": "solar-scenario",
   "metadata": {
    "jp-MarkdownHeadingCollapsed": true,
    "tags": []
   },
   "source": [
    "### * loop.close()\n",
    "\n",
    "이벤트 루트를 닫는다."
   ]
  }
 ],
 "metadata": {
  "kernelspec": {
   "display_name": "Python 3 (ipykernel)",
   "language": "python",
   "name": "python3"
  },
  "language_info": {
   "codemirror_mode": {
    "name": "ipython",
    "version": 3
   },
   "file_extension": ".py",
   "mimetype": "text/x-python",
   "name": "python",
   "nbconvert_exporter": "python",
   "pygments_lexer": "ipython3",
   "version": "3.9.7"
  }
 },
 "nbformat": 4,
 "nbformat_minor": 5
}
